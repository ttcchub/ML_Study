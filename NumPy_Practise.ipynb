{
 "cells": [
  {
   "cell_type": "code",
   "execution_count": 16,
   "id": "7bc8328b-6077-416c-b80d-25810e848dc5",
   "metadata": {},
   "outputs": [],
   "source": [
    "import numpy as np\n",
    "np.random.seed(1720)\n",
    "x1 = np.random.randint(10, size=6)\n",
    "x2 = np.random.randint(10, size=(3,4)) \n",
    "x3 = np.random.randint(10, size=(3,4,5))"
   ]
  },
  {
   "cell_type": "code",
   "execution_count": 17,
   "id": "ccf724e8-0503-4842-801f-296ba35e4d8c",
   "metadata": {},
   "outputs": [
    {
     "name": "stdout",
     "output_type": "stream",
     "text": [
      "x3 ndim:  3\n",
      "x3 shape:  (3, 4, 5)\n",
      "x3 size:  60\n",
      "x3 dtype:  int64\n"
     ]
    }
   ],
   "source": [
    "print (\"x3 ndim: \", x3.ndim)\n",
    "print (\"x3 shape: \", x3.shape)\n",
    "print (\"x3 size: \",  x3.size)\n",
    "\n",
    "print(\"x3 dtype: \", x3.dtype)"
   ]
  },
  {
   "cell_type": "code",
   "execution_count": null,
   "id": "177ce5a7-4d3c-4cfe-981b-56adf7985a6c",
   "metadata": {},
   "outputs": [],
   "source": []
  },
  {
   "cell_type": "code",
   "execution_count": 18,
   "id": "e6334914-906c-4bd6-b499-5456e3902246",
   "metadata": {},
   "outputs": [
    {
     "data": {
      "text/plain": [
       "array([0, 7, 4, 7, 4, 0])"
      ]
     },
     "execution_count": 18,
     "metadata": {},
     "output_type": "execute_result"
    }
   ],
   "source": [
    "x1"
   ]
  },
  {
   "cell_type": "code",
   "execution_count": 19,
   "id": "fb8405be-7405-4dbd-a66d-efd18c63ca1c",
   "metadata": {},
   "outputs": [
    {
     "data": {
      "text/plain": [
       "0"
      ]
     },
     "execution_count": 19,
     "metadata": {},
     "output_type": "execute_result"
    }
   ],
   "source": [
    "x1[0]"
   ]
  },
  {
   "cell_type": "code",
   "execution_count": 21,
   "id": "48d6eb40-50bd-4345-a65a-c5501bf07d82",
   "metadata": {},
   "outputs": [
    {
     "data": {
      "text/plain": [
       "4"
      ]
     },
     "execution_count": 21,
     "metadata": {},
     "output_type": "execute_result"
    }
   ],
   "source": [
    "x1[-2]"
   ]
  },
  {
   "cell_type": "code",
   "execution_count": 25,
   "id": "abab5873-5f15-4fdf-af18-95038c7b22a9",
   "metadata": {},
   "outputs": [
    {
     "data": {
      "text/plain": [
       "array([[3, 4, 8, 2],\n",
       "       [2, 8, 4, 8],\n",
       "       [6, 3, 7, 8]])"
      ]
     },
     "execution_count": 25,
     "metadata": {},
     "output_type": "execute_result"
    }
   ],
   "source": [
    "x2"
   ]
  },
  {
   "cell_type": "code",
   "execution_count": 30,
   "id": "1589d3d2-8285-4a13-bc0e-e2dbb4433b49",
   "metadata": {},
   "outputs": [
    {
     "data": {
      "text/plain": [
       "8"
      ]
     },
     "execution_count": 30,
     "metadata": {},
     "output_type": "execute_result"
    }
   ],
   "source": [
    "x2[2,-1]"
   ]
  },
  {
   "cell_type": "code",
   "execution_count": 32,
   "id": "a307bf53-3bc8-4f25-ab63-3b7fe654deaa",
   "metadata": {},
   "outputs": [],
   "source": [
    "x2[0,0]=12"
   ]
  },
  {
   "cell_type": "code",
   "execution_count": 33,
   "id": "589621c8-ff48-4ad2-8bc3-278576c48d25",
   "metadata": {},
   "outputs": [
    {
     "data": {
      "text/plain": [
       "array([[12,  4,  8,  2],\n",
       "       [ 2,  8,  4,  8],\n",
       "       [ 6,  3,  7,  8]])"
      ]
     },
     "execution_count": 33,
     "metadata": {},
     "output_type": "execute_result"
    }
   ],
   "source": [
    "x2"
   ]
  },
  {
   "cell_type": "code",
   "execution_count": 35,
   "id": "4848df33-d17f-45fd-a965-41ccaf4f2a12",
   "metadata": {},
   "outputs": [
    {
     "data": {
      "text/plain": [
       "array([3, 7, 4, 7, 4, 0])"
      ]
     },
     "execution_count": 35,
     "metadata": {},
     "output_type": "execute_result"
    }
   ],
   "source": [
    "x1[0]=3.14159\n",
    "x1"
   ]
  },
  {
   "cell_type": "code",
   "execution_count": null,
   "id": "59eb1248-f3f2-44ed-b97f-3e321f5ffbdc",
   "metadata": {},
   "outputs": [],
   "source": []
  },
  {
   "cell_type": "code",
   "execution_count": null,
   "id": "a03de592-51e7-45fc-acb5-06fb0827d89a",
   "metadata": {},
   "outputs": [],
   "source": []
  },
  {
   "cell_type": "code",
   "execution_count": 46,
   "id": "14d44ef1-0dbf-4eb1-9978-447507c8f227",
   "metadata": {},
   "outputs": [
    {
     "data": {
      "text/plain": [
       "[40, 40, 80, 100, 20, 40, 0, 100, 60, 0]"
      ]
     },
     "execution_count": 46,
     "metadata": {},
     "output_type": "execute_result"
    }
   ],
   "source": [
    "import random\n",
    "\n",
    "# Generate a list of random numbers from 0 to 100 with a step of 20\n",
    "random_numbers = [choice(range(0, 101, 20)) for _ in range(10)]\n",
    "random_numbers"
   ]
  },
  {
   "cell_type": "code",
   "execution_count": 80,
   "id": "2a52e5e8-3780-48ac-babf-7f915d50f396",
   "metadata": {},
   "outputs": [
    {
     "data": {
      "text/plain": [
       "array([[ 8, 89, 17],\n",
       "       [ 5, 63, 93],\n",
       "       [ 2,  5, 90]])"
      ]
     },
     "execution_count": 80,
     "metadata": {},
     "output_type": "execute_result"
    }
   ],
   "source": [
    "np.random.randint(0,100,(3,3))"
   ]
  },
  {
   "cell_type": "code",
   "execution_count": 74,
   "id": "6f2ded42-4dcb-433a-8071-dc81382bf9b8",
   "metadata": {},
   "outputs": [
    {
     "data": {
      "text/plain": [
       "[0,\n",
       " 5,\n",
       " 10,\n",
       " 15,\n",
       " 20,\n",
       " 25,\n",
       " 30,\n",
       " 35,\n",
       " 40,\n",
       " 45,\n",
       " 50,\n",
       " 55,\n",
       " 60,\n",
       " 65,\n",
       " 70,\n",
       " 75,\n",
       " 80,\n",
       " 85,\n",
       " 90,\n",
       " 95,\n",
       " 100]"
      ]
     },
     "execution_count": 74,
     "metadata": {},
     "output_type": "execute_result"
    }
   ],
   "source": [
    "# Generate a list of numbers from 0 to 100 with a step of 20\n",
    "numbers = list(range(0, 101, 5))\n",
    "numbers"
   ]
  },
  {
   "cell_type": "code",
   "execution_count": null,
   "id": "f99ebf4c-1349-4671-8a01-09c25a2b33a0",
   "metadata": {},
   "outputs": [],
   "source": []
  },
  {
   "cell_type": "code",
   "execution_count": 65,
   "id": "240decc4-7e3b-4a22-8f41-b7b171812091",
   "metadata": {},
   "outputs": [
    {
     "data": {
      "text/plain": [
       "[0, 5, 10, 15, 20, 25, 30, 35, 40, 45, 50, 55, 60, 65, 70, 75, 80, 85, 90, 95]"
      ]
     },
     "execution_count": 65,
     "metadata": {},
     "output_type": "execute_result"
    }
   ],
   "source": [
    "numbers [:20]"
   ]
  },
  {
   "cell_type": "code",
   "execution_count": 66,
   "id": "4f4e997c-ca6f-4f7a-92e4-1390b00aa8ef",
   "metadata": {},
   "outputs": [
    {
     "data": {
      "text/plain": [
       "[100,\n",
       " 95,\n",
       " 90,\n",
       " 85,\n",
       " 80,\n",
       " 75,\n",
       " 70,\n",
       " 65,\n",
       " 60,\n",
       " 55,\n",
       " 50,\n",
       " 45,\n",
       " 40,\n",
       " 35,\n",
       " 30,\n",
       " 25,\n",
       " 20,\n",
       " 15,\n",
       " 10,\n",
       " 5,\n",
       " 0]"
      ]
     },
     "execution_count": 66,
     "metadata": {},
     "output_type": "execute_result"
    }
   ],
   "source": [
    "numbers [::-1]"
   ]
  },
  {
   "cell_type": "code",
   "execution_count": null,
   "id": "1e48a5ff-17c7-43aa-aca5-ab6e630582c4",
   "metadata": {},
   "outputs": [],
   "source": []
  },
  {
   "cell_type": "code",
   "execution_count": 69,
   "id": "0c96c734-7538-43bb-9895-620609ad4046",
   "metadata": {},
   "outputs": [
    {
     "data": {
      "text/plain": [
       "[50, 45, 40, 35, 30, 25, 20, 15, 10, 5, 0]"
      ]
     },
     "execution_count": 69,
     "metadata": {},
     "output_type": "execute_result"
    }
   ],
   "source": [
    "numbers [10::-1]"
   ]
  },
  {
   "cell_type": "code",
   "execution_count": 121,
   "id": "34ef8d55-c1e6-4fbd-a43f-247d14bd0c58",
   "metadata": {},
   "outputs": [
    {
     "data": {
      "text/plain": [
       "array([[ 27,  66,  50,  18,  85,  49,  80,  92,  32,  15],\n",
       "       [ 24,  80,   6,  21,  27,  14,  23,  51,  80,  14],\n",
       "       [100,  61,  52,  82,  31,  12,  12,  14,  35,  28],\n",
       "       [  4,  58,  42,  40,  46,  70,  58,  30,  25,  34],\n",
       "       [ 44,  74,  40,  30,   1,   9,  71,  15,  59,  21],\n",
       "       [ 54,  55,  66,  12,  96,  96,  35,  59,  46,  59],\n",
       "       [ 63,  36,  72,  51,  78,  62,  29,  65,  75,  83],\n",
       "       [ 81,  12,  45,  96,  98,  71,  77,  24,  39,  60],\n",
       "       [ 16,  70,  64,   5,  39,  25,  43,  68,  80,   0],\n",
       "       [ 55,  27,  51,  31,  89,  92,  22,  65,  24,   3]])"
      ]
     },
     "execution_count": 121,
     "metadata": {},
     "output_type": "execute_result"
    }
   ],
   "source": [
    "# Generate a 5x5 matrix of random integers from 0 to 100\n",
    "random_matrix_5x5 = np.random.randint(0, 101, (10, 10))\n",
    "random_matrix_5x5"
   ]
  },
  {
   "cell_type": "code",
   "execution_count": 107,
   "id": "b7fadd72-65e7-4171-b6d1-29d8ba23bca3",
   "metadata": {},
   "outputs": [
    {
     "data": {
      "text/plain": [
       "array([[ 92,  71,   9,  33,  64,  58,   5,   4,  46,  83],\n",
       "       [ 43,  85,  14,  92,  73,  31,  56,  31,  36,  96],\n",
       "       [ 79,  71,  12,  11,  21,   9,  34,  73,  31,  92],\n",
       "       [ 72,  36,  91,  17,  73,  86,   1,  80,   6,  91],\n",
       "       [ 24,  21,  21,  41,  79,   0,  28,  33,  93,  37],\n",
       "       [ 31,  88,  84,  99,  76,   5,  97,  32,  85,  89],\n",
       "       [ 37,   3,  33,  30,  35,  60,  39,   7,  92,  62],\n",
       "       [ 55,  20,  29,  13,  86,  93,  41,  39,  87,  57],\n",
       "       [  7,  16,  13, 100,  35,  34,  81,  59,  70,  10],\n",
       "       [ 75,  71,  27,  22,  11,  30,  71,  38,  71,  17]])"
      ]
     },
     "execution_count": 107,
     "metadata": {},
     "output_type": "execute_result"
    }
   ],
   "source": [
    "random_matrix_5x5[::-1, ::-1 ] #reversed"
   ]
  },
  {
   "cell_type": "code",
   "execution_count": 109,
   "id": "e185273b-39a7-428a-9aff-73e20725d6f3",
   "metadata": {},
   "outputs": [
    {
     "data": {
      "text/plain": [
       "array([[17, 71, 38],\n",
       "       [10, 70, 59],\n",
       "       [57, 87, 39],\n",
       "       [62, 92,  7],\n",
       "       [89, 85, 32],\n",
       "       [37, 93, 33],\n",
       "       [91,  6, 80],\n",
       "       [92, 31, 73],\n",
       "       [96, 36, 31],\n",
       "       [83, 46,  4]])"
      ]
     },
     "execution_count": 109,
     "metadata": {},
     "output_type": "execute_result"
    }
   ],
   "source": [
    "random_matrix_5x5[:10, :3 ]"
   ]
  },
  {
   "cell_type": "code",
   "execution_count": 110,
   "id": "9d15e75c-b9e1-4c7f-ab1c-d74eb3ec538f",
   "metadata": {},
   "outputs": [
    {
     "data": {
      "text/plain": [
       "array([17, 10, 57, 62, 89, 37, 91, 92, 96, 83])"
      ]
     },
     "execution_count": 110,
     "metadata": {},
     "output_type": "execute_result"
    }
   ],
   "source": [
    "random_matrix_5x5[:, 0] #column"
   ]
  },
  {
   "cell_type": "code",
   "execution_count": 112,
   "id": "27dcc058-f29d-4062-954f-644f24e80c13",
   "metadata": {},
   "outputs": [
    {
     "data": {
      "text/plain": [
       "array([17, 71, 38, 71, 30, 11, 22, 27, 71, 75])"
      ]
     },
     "execution_count": 112,
     "metadata": {},
     "output_type": "execute_result"
    }
   ],
   "source": [
    "random_matrix_5x5[0, :] #row"
   ]
  },
  {
   "cell_type": "code",
   "execution_count": 153,
   "id": "97d4beac-a68c-44ef-babe-cddf4da21c2b",
   "metadata": {},
   "outputs": [
    {
     "data": {
      "text/plain": [
       "array([[0, 0, 0, 0, 0],\n",
       "       [0, 0, 0, 0, 0],\n",
       "       [0, 0, 0, 0, 0]])"
      ]
     },
     "execution_count": 153,
     "metadata": {},
     "output_type": "execute_result"
    }
   ],
   "source": [
    "random_matrix_5x5[:3, ::2] #row"
   ]
  },
  {
   "cell_type": "code",
   "execution_count": null,
   "id": "19a21e50-cf0d-485a-9bfc-25d538b4f43f",
   "metadata": {},
   "outputs": [],
   "source": []
  },
  {
   "cell_type": "code",
   "execution_count": 162,
   "id": "77d9501f-2f5b-4787-9923-796012cf0ed9",
   "metadata": {},
   "outputs": [
    {
     "name": "stdout",
     "output_type": "stream",
     "text": [
      "[[ 0 66  0 18  0 49  0 92  0 15]\n",
      " [ 0 80  0 21  0 14  0 51  0 14]\n",
      " [ 0 61  0 82  0 12  0 14  0 28]]\n"
     ]
    }
   ],
   "source": [
    "sub = random_matrix_5x5[:3, ::1]\n",
    "print(sub)"
   ]
  },
  {
   "cell_type": "code",
   "execution_count": null,
   "id": "b786d364-4d1d-4fb4-a618-8056584eb45a",
   "metadata": {},
   "outputs": [],
   "source": []
  },
  {
   "cell_type": "code",
   "execution_count": 177,
   "id": "176320a2-7481-4d87-8d0e-403fb7f81507",
   "metadata": {},
   "outputs": [
    {
     "name": "stdout",
     "output_type": "stream",
     "text": [
      "[[ 0 66  0 18  0 49  0 92  0 15]\n",
      " [ 0 80  0 21  0 14  0 51  0 14]\n",
      " [ 0 61  0 82  0 12  0 14  0 28]]\n"
     ]
    }
   ],
   "source": [
    "sub_copy = sub.copy()\n",
    "print(sub_copy)"
   ]
  },
  {
   "cell_type": "code",
   "execution_count": null,
   "id": "f6d676b6-c19f-4500-9fd1-15d7c29f45a5",
   "metadata": {},
   "outputs": [],
   "source": []
  },
  {
   "cell_type": "code",
   "execution_count": 178,
   "id": "7ab13910-76f6-4141-8c52-23a09559135c",
   "metadata": {},
   "outputs": [
    {
     "name": "stdout",
     "output_type": "stream",
     "text": [
      "[[1 2 3]\n",
      " [4 5 6]\n",
      " [7 8 9]]\n"
     ]
    }
   ],
   "source": [
    "grid = np.arange(1,10).reshape(3,3)\n",
    "print(grid)"
   ]
  },
  {
   "cell_type": "code",
   "execution_count": 179,
   "id": "99bd24d6-5dae-49c4-a06e-730d942bc7fb",
   "metadata": {},
   "outputs": [
    {
     "name": "stdout",
     "output_type": "stream",
     "text": [
      "[[1 2 3]\n",
      " [4 5 6]\n",
      " [7 8 9]]\n"
     ]
    }
   ],
   "source": [
    "\n",
    "grid = np.arange(1,10).reshape(3,3)\n",
    "print(grid)"
   ]
  },
  {
   "cell_type": "code",
   "execution_count": null,
   "id": "135885b6-12d0-4161-9acf-9a18e3d01416",
   "metadata": {},
   "outputs": [],
   "source": []
  },
  {
   "cell_type": "code",
   "execution_count": 184,
   "id": "12e2483b-847a-4f79-b878-d7666fda5f72",
   "metadata": {},
   "outputs": [
    {
     "data": {
      "text/plain": [
       "array([[1, 2, 3]])"
      ]
     },
     "execution_count": 184,
     "metadata": {},
     "output_type": "execute_result"
    }
   ],
   "source": [
    "x = np.array([1,2,3])\n",
    "x.reshape((1,3))\n"
   ]
  },
  {
   "cell_type": "code",
   "execution_count": null,
   "id": "a830f091-b2e5-4881-9788-e1b564b90cd8",
   "metadata": {},
   "outputs": [],
   "source": []
  },
  {
   "cell_type": "code",
   "execution_count": 187,
   "id": "ab83c4a5-ad3f-401a-b301-7f53da3fcbdc",
   "metadata": {},
   "outputs": [
    {
     "data": {
      "text/plain": [
       "array([[1],\n",
       "       [2],\n",
       "       [3]])"
      ]
     },
     "execution_count": 187,
     "metadata": {},
     "output_type": "execute_result"
    }
   ],
   "source": [
    "x.reshape((3,1))\n"
   ]
  },
  {
   "cell_type": "code",
   "execution_count": null,
   "id": "dfa99574-e61e-40f0-afcf-bfb5373b92b8",
   "metadata": {},
   "outputs": [],
   "source": []
  },
  {
   "cell_type": "code",
   "execution_count": 191,
   "id": "a8df361e-c9d9-43e3-b211-bbb96a2f218d",
   "metadata": {},
   "outputs": [
    {
     "data": {
      "text/plain": [
       "array([[1, 2, 3]])"
      ]
     },
     "execution_count": 191,
     "metadata": {},
     "output_type": "execute_result"
    }
   ],
   "source": [
    "x[np.newaxis, : ]"
   ]
  },
  {
   "cell_type": "code",
   "execution_count": 192,
   "id": "460de656-96f9-4139-bcd3-df4f2dbe187b",
   "metadata": {},
   "outputs": [
    {
     "data": {
      "text/plain": [
       "array([[1],\n",
       "       [2],\n",
       "       [3]])"
      ]
     },
     "execution_count": 192,
     "metadata": {},
     "output_type": "execute_result"
    }
   ],
   "source": [
    "x[: , np.newaxis,  ]\n"
   ]
  },
  {
   "cell_type": "code",
   "execution_count": null,
   "id": "553a10e7-75de-46a4-ab69-1901e60b4020",
   "metadata": {},
   "outputs": [],
   "source": []
  },
  {
   "cell_type": "code",
   "execution_count": null,
   "id": "8a23c1a9-88b2-46ef-8685-c333ec997888",
   "metadata": {},
   "outputs": [],
   "source": []
  },
  {
   "cell_type": "code",
   "execution_count": 193,
   "id": "28d80838-407e-4d54-9877-c6fd486dde8a",
   "metadata": {},
   "outputs": [
    {
     "name": "stdout",
     "output_type": "stream",
     "text": [
      "Column vector:\n",
      " [[1]\n",
      " [2]\n",
      " [3]]\n",
      "Row vector:\n",
      " [[1 2 3]]\n"
     ]
    }
   ],
   "source": [
    "import numpy as np\n",
    "\n",
    "# Original 1D array\n",
    "arr = np.array([1, 2, 3])\n",
    "\n",
    "# Convert to a 2D column vector\n",
    "column_vector = arr[:, np.newaxis]\n",
    "print(\"Column vector:\\n\", column_vector)\n",
    "\n",
    "# Convert to a 2D row vector\n",
    "row_vector = arr[np.newaxis, :]\n",
    "print(\"Row vector:\\n\", row_vector)"
   ]
  },
  {
   "cell_type": "code",
   "execution_count": 194,
   "id": "6c479e84-5fa5-493a-ae4d-f6bd43509f96",
   "metadata": {},
   "outputs": [
    {
     "name": "stdout",
     "output_type": "stream",
     "text": [
      "Result of broadcasting:\n",
      " [[5 6]\n",
      " [6 7]\n",
      " [7 8]]\n"
     ]
    }
   ],
   "source": [
    "# Two 1D arrays\n",
    "a = np.array([1, 2, 3])\n",
    "b = np.array([4, 5])\n",
    "\n",
    "# Reshape a to be a column vector and b to be a row vector\n",
    "result = a[:, np.newaxis] + b\n",
    "print(\"Result of broadcasting:\\n\", result)"
   ]
  },
  {
   "cell_type": "code",
   "execution_count": 195,
   "id": "5a5e06b3-d39a-455d-9b9f-48654f99387c",
   "metadata": {},
   "outputs": [
    {
     "name": "stdout",
     "output_type": "stream",
     "text": [
      "Image with batch dimension:\n",
      " [[[ 1  2  3  4]\n",
      "  [ 5  6  7  8]\n",
      "  [ 9 10 11 12]\n",
      "  [13 14 15 16]]]\n",
      "Shape: (1, 4, 4)\n"
     ]
    }
   ],
   "source": [
    "# Example of a 2D grayscale image (4x4 pixels)\n",
    "image = np.array([[1, 2, 3, 4],\n",
    "                  [5, 6, 7, 8],\n",
    "                  [9, 10, 11, 12],\n",
    "                  [13, 14, 15, 16]])\n",
    "\n",
    "# Adding a batch dimension (converting it to a 3D array)\n",
    "batch_image = image[np.newaxis, :, :]\n",
    "print(\"Image with batch dimension:\\n\", batch_image)\n",
    "print(\"Shape:\", batch_image.shape)"
   ]
  },
  {
   "cell_type": "code",
   "execution_count": 196,
   "id": "7bc0374f-fefb-40e6-9093-782daf6d87cf",
   "metadata": {},
   "outputs": [
    {
     "name": "stdout",
     "output_type": "stream",
     "text": [
      "Result after subtraction:\n",
      " [[  9  19  29  39]\n",
      " [ 48  58  68  78]\n",
      " [ 87  97 107 117]]\n"
     ]
    }
   ],
   "source": [
    "# Array of shape (3,)\n",
    "a = np.array([1, 2, 3])\n",
    "\n",
    "# Array of shape (3, 4)\n",
    "b = np.array([[10, 20, 30, 40],\n",
    "              [50, 60, 70, 80],\n",
    "              [90, 100, 110, 120]])\n",
    "\n",
    "# Subtracting a from b using broadcasting with newaxis\n",
    "result = b - a[:, np.newaxis]\n",
    "print(\"Result after subtraction:\\n\", result)"
   ]
  },
  {
   "cell_type": "code",
   "execution_count": null,
   "id": "9b4c4a26-3ad2-4741-bce6-10b14f1ea868",
   "metadata": {},
   "outputs": [],
   "source": []
  },
  {
   "cell_type": "code",
   "execution_count": 202,
   "id": "f24df789-2773-44eb-8c80-671f3cadbebf",
   "metadata": {},
   "outputs": [
    {
     "data": {
      "text/plain": [
       "array([1, 2, 3, 4, 5, 6])"
      ]
     },
     "execution_count": 202,
     "metadata": {},
     "output_type": "execute_result"
    }
   ],
   "source": [
    "x = np.array([1,2,3])\n",
    "y = np.array([4,5,6])\n",
    "np.concatenate([x,y])"
   ]
  },
  {
   "cell_type": "code",
   "execution_count": null,
   "id": "1040c555-418c-4896-993e-1d6845d2934c",
   "metadata": {},
   "outputs": [],
   "source": []
  },
  {
   "cell_type": "code",
   "execution_count": 207,
   "id": "503a50d2-deae-481b-a2d7-ac934522afda",
   "metadata": {},
   "outputs": [
    {
     "name": "stdout",
     "output_type": "stream",
     "text": [
      "[ 1  2  3  4  5  6 99 99 99]\n"
     ]
    }
   ],
   "source": [
    "z = np.array([99,99,99])\n",
    "print(np.concatenate([x,y,z]))"
   ]
  },
  {
   "cell_type": "code",
   "execution_count": null,
   "id": "ed2a48a4-65d5-49b4-8fba-da86f28c6829",
   "metadata": {},
   "outputs": [],
   "source": []
  },
  {
   "cell_type": "code",
   "execution_count": 211,
   "id": "6f0f4244-d4a5-4a3b-9118-09495b1cb294",
   "metadata": {},
   "outputs": [],
   "source": [
    "grid = np.array([[1,2,3],\n",
    "           [4,5,6]])"
   ]
  },
  {
   "cell_type": "code",
   "execution_count": 213,
   "id": "70a5e72d-e1ed-4a9a-9a55-d59016dc33dd",
   "metadata": {},
   "outputs": [
    {
     "data": {
      "text/plain": [
       "array([[1, 2, 3],\n",
       "       [4, 5, 6],\n",
       "       [1, 2, 3],\n",
       "       [4, 5, 6]])"
      ]
     },
     "execution_count": 213,
     "metadata": {},
     "output_type": "execute_result"
    }
   ],
   "source": [
    "np.concatenate([grid,grid])"
   ]
  },
  {
   "cell_type": "code",
   "execution_count": 215,
   "id": "59bc23e1-b671-4cdd-a214-9ac7fe8fe52a",
   "metadata": {},
   "outputs": [
    {
     "data": {
      "text/plain": [
       "array([[1, 2, 3, 1, 2, 3],\n",
       "       [4, 5, 6, 4, 5, 6]])"
      ]
     },
     "execution_count": 215,
     "metadata": {},
     "output_type": "execute_result"
    }
   ],
   "source": [
    "np.concatenate([grid,grid], axis=1)"
   ]
  },
  {
   "cell_type": "code",
   "execution_count": null,
   "id": "2e89b7f4-fc09-416e-920e-60c7e5fbde06",
   "metadata": {},
   "outputs": [],
   "source": []
  },
  {
   "cell_type": "code",
   "execution_count": 217,
   "id": "10dc7bfe-4aba-46c0-a1d7-00ddb3d58359",
   "metadata": {},
   "outputs": [
    {
     "data": {
      "text/plain": [
       "array([[1, 2, 3],\n",
       "       [1, 2, 3],\n",
       "       [4, 5, 6]])"
      ]
     },
     "execution_count": 217,
     "metadata": {},
     "output_type": "execute_result"
    }
   ],
   "source": [
    "np.vstack([x,grid])"
   ]
  },
  {
   "cell_type": "code",
   "execution_count": 224,
   "id": "516dc7a0-1588-4860-a94e-cd89718e75a6",
   "metadata": {},
   "outputs": [
    {
     "name": "stdout",
     "output_type": "stream",
     "text": [
      "[[ 1  2  3 99]\n",
      " [ 4  5  6 99]]\n"
     ]
    }
   ],
   "source": [
    "y = np.array([[99],\n",
    "             [99]])\n",
    "io=np.hstack([grid, y])\n",
    "print(io)"
   ]
  },
  {
   "cell_type": "code",
   "execution_count": 248,
   "id": "15ff96bb-941c-409d-b162-dcc334e9a3a7",
   "metadata": {},
   "outputs": [
    {
     "name": "stdout",
     "output_type": "stream",
     "text": [
      "[[ 1  2  3 99  1  2  3 99]\n",
      " [ 4  5  6 99  4  5  6 99]]\n"
     ]
    }
   ],
   "source": [
    "x4 = np.concatenate([io,io], axis=1)\n",
    "print(x4)\n"
   ]
  },
  {
   "cell_type": "code",
   "execution_count": 252,
   "id": "6e2ff90b-22d6-4140-a3bd-2f4301665bae",
   "metadata": {},
   "outputs": [
    {
     "name": "stdout",
     "output_type": "stream",
     "text": [
      "[1 2 3] [4 5] [6 7 8 9]\n"
     ]
    }
   ],
   "source": [
    "x = [1,2,3,4,5,6,7,8,9]\n",
    "x1 , x2 , x3  = np.split(x, [3,5])\n",
    "print(x1,x2,x3)\n",
    "\n"
   ]
  },
  {
   "cell_type": "code",
   "execution_count": null,
   "id": "f7320de5-b1ef-4e8e-a0c7-7d7b752b1464",
   "metadata": {},
   "outputs": [],
   "source": []
  },
  {
   "cell_type": "code",
   "execution_count": 254,
   "id": "4b7fc97c-6f2e-4731-be18-bd8fb305e43f",
   "metadata": {},
   "outputs": [
    {
     "data": {
      "text/plain": [
       "array([[ 0,  1,  2,  3],\n",
       "       [ 4,  5,  6,  7],\n",
       "       [ 8,  9, 10, 11],\n",
       "       [12, 13, 14, 15]])"
      ]
     },
     "execution_count": 254,
     "metadata": {},
     "output_type": "execute_result"
    }
   ],
   "source": [
    "grid = np.arange(16).reshape((4,4))\n",
    "grid"
   ]
  },
  {
   "cell_type": "code",
   "execution_count": 277,
   "id": "dc625c45-fb5b-4420-bbd2-c718aa33f280",
   "metadata": {},
   "outputs": [
    {
     "name": "stdout",
     "output_type": "stream",
     "text": [
      "upper:  [[0 1 2 3]\n",
      " [4 5 6 7]]\n",
      "lower:  [[ 8  9 10 11]\n",
      " [12 13 14 15]]\n"
     ]
    }
   ],
   "source": [
    "upper, lower = np.vsplit(grid, [2])\n",
    "print('upper: ',  upper)\n",
    "print('lower: ',lower)"
   ]
  },
  {
   "cell_type": "code",
   "execution_count": 278,
   "id": "cceb0647-71c6-49f1-9cdb-08f3e6344508",
   "metadata": {},
   "outputs": [
    {
     "name": "stdout",
     "output_type": "stream",
     "text": [
      "upper:  [[ 0  1]\n",
      " [ 4  5]\n",
      " [ 8  9]\n",
      " [12 13]]\n",
      "lower:  [[ 2  3]\n",
      " [ 6  7]\n",
      " [10 11]\n",
      " [14 15]]\n"
     ]
    }
   ],
   "source": [
    "upper, lower = np.hsplit(grid, [2])\n",
    "print('upper: ',  upper)\n",
    "print('lower: ',lower)"
   ]
  },
  {
   "cell_type": "code",
   "execution_count": 282,
   "id": "edc32888-d8ee-4a4e-abe7-507b22d14cd3",
   "metadata": {},
   "outputs": [
    {
     "name": "stdout",
     "output_type": "stream",
     "text": [
      "Original grid:\n",
      " [[[ 0  1  2  3]\n",
      "  [ 4  5  6  7]]\n",
      "\n",
      " [[ 8  9 10 11]\n",
      "  [12 13 14 15]]]\n",
      "front:\n",
      " [[[ 0  1]\n",
      "  [ 4  5]]\n",
      "\n",
      " [[ 8  9]\n",
      "  [12 13]]]\n",
      "back:\n",
      " [[[ 2  3]\n",
      "  [ 6  7]]\n",
      "\n",
      " [[10 11]\n",
      "  [14 15]]]\n"
     ]
    }
   ],
   "source": [
    "import numpy as np\n",
    "\n",
    "# Create a 3D array (e.g., a 2x2x4 grid)\n",
    "grid = np.arange(16).reshape(2, 2, 4)\n",
    "print(\"Original grid:\\n\", grid)\n",
    "\n",
    "# Split the grid into two parts along the third axis (depth)\n",
    "front, back = np.dsplit(grid, [2])\n",
    "\n",
    "# Print the results\n",
    "print('front:\\n', front)\n",
    "print('back:\\n', back)"
   ]
  },
  {
   "cell_type": "code",
   "execution_count": null,
   "id": "43b8b909-51eb-4e82-8103-4fb180095f72",
   "metadata": {},
   "outputs": [],
   "source": [
    "    "
   ]
  },
  {
   "cell_type": "code",
   "execution_count": null,
   "id": "36db2579-229c-454d-8088-961a8e5f63b9",
   "metadata": {},
   "outputs": [],
   "source": []
  },
  {
   "cell_type": "code",
   "execution_count": null,
   "id": "7b25ddaf-283b-481e-9bc0-c84e514ec9a8",
   "metadata": {},
   "outputs": [],
   "source": []
  }
 ],
 "metadata": {
  "kernelspec": {
   "display_name": "Python 3 (ipykernel)",
   "language": "python",
   "name": "python3"
  },
  "language_info": {
   "codemirror_mode": {
    "name": "ipython",
    "version": 3
   },
   "file_extension": ".py",
   "mimetype": "text/x-python",
   "name": "python",
   "nbconvert_exporter": "python",
   "pygments_lexer": "ipython3",
   "version": "3.12.3"
  }
 },
 "nbformat": 4,
 "nbformat_minor": 5
}
