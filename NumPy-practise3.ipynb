{
 "cells": [
  {
   "cell_type": "code",
   "execution_count": 6,
   "id": "34a9caac-bcfd-4682-af76-fa28bfac45f8",
   "metadata": {},
   "outputs": [],
   "source": [
    "import numpy as np"
   ]
  },
  {
   "cell_type": "code",
   "execution_count": 9,
   "id": "10e13ec9-f00b-4724-b9c2-a78b2c2a019e",
   "metadata": {},
   "outputs": [
    {
     "data": {
      "text/plain": [
       "array([5, 6, 7])"
      ]
     },
     "execution_count": 9,
     "metadata": {},
     "output_type": "execute_result"
    }
   ],
   "source": [
    "a = np.array([0,1,2])\n",
    "b = np.array([5,5,5])\n",
    "a + b "
   ]
  },
  {
   "cell_type": "code",
   "execution_count": 15,
   "id": "8b4b1d15-1934-4bd9-a27f-c26e5775120c",
   "metadata": {},
   "outputs": [
    {
     "data": {
      "text/plain": [
       "array([5, 6, 7])"
      ]
     },
     "execution_count": 15,
     "metadata": {},
     "output_type": "execute_result"
    }
   ],
   "source": [
    "a + b"
   ]
  },
  {
   "cell_type": "code",
   "execution_count": 14,
   "id": "a9b4ad25-d7f1-4831-b0f7-5363a1a3db78",
   "metadata": {},
   "outputs": [
    {
     "data": {
      "text/plain": [
       "array([[1., 1., 1.],\n",
       "       [1., 1., 1.],\n",
       "       [1., 1., 1.]])"
      ]
     },
     "execution_count": 14,
     "metadata": {},
     "output_type": "execute_result"
    }
   ],
   "source": [
    "M = np.ones((3,3))\n",
    "M"
   ]
  },
  {
   "cell_type": "code",
   "execution_count": 16,
   "id": "8daeebe5-316b-44eb-988e-4c543fcbe7a0",
   "metadata": {},
   "outputs": [
    {
     "data": {
      "text/plain": [
       "array([5, 6, 7])"
      ]
     },
     "execution_count": 16,
     "metadata": {},
     "output_type": "execute_result"
    }
   ],
   "source": [
    "a + 5"
   ]
  },
  {
   "cell_type": "code",
   "execution_count": 18,
   "id": "ad3c5c8d-87fe-4f66-b61c-f5f467472877",
   "metadata": {},
   "outputs": [
    {
     "data": {
      "text/plain": [
       "array([[1., 1., 1.],\n",
       "       [1., 1., 1.],\n",
       "       [1., 1., 1.]])"
      ]
     },
     "execution_count": 18,
     "metadata": {},
     "output_type": "execute_result"
    }
   ],
   "source": [
    "M = np.ones((3,3))\n",
    "M"
   ]
  },
  {
   "cell_type": "code",
   "execution_count": 20,
   "id": "45e26edb-077b-4fa8-a3ca-f42755eea295",
   "metadata": {},
   "outputs": [
    {
     "data": {
      "text/plain": [
       "array([[1., 2., 3.],\n",
       "       [1., 2., 3.],\n",
       "       [1., 2., 3.]])"
      ]
     },
     "execution_count": 20,
     "metadata": {},
     "output_type": "execute_result"
    }
   ],
   "source": [
    "M+a"
   ]
  },
  {
   "cell_type": "code",
   "execution_count": 25,
   "id": "ba5ddacf-9c1a-408f-b268-5f1d7f82c7ea",
   "metadata": {},
   "outputs": [
    {
     "name": "stdout",
     "output_type": "stream",
     "text": [
      "[0 1 2]\n",
      "[[0]\n",
      " [1]\n",
      " [2]]\n"
     ]
    }
   ],
   "source": [
    "a = np.arange(3)\n",
    "b = np.arange(3)[:,np.newaxis]\n",
    "\n",
    "print(a)\n",
    "print(b)"
   ]
  },
  {
   "cell_type": "code",
   "execution_count": 26,
   "id": "756a88f7-408f-4a87-9a24-1e0ba8dc0c6a",
   "metadata": {},
   "outputs": [
    {
     "data": {
      "text/plain": [
       "array([[0, 1, 2],\n",
       "       [1, 2, 3],\n",
       "       [2, 3, 4]])"
      ]
     },
     "execution_count": 26,
     "metadata": {},
     "output_type": "execute_result"
    }
   ],
   "source": [
    "a+b"
   ]
  },
  {
   "cell_type": "code",
   "execution_count": 27,
   "id": "1d6bd485-8565-4898-a956-e49472f741cd",
   "metadata": {},
   "outputs": [
    {
     "data": {
      "text/plain": [
       "array([5, 6, 7])"
      ]
     },
     "execution_count": 27,
     "metadata": {},
     "output_type": "execute_result"
    }
   ],
   "source": [
    "np.arange(3) + 5"
   ]
  },
  {
   "cell_type": "code",
   "execution_count": 29,
   "id": "d5015f95-5723-4259-ae77-a496cc596db5",
   "metadata": {},
   "outputs": [
    {
     "data": {
      "text/plain": [
       "array([[1., 2., 3.],\n",
       "       [1., 2., 3.],\n",
       "       [1., 2., 3.]])"
      ]
     },
     "execution_count": 29,
     "metadata": {},
     "output_type": "execute_result"
    }
   ],
   "source": [
    "np.ones((3,3)) + np.arange(3)"
   ]
  },
  {
   "cell_type": "code",
   "execution_count": null,
   "id": "c7de5bd7-2413-434a-b7da-13e444e17c8a",
   "metadata": {},
   "outputs": [],
   "source": []
  },
  {
   "cell_type": "code",
   "execution_count": null,
   "id": "4e4ddd52-0eb6-498f-b0ff-283b24a14294",
   "metadata": {},
   "outputs": [],
   "source": []
  },
  {
   "cell_type": "code",
   "execution_count": 30,
   "id": "dc189e8e-efe7-415a-a21d-0607b9088c89",
   "metadata": {},
   "outputs": [],
   "source": [
    "##Транслирование #1"
   ]
  },
  {
   "cell_type": "code",
   "execution_count": 31,
   "id": "043d97d1-9e09-4b7f-b568-444c86dd3eda",
   "metadata": {},
   "outputs": [],
   "source": [
    "M = np.ones((2,3))\n",
    "a = np.arange(3)"
   ]
  },
  {
   "cell_type": "code",
   "execution_count": 33,
   "id": "df498816-605b-4b84-ab54-6ba27763afeb",
   "metadata": {},
   "outputs": [],
   "source": [
    "M.shape = (2,3)\n",
    "a.shape = (1,3)\n"
   ]
  },
  {
   "cell_type": "code",
   "execution_count": 35,
   "id": "9ae1339d-e561-42cd-9a7e-72984598e57f",
   "metadata": {},
   "outputs": [
    {
     "data": {
      "text/plain": [
       "array([[1., 2., 3.],\n",
       "       [1., 2., 3.]])"
      ]
     },
     "execution_count": 35,
     "metadata": {},
     "output_type": "execute_result"
    }
   ],
   "source": [
    "M + a"
   ]
  },
  {
   "cell_type": "code",
   "execution_count": null,
   "id": "ac347936-a53b-46fc-9134-72dfcf87ca02",
   "metadata": {},
   "outputs": [],
   "source": [
    "##Транслирование #2"
   ]
  },
  {
   "cell_type": "code",
   "execution_count": 39,
   "id": "89c6dbb0-864a-4222-8a34-5f6393af63af",
   "metadata": {},
   "outputs": [],
   "source": [
    "a = np.arange(3).reshape((3,1))\n",
    "b = np.arange(3)"
   ]
  },
  {
   "cell_type": "code",
   "execution_count": 40,
   "id": "aaed5434-dc4f-4a90-96ef-08ca5372c14d",
   "metadata": {},
   "outputs": [
    {
     "data": {
      "text/plain": [
       "array([[0, 1, 2],\n",
       "       [1, 2, 3],\n",
       "       [2, 3, 4]])"
      ]
     },
     "execution_count": 40,
     "metadata": {},
     "output_type": "execute_result"
    }
   ],
   "source": [
    "a + b"
   ]
  },
  {
   "cell_type": "code",
   "execution_count": null,
   "id": "953c67ce-b5bf-41e2-bb22-e9b2375f6436",
   "metadata": {},
   "outputs": [],
   "source": [
    "##Транслирование #3"
   ]
  },
  {
   "cell_type": "code",
   "execution_count": 82,
   "id": "256fc0c6-d9e7-4251-bd4c-aa0608138878",
   "metadata": {},
   "outputs": [],
   "source": [
    "M = np.ones((3,2))\n",
    "a = np.arange(3,)"
   ]
  },
  {
   "cell_type": "code",
   "execution_count": 88,
   "id": "f35dc0f6-4ad5-4b12-80b8-c9a6b71f501d",
   "metadata": {},
   "outputs": [
    {
     "ename": "ValueError",
     "evalue": "operands could not be broadcast together with shapes (3,2) (3,) ",
     "output_type": "error",
     "traceback": [
      "\u001b[0;31m---------------------------------------------------------------------------\u001b[0m",
      "\u001b[0;31mValueError\u001b[0m                                Traceback (most recent call last)",
      "Cell \u001b[0;32mIn[88], line 1\u001b[0m\n\u001b[0;32m----> 1\u001b[0m \u001b[43mM\u001b[49m\u001b[43m \u001b[49m\u001b[38;5;241;43m+\u001b[39;49m\u001b[43m \u001b[49m\u001b[43ma\u001b[49m \u001b[38;5;66;03m#Error should appear cauze of 3,2 != of  3,   \u001b[39;00m\n\u001b[1;32m      3\u001b[0m \u001b[38;5;66;03m#Rule 3\u001b[39;00m\n",
      "\u001b[0;31mValueError\u001b[0m: operands could not be broadcast together with shapes (3,2) (3,) "
     ]
    }
   ],
   "source": [
    "M + a #Error should appear cauze of 3,2 != of  3,   \n",
    "\n",
    "#Rule 3\n",
    "#"
   ]
  },
  {
   "cell_type": "code",
   "execution_count": 87,
   "id": "df6eb28b-d84b-4058-a5a5-2147e951814e",
   "metadata": {},
   "outputs": [
    {
     "data": {
      "text/plain": [
       "(3, 1)"
      ]
     },
     "execution_count": 87,
     "metadata": {},
     "output_type": "execute_result"
    }
   ],
   "source": [
    "a [:, np.newaxis].shape"
   ]
  },
  {
   "cell_type": "code",
   "execution_count": 89,
   "id": "82df996f-cabc-4cc5-946f-1160868aafb5",
   "metadata": {},
   "outputs": [
    {
     "data": {
      "text/plain": [
       "array([[1., 1.],\n",
       "       [2., 2.],\n",
       "       [3., 3.]])"
      ]
     },
     "execution_count": 89,
     "metadata": {},
     "output_type": "execute_result"
    }
   ],
   "source": [
    "M + a[: , np.newaxis]\n"
   ]
  },
  {
   "cell_type": "code",
   "execution_count": 91,
   "id": "77def4a8-3c8f-4509-8855-b1456aeb565b",
   "metadata": {},
   "outputs": [
    {
     "data": {
      "text/plain": [
       "array([[1.31326169, 1.31326169],\n",
       "       [1.69314718, 1.69314718],\n",
       "       [2.31326169, 2.31326169]])"
      ]
     },
     "execution_count": 91,
     "metadata": {},
     "output_type": "execute_result"
    }
   ],
   "source": [
    "np.logaddexp(M,a[:,np.newaxis])"
   ]
  },
  {
   "cell_type": "code",
   "execution_count": null,
   "id": "554b4aff-b21f-4e1e-9634-1f6c5aefc9b0",
   "metadata": {},
   "outputs": [],
   "source": []
  },
  {
   "cell_type": "code",
   "execution_count": 92,
   "id": "9a86cac8-eb69-442e-9f51-5ed2ec77ed33",
   "metadata": {},
   "outputs": [],
   "source": [
    "# Центрирование массива"
   ]
  },
  {
   "cell_type": "code",
   "execution_count": 94,
   "id": "2caef3e4-1926-4a71-9f2f-6c11a8ccce92",
   "metadata": {},
   "outputs": [],
   "source": [
    "rng = np.random.default_rng(seed=1701)\n",
    "X = rng.random((10,3))"
   ]
  },
  {
   "cell_type": "code",
   "execution_count": 96,
   "id": "1a7c8212-9198-4cd2-9dd5-4a4d5afcdeb4",
   "metadata": {},
   "outputs": [
    {
     "data": {
      "text/plain": [
       "array([0.38503638, 0.36991443, 0.63896043])"
      ]
     },
     "execution_count": 96,
     "metadata": {},
     "output_type": "execute_result"
    }
   ],
   "source": [
    "Xmean=X.mean(0)\n",
    "Xmean"
   ]
  },
  {
   "cell_type": "code",
   "execution_count": 97,
   "id": "aa87bfbd-1fb1-4cf9-8901-6215e18cf76b",
   "metadata": {},
   "outputs": [],
   "source": [
    "X_cnetrated = X - Xmean"
   ]
  },
  {
   "cell_type": "code",
   "execution_count": 98,
   "id": "f404ac0b-7551-48a2-b521-c9c1e45e3a3d",
   "metadata": {},
   "outputs": [
    {
     "data": {
      "text/plain": [
       "array([[ 0.01703691, -0.06428131,  0.03772009],\n",
       "       [-0.2268243 ,  0.4225632 , -0.54476574],\n",
       "       [-0.01749695, -0.30602514,  0.32535566],\n",
       "       [-0.0330264 ,  0.175589  ,  0.24701902],\n",
       "       [ 0.18513326, -0.10377048,  0.17807777],\n",
       "       [ 0.17403013, -0.30604408,  0.20981709],\n",
       "       [ 0.50910846, -0.18070657, -0.40236028],\n",
       "       [-0.22000743,  0.19592414, -0.34382932],\n",
       "       [-0.09425626,  0.53088102, -0.03903608],\n",
       "       [-0.29369742, -0.36412976,  0.33200179]])"
      ]
     },
     "execution_count": 98,
     "metadata": {},
     "output_type": "execute_result"
    }
   ],
   "source": [
    "X_cnetrated"
   ]
  },
  {
   "cell_type": "code",
   "execution_count": 100,
   "id": "a09232bd-a06a-43d7-aa53-9df9df43ae78",
   "metadata": {},
   "outputs": [
    {
     "data": {
      "text/plain": [
       "array([ 4.99600361e-17, -4.44089210e-17,  0.00000000e+00])"
      ]
     },
     "execution_count": 100,
     "metadata": {},
     "output_type": "execute_result"
    }
   ],
   "source": [
    "X_cnetrated.mean(0)"
   ]
  },
  {
   "cell_type": "code",
   "execution_count": null,
   "id": "4d3c0663-0c03-400c-aeed-391b069879cb",
   "metadata": {},
   "outputs": [],
   "source": []
  },
  {
   "cell_type": "code",
   "execution_count": 102,
   "id": "50207654-99e8-4b84-b91c-21d9a77a7a88",
   "metadata": {},
   "outputs": [],
   "source": [
    "#Задаем для x и y 50 шагов от 0 до 5\n",
    "x = np.linspace(0, 5, 50)\n",
    "y = np.linspace(0, 5, 50)[:, np.newaxis]\n",
    "\n",
    "z = np.sin(x)**10 + np.cos(10+y+x)*np.cos(x)"
   ]
  },
  {
   "cell_type": "code",
   "execution_count": 105,
   "id": "cd696d24-d540-48ee-ba40-f4925d7a569f",
   "metadata": {},
   "outputs": [
    {
     "data": {
      "text/plain": [
       "array([[-0.83907153, -0.7752373 , -0.69663958, ...,  0.91460505,\n",
       "         0.71377043,  0.44192559],\n",
       "       [-0.7792909 , -0.70770261, -0.62291325, ...,  0.90815027,\n",
       "         0.70081944,  0.42425651],\n",
       "       [-0.71140308, -0.63280548, -0.54270657, ...,  0.90229395,\n",
       "         0.68932665,  0.40901309],\n",
       "       ...,\n",
       "       [-0.61213001, -0.68590896, -0.74392239, ...,  1.0271601 ,\n",
       "         0.9635438 ,  0.82326004],\n",
       "       [-0.68949547, -0.75573628, -0.80491891, ...,  1.02109539,\n",
       "         0.94885696,  0.79895512],\n",
       "       [-0.75968791, -0.81770146, -0.85754163, ...,  1.01445415,\n",
       "         0.93304792,  0.77317777]])"
      ]
     },
     "execution_count": 105,
     "metadata": {},
     "output_type": "execute_result"
    }
   ],
   "source": [
    "z"
   ]
  },
  {
   "cell_type": "code",
   "execution_count": 109,
   "id": "5f9b8295-f0f4-4134-a972-82efe65ddccb",
   "metadata": {},
   "outputs": [
    {
     "data": {
      "image/png": "[encoded data removed]",
      "text/plain": [
       "<Figure size 640x480 with 2 Axes>"
      ]
     },
     "metadata": {},
     "output_type": "display_data"
    }
   ],
   "source": [
    "%matplotlib inline\n",
    "import matplotlib.pyplot as plt\n",
    "\n",
    "plt.imshow(z, origin='lower', extent = [0,5,0,5])\n",
    "plt.colorbar();"
   ]
  },
  {
   "cell_type": "code",
   "execution_count": null,
   "id": "a7cf53c2-dce1-45ca-85a8-658aac4d8948",
   "metadata": {},
   "outputs": [],
   "source": []
  },
  {
   "cell_type": "code",
   "execution_count": null,
   "id": "3c75d81c-9dc1-44a0-ae67-336f91732ec0",
   "metadata": {},
   "outputs": [],
   "source": []
  },
  {
   "cell_type": "code",
   "execution_count": null,
   "id": "1aabd679-2896-441f-a796-5709ed2e628e",
   "metadata": {},
   "outputs": [],
   "source": []
  },
  {
   "cell_type": "code",
   "execution_count": null,
   "id": "ea436938-e4ef-4f9e-9a85-a251fc2d051c",
   "metadata": {},
   "outputs": [],
   "source": []
  },
  {
   "cell_type": "code",
   "execution_count": null,
   "id": "c6762929-cfa2-4fa6-80d6-a8ed75f27761",
   "metadata": {},
   "outputs": [],
   "source": []
  },
  {
   "cell_type": "code",
   "execution_count": null,
   "id": "d4f75bbe-22cd-4bf4-88c3-dd16f42d7988",
   "metadata": {},
   "outputs": [],
   "source": []
  },
  {
   "cell_type": "code",
   "execution_count": null,
   "id": "d8b981b8-c9b9-4ce5-859d-b6bec86a68bf",
   "metadata": {},
   "outputs": [],
   "source": []
  },
  {
   "cell_type": "code",
   "execution_count": null,
   "id": "3557ae98-1dda-4e61-9536-8f8a52366103",
   "metadata": {},
   "outputs": [],
   "source": []
  },
  {
   "cell_type": "code",
   "execution_count": null,
   "id": "0d1558eb-ffcd-48cd-8a2f-642ac30841b1",
   "metadata": {},
   "outputs": [],
   "source": []
  },
  {
   "cell_type": "code",
   "execution_count": null,
   "id": "bc38b355-c0d4-4d8e-893f-ba561aad6ea9",
   "metadata": {},
   "outputs": [],
   "source": []
  }
 ],
 "metadata": {
  "kernelspec": {
   "display_name": "Python 3 (ipykernel)",
   "language": "python",
   "name": "python3"
  },
  "language_info": {
   "codemirror_mode": {
    "name": "ipython",
    "version": 3
   },
   "file_extension": ".py",
   "mimetype": "text/x-python",
   "name": "python",
   "nbconvert_exporter": "python",
   "pygments_lexer": "ipython3",
   "version": "3.12.3"
  }
 },
 "nbformat": 4,
 "nbformat_minor": 5
}
