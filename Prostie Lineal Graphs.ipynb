{
 "cells": [
  {
   "cell_type": "code",
   "execution_count": null,
   "id": "677f49cb-6ef4-4efe-879f-a447f30ee830",
   "metadata": {},
   "outputs": [],
   "source": [
    "%matplotlib inline\n",
    "impoty matplotlib.pyplot as plt\n",
    "plt.style.use('seaborn-whiteguard')]"
   ]
  },
  {
   "cell_type": "code",
   "execution_count": null,
   "id": "c09df165-a3f4-443f-8ea6-6a87a8e05f81",
   "metadata": {},
   "outputs": [],
   "source": []
  },
  {
   "cell_type": "code",
   "execution_count": null,
   "id": "8b2837a2-c9b9-48bc-a191-9646ed332e89",
   "metadata": {},
   "outputs": [],
   "source": []
  },
  {
   "cell_type": "code",
   "execution_count": null,
   "id": "8a2a208a-d95e-49e0-a377-0cdc120b7f13",
   "metadata": {},
   "outputs": [],
   "source": []
  },
  {
   "cell_type": "code",
   "execution_count": null,
   "id": "1ee662cb-3295-4497-9bf6-7e040ff0f7a3",
   "metadata": {},
   "outputs": [],
   "source": []
  },
  {
   "cell_type": "code",
   "execution_count": null,
   "id": "def8d4d0-204c-4e68-b1b0-36177ab2628a",
   "metadata": {},
   "outputs": [],
   "source": []
  },
  {
   "cell_type": "code",
   "execution_count": null,
   "id": "89afaaa4-8abb-4ed2-98af-0c10f5e0485c",
   "metadata": {},
   "outputs": [],
   "source": []
  },
  {
   "cell_type": "code",
   "execution_count": null,
   "id": "524f1191-8879-470e-ab57-46defa94f31e",
   "metadata": {},
   "outputs": [],
   "source": []
  },
  {
   "cell_type": "code",
   "execution_count": null,
   "id": "aed20646-52d5-48d9-8f73-f2a5e57d49bf",
   "metadata": {},
   "outputs": [],
   "source": []
  },
  {
   "cell_type": "code",
   "execution_count": null,
   "id": "170ff5e4-d867-49a2-a2f5-a3fcfa3d1ef6",
   "metadata": {},
   "outputs": [],
   "source": []
  },
  {
   "cell_type": "code",
   "execution_count": null,
   "id": "d7f6a052-355b-4715-9b7f-eddd5cb763c9",
   "metadata": {},
   "outputs": [],
   "source": []
  },
  {
   "cell_type": "code",
   "execution_count": null,
   "id": "b59bf8dc-c0b2-448a-8bb1-af388bbd1a1d",
   "metadata": {},
   "outputs": [],
   "source": []
  }
 ],
 "metadata": {
  "kernelspec": {
   "display_name": "Python 3 (ipykernel)",
   "language": "python",
   "name": "python3"
  },
  "language_info": {
   "codemirror_mode": {
    "name": "ipython",
    "version": 3
   },
   "file_extension": ".py",
   "mimetype": "text/x-python",
   "name": "python",
   "nbconvert_exporter": "python",
   "pygments_lexer": "ipython3",
   "version": "3.12.3"
  }
 },
 "nbformat": 4,
 "nbformat_minor": 5
}
