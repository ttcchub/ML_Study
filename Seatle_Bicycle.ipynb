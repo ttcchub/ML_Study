{
 "cells": [
  {
   "cell_type": "code",
   "execution_count": 131,
   "id": "75c901e5-7b2e-43a7-a43e-e88a6bf67baa",
   "metadata": {},
   "outputs": [
    {
     "name": "stdout",
     "output_type": "stream",
     "text": [
      "                          Date  Fremont Bridge Total  \\\n",
      "147273  12/31/2021 07:00:00 PM                   0.0   \n",
      "147274  12/31/2021 08:00:00 PM                   0.0   \n",
      "147275  12/31/2021 09:00:00 PM                   0.0   \n",
      "147276  12/31/2021 10:00:00 PM                   0.0   \n",
      "147277  12/31/2021 11:00:00 PM                   0.0   \n",
      "\n",
      "        Fremont Bridge East Sidewalk  Fremont Bridge West Sidewalk  \n",
      "147273                           0.0                           0.0  \n",
      "147274                           0.0                           0.0  \n",
      "147275                           0.0                           0.0  \n",
      "147276                           0.0                           0.0  \n",
      "147277                           0.0                           0.0  \n"
     ]
    }
   ],
   "source": [
    "import pandas as pd\n",
    "\n",
    "# Load the CSV file\n",
    "file_path = 'FremontBridge.csv'  # Replace with the actual file path\n",
    "fremont_bridge_data = pd.read_csv(file_path)\n",
    "\n",
    "# Display the first few rows of the dataset\n",
    "print(fremont_bridge_data.tail())"
   ]
  },
  {
   "cell_type": "code",
   "execution_count": 132,
   "id": "0a82e22b-eff0-4f60-b1a0-336c77dea609",
   "metadata": {},
   "outputs": [
    {
     "data": {
      "text/html": [
       "<div>\n",
       "<style scoped>\n",
       "    .dataframe tbody tr th:only-of-type {\n",
       "        vertical-align: middle;\n",
       "    }\n",
       "\n",
       "    .dataframe tbody tr th {\n",
       "        vertical-align: top;\n",
       "    }\n",
       "\n",
       "    .dataframe thead th {\n",
       "        text-align: right;\n",
       "    }\n",
       "</style>\n",
       "<table border=\"1\" class=\"dataframe\">\n",
       "  <thead>\n",
       "    <tr style=\"text-align: right;\">\n",
       "      <th></th>\n",
       "      <th>Date</th>\n",
       "      <th>Fremont Bridge Total</th>\n",
       "      <th>Fremont Bridge East Sidewalk</th>\n",
       "      <th>Fremont Bridge West Sidewalk</th>\n",
       "    </tr>\n",
       "  </thead>\n",
       "  <tbody>\n",
       "    <tr>\n",
       "      <th>0</th>\n",
       "      <td>11/01/2019 12:00:00 AM</td>\n",
       "      <td>12.0</td>\n",
       "      <td>7.0</td>\n",
       "      <td>5.0</td>\n",
       "    </tr>\n",
       "    <tr>\n",
       "      <th>1</th>\n",
       "      <td>11/01/2019 01:00:00 AM</td>\n",
       "      <td>7.0</td>\n",
       "      <td>0.0</td>\n",
       "      <td>7.0</td>\n",
       "    </tr>\n",
       "    <tr>\n",
       "      <th>2</th>\n",
       "      <td>11/01/2019 02:00:00 AM</td>\n",
       "      <td>1.0</td>\n",
       "      <td>0.0</td>\n",
       "      <td>1.0</td>\n",
       "    </tr>\n",
       "    <tr>\n",
       "      <th>3</th>\n",
       "      <td>11/01/2019 03:00:00 AM</td>\n",
       "      <td>6.0</td>\n",
       "      <td>6.0</td>\n",
       "      <td>0.0</td>\n",
       "    </tr>\n",
       "    <tr>\n",
       "      <th>4</th>\n",
       "      <td>11/01/2019 04:00:00 AM</td>\n",
       "      <td>6.0</td>\n",
       "      <td>5.0</td>\n",
       "      <td>1.0</td>\n",
       "    </tr>\n",
       "  </tbody>\n",
       "</table>\n",
       "</div>"
      ],
      "text/plain": [
       "                     Date  Fremont Bridge Total  Fremont Bridge East Sidewalk  \\\n",
       "0  11/01/2019 12:00:00 AM                  12.0                           7.0   \n",
       "1  11/01/2019 01:00:00 AM                   7.0                           0.0   \n",
       "2  11/01/2019 02:00:00 AM                   1.0                           0.0   \n",
       "3  11/01/2019 03:00:00 AM                   6.0                           6.0   \n",
       "4  11/01/2019 04:00:00 AM                   6.0                           5.0   \n",
       "\n",
       "   Fremont Bridge West Sidewalk  \n",
       "0                           5.0  \n",
       "1                           7.0  \n",
       "2                           1.0  \n",
       "3                           0.0  \n",
       "4                           1.0  "
      ]
     },
     "execution_count": 132,
     "metadata": {},
     "output_type": "execute_result"
    }
   ],
   "source": [
    "fremont_bridge_data.head()"
   ]
  },
  {
   "cell_type": "code",
   "execution_count": 133,
   "id": "29a048ef-7d05-4bb8-a48f-e12929791c97",
   "metadata": {},
   "outputs": [
    {
     "name": "stdout",
     "output_type": "stream",
     "text": [
      "                     Date  Total  East  West\n",
      "0  11/01/2019 12:00:00 AM   12.0   7.0   5.0\n",
      "1  11/01/2019 01:00:00 AM    7.0   0.0   7.0\n",
      "2  11/01/2019 02:00:00 AM    1.0   0.0   1.0\n",
      "3  11/01/2019 03:00:00 AM    6.0   6.0   0.0\n",
      "4  11/01/2019 04:00:00 AM    6.0   5.0   1.0\n"
     ]
    }
   ],
   "source": [
    "# Rename the columns\n",
    "fremont_bridge_data.columns = ['Date', 'Total', 'East', 'West']\n",
    "\n",
    "# Display the updated column names and the first few rows of the dataset\n",
    "print(fremont_bridge_data.head())"
   ]
  },
  {
   "cell_type": "code",
   "execution_count": 134,
   "id": "fd5fe286-9e58-4528-b1e3-b719e0644e25",
   "metadata": {},
   "outputs": [
    {
     "data": {
      "text/html": [
       "<div>\n",
       "<style scoped>\n",
       "    .dataframe tbody tr th:only-of-type {\n",
       "        vertical-align: middle;\n",
       "    }\n",
       "\n",
       "    .dataframe tbody tr th {\n",
       "        vertical-align: top;\n",
       "    }\n",
       "\n",
       "    .dataframe thead th {\n",
       "        text-align: right;\n",
       "    }\n",
       "</style>\n",
       "<table border=\"1\" class=\"dataframe\">\n",
       "  <thead>\n",
       "    <tr style=\"text-align: right;\">\n",
       "      <th></th>\n",
       "      <th>Total</th>\n",
       "      <th>East</th>\n",
       "      <th>West</th>\n",
       "    </tr>\n",
       "  </thead>\n",
       "  <tbody>\n",
       "    <tr>\n",
       "      <th>count</th>\n",
       "      <td>147255.000000</td>\n",
       "      <td>147255.000000</td>\n",
       "      <td>147255.000000</td>\n",
       "    </tr>\n",
       "    <tr>\n",
       "      <th>mean</th>\n",
       "      <td>110.341462</td>\n",
       "      <td>50.077763</td>\n",
       "      <td>60.263699</td>\n",
       "    </tr>\n",
       "    <tr>\n",
       "      <th>std</th>\n",
       "      <td>140.422051</td>\n",
       "      <td>64.634038</td>\n",
       "      <td>87.252147</td>\n",
       "    </tr>\n",
       "    <tr>\n",
       "      <th>min</th>\n",
       "      <td>0.000000</td>\n",
       "      <td>0.000000</td>\n",
       "      <td>0.000000</td>\n",
       "    </tr>\n",
       "    <tr>\n",
       "      <th>25%</th>\n",
       "      <td>14.000000</td>\n",
       "      <td>6.000000</td>\n",
       "      <td>7.000000</td>\n",
       "    </tr>\n",
       "    <tr>\n",
       "      <th>50%</th>\n",
       "      <td>60.000000</td>\n",
       "      <td>28.000000</td>\n",
       "      <td>30.000000</td>\n",
       "    </tr>\n",
       "    <tr>\n",
       "      <th>75%</th>\n",
       "      <td>145.000000</td>\n",
       "      <td>68.000000</td>\n",
       "      <td>74.000000</td>\n",
       "    </tr>\n",
       "    <tr>\n",
       "      <th>max</th>\n",
       "      <td>1097.000000</td>\n",
       "      <td>698.000000</td>\n",
       "      <td>850.000000</td>\n",
       "    </tr>\n",
       "  </tbody>\n",
       "</table>\n",
       "</div>"
      ],
      "text/plain": [
       "               Total           East           West\n",
       "count  147255.000000  147255.000000  147255.000000\n",
       "mean      110.341462      50.077763      60.263699\n",
       "std       140.422051      64.634038      87.252147\n",
       "min         0.000000       0.000000       0.000000\n",
       "25%        14.000000       6.000000       7.000000\n",
       "50%        60.000000      28.000000      30.000000\n",
       "75%       145.000000      68.000000      74.000000\n",
       "max      1097.000000     698.000000     850.000000"
      ]
     },
     "execution_count": 134,
     "metadata": {},
     "output_type": "execute_result"
    }
   ],
   "source": [
    "fremont_bridge_data.dropna().describe()"
   ]
  },
  {
   "cell_type": "code",
   "execution_count": 135,
   "id": "4e6abc57-b184-44bf-b080-840a7766fbd6",
   "metadata": {},
   "outputs": [
    {
     "data": {
      "text/plain": [
       "<Axes: >"
      ]
     },
     "execution_count": 135,
     "metadata": {},
     "output_type": "execute_result"
    },
    {
     "data": {
      "image/png": "[encoded data removed]",
      "text/plain": [
       "<Figure size 640x480 with 1 Axes>"
      ]
     },
     "metadata": {},
     "output_type": "display_data"
    }
   ],
   "source": [
    "fremont_bridge_data.plot()"
   ]
  },
  {
   "cell_type": "code",
   "execution_count": 136,
   "id": "b31974df-53ed-4274-bd60-829df5eee8b6",
   "metadata": {},
   "outputs": [
    {
     "ename": "TypeError",
     "evalue": "Only valid with DatetimeIndex, TimedeltaIndex or PeriodIndex, but got an instance of 'RangeIndex'",
     "output_type": "error",
     "traceback": [
      "\u001b[0;31m---------------------------------------------------------------------------\u001b[0m",
      "\u001b[0;31mTypeError\u001b[0m                                 Traceback (most recent call last)",
      "Cell \u001b[0;32mIn[136], line 1\u001b[0m\n\u001b[0;32m----> 1\u001b[0m weekly \u001b[38;5;241m=\u001b[39m \u001b[43mfremont_bridge_data\u001b[49m\u001b[38;5;241;43m.\u001b[39;49m\u001b[43mresample\u001b[49m\u001b[43m(\u001b[49m\u001b[38;5;124;43m'\u001b[39;49m\u001b[38;5;124;43mW\u001b[39;49m\u001b[38;5;124;43m'\u001b[39;49m\u001b[43m)\u001b[49m\u001b[38;5;241m.\u001b[39msum()\n\u001b[1;32m      2\u001b[0m weekly\u001b[38;5;241m.\u001b[39mplot(style\u001b[38;5;241m=\u001b[39m[\u001b[38;5;124m'\u001b[39m\u001b[38;5;124m-\u001b[39m\u001b[38;5;124m'\u001b[39m,\u001b[38;5;124m'\u001b[39m\u001b[38;5;124m:\u001b[39m\u001b[38;5;124m'\u001b[39m,\u001b[38;5;124m'\u001b[39m\u001b[38;5;124m--\u001b[39m\u001b[38;5;124m'\u001b[39m])\n\u001b[1;32m      3\u001b[0m plt\u001b[38;5;241m.\u001b[39mylabel(\u001b[38;5;124m'\u001b[39m\u001b[38;5;124mWeekly bicycle count\u001b[39m\u001b[38;5;124m'\u001b[39m); \n",
      "File \u001b[0;32m/opt/homebrew/Cellar/jupyterlab/4.0.11/libexec/lib/python3.12/site-packages/pandas/core/generic.py:9768\u001b[0m, in \u001b[0;36mNDFrame.resample\u001b[0;34m(self, rule, axis, closed, label, convention, kind, on, level, origin, offset, group_keys)\u001b[0m\n\u001b[1;32m   9765\u001b[0m \u001b[38;5;28;01melse\u001b[39;00m:\n\u001b[1;32m   9766\u001b[0m     convention \u001b[38;5;241m=\u001b[39m \u001b[38;5;124m\"\u001b[39m\u001b[38;5;124mstart\u001b[39m\u001b[38;5;124m\"\u001b[39m\n\u001b[0;32m-> 9768\u001b[0m \u001b[38;5;28;01mreturn\u001b[39;00m \u001b[43mget_resampler\u001b[49m\u001b[43m(\u001b[49m\n\u001b[1;32m   9769\u001b[0m \u001b[43m    \u001b[49m\u001b[43mcast\u001b[49m\u001b[43m(\u001b[49m\u001b[38;5;124;43m\"\u001b[39;49m\u001b[38;5;124;43mSeries | DataFrame\u001b[39;49m\u001b[38;5;124;43m\"\u001b[39;49m\u001b[43m,\u001b[49m\u001b[43m \u001b[49m\u001b[38;5;28;43mself\u001b[39;49m\u001b[43m)\u001b[49m\u001b[43m,\u001b[49m\n\u001b[1;32m   9770\u001b[0m \u001b[43m    \u001b[49m\u001b[43mfreq\u001b[49m\u001b[38;5;241;43m=\u001b[39;49m\u001b[43mrule\u001b[49m\u001b[43m,\u001b[49m\n\u001b[1;32m   9771\u001b[0m \u001b[43m    \u001b[49m\u001b[43mlabel\u001b[49m\u001b[38;5;241;43m=\u001b[39;49m\u001b[43mlabel\u001b[49m\u001b[43m,\u001b[49m\n\u001b[1;32m   9772\u001b[0m \u001b[43m    \u001b[49m\u001b[43mclosed\u001b[49m\u001b[38;5;241;43m=\u001b[39;49m\u001b[43mclosed\u001b[49m\u001b[43m,\u001b[49m\n\u001b[1;32m   9773\u001b[0m \u001b[43m    \u001b[49m\u001b[43maxis\u001b[49m\u001b[38;5;241;43m=\u001b[39;49m\u001b[43maxis\u001b[49m\u001b[43m,\u001b[49m\n\u001b[1;32m   9774\u001b[0m \u001b[43m    \u001b[49m\u001b[43mkind\u001b[49m\u001b[38;5;241;43m=\u001b[39;49m\u001b[43mkind\u001b[49m\u001b[43m,\u001b[49m\n\u001b[1;32m   9775\u001b[0m \u001b[43m    \u001b[49m\u001b[43mconvention\u001b[49m\u001b[38;5;241;43m=\u001b[39;49m\u001b[43mconvention\u001b[49m\u001b[43m,\u001b[49m\n\u001b[1;32m   9776\u001b[0m \u001b[43m    \u001b[49m\u001b[43mkey\u001b[49m\u001b[38;5;241;43m=\u001b[39;49m\u001b[43mon\u001b[49m\u001b[43m,\u001b[49m\n\u001b[1;32m   9777\u001b[0m \u001b[43m    \u001b[49m\u001b[43mlevel\u001b[49m\u001b[38;5;241;43m=\u001b[39;49m\u001b[43mlevel\u001b[49m\u001b[43m,\u001b[49m\n\u001b[1;32m   9778\u001b[0m \u001b[43m    \u001b[49m\u001b[43morigin\u001b[49m\u001b[38;5;241;43m=\u001b[39;49m\u001b[43morigin\u001b[49m\u001b[43m,\u001b[49m\n\u001b[1;32m   9779\u001b[0m \u001b[43m    \u001b[49m\u001b[43moffset\u001b[49m\u001b[38;5;241;43m=\u001b[39;49m\u001b[43moffset\u001b[49m\u001b[43m,\u001b[49m\n\u001b[1;32m   9780\u001b[0m \u001b[43m    \u001b[49m\u001b[43mgroup_keys\u001b[49m\u001b[38;5;241;43m=\u001b[39;49m\u001b[43mgroup_keys\u001b[49m\u001b[43m,\u001b[49m\n\u001b[1;32m   9781\u001b[0m \u001b[43m\u001b[49m\u001b[43m)\u001b[49m\n",
      "File \u001b[0;32m/opt/homebrew/Cellar/jupyterlab/4.0.11/libexec/lib/python3.12/site-packages/pandas/core/resample.py:2050\u001b[0m, in \u001b[0;36mget_resampler\u001b[0;34m(obj, kind, **kwds)\u001b[0m\n\u001b[1;32m   2046\u001b[0m \u001b[38;5;250m\u001b[39m\u001b[38;5;124;03m\"\"\"\u001b[39;00m\n\u001b[1;32m   2047\u001b[0m \u001b[38;5;124;03mCreate a TimeGrouper and return our resampler.\u001b[39;00m\n\u001b[1;32m   2048\u001b[0m \u001b[38;5;124;03m\"\"\"\u001b[39;00m\n\u001b[1;32m   2049\u001b[0m tg \u001b[38;5;241m=\u001b[39m TimeGrouper(obj, \u001b[38;5;241m*\u001b[39m\u001b[38;5;241m*\u001b[39mkwds)  \u001b[38;5;66;03m# type: ignore[arg-type]\u001b[39;00m\n\u001b[0;32m-> 2050\u001b[0m \u001b[38;5;28;01mreturn\u001b[39;00m \u001b[43mtg\u001b[49m\u001b[38;5;241;43m.\u001b[39;49m\u001b[43m_get_resampler\u001b[49m\u001b[43m(\u001b[49m\u001b[43mobj\u001b[49m\u001b[43m,\u001b[49m\u001b[43m \u001b[49m\u001b[43mkind\u001b[49m\u001b[38;5;241;43m=\u001b[39;49m\u001b[43mkind\u001b[49m\u001b[43m)\u001b[49m\n",
      "File \u001b[0;32m/opt/homebrew/Cellar/jupyterlab/4.0.11/libexec/lib/python3.12/site-packages/pandas/core/resample.py:2272\u001b[0m, in \u001b[0;36mTimeGrouper._get_resampler\u001b[0;34m(self, obj, kind)\u001b[0m\n\u001b[1;32m   2263\u001b[0m \u001b[38;5;28;01melif\u001b[39;00m \u001b[38;5;28misinstance\u001b[39m(ax, TimedeltaIndex):\n\u001b[1;32m   2264\u001b[0m     \u001b[38;5;28;01mreturn\u001b[39;00m TimedeltaIndexResampler(\n\u001b[1;32m   2265\u001b[0m         obj,\n\u001b[1;32m   2266\u001b[0m         timegrouper\u001b[38;5;241m=\u001b[39m\u001b[38;5;28mself\u001b[39m,\n\u001b[0;32m   (...)\u001b[0m\n\u001b[1;32m   2269\u001b[0m         gpr_index\u001b[38;5;241m=\u001b[39max,\n\u001b[1;32m   2270\u001b[0m     )\n\u001b[0;32m-> 2272\u001b[0m \u001b[38;5;28;01mraise\u001b[39;00m \u001b[38;5;167;01mTypeError\u001b[39;00m(\n\u001b[1;32m   2273\u001b[0m     \u001b[38;5;124m\"\u001b[39m\u001b[38;5;124mOnly valid with DatetimeIndex, \u001b[39m\u001b[38;5;124m\"\u001b[39m\n\u001b[1;32m   2274\u001b[0m     \u001b[38;5;124m\"\u001b[39m\u001b[38;5;124mTimedeltaIndex or PeriodIndex, \u001b[39m\u001b[38;5;124m\"\u001b[39m\n\u001b[1;32m   2275\u001b[0m     \u001b[38;5;124mf\u001b[39m\u001b[38;5;124m\"\u001b[39m\u001b[38;5;124mbut got an instance of \u001b[39m\u001b[38;5;124m'\u001b[39m\u001b[38;5;132;01m{\u001b[39;00m\u001b[38;5;28mtype\u001b[39m(ax)\u001b[38;5;241m.\u001b[39m\u001b[38;5;18m__name__\u001b[39m\u001b[38;5;132;01m}\u001b[39;00m\u001b[38;5;124m'\u001b[39m\u001b[38;5;124m\"\u001b[39m\n\u001b[1;32m   2276\u001b[0m )\n",
      "\u001b[0;31mTypeError\u001b[0m: Only valid with DatetimeIndex, TimedeltaIndex or PeriodIndex, but got an instance of 'RangeIndex'"
     ]
    }
   ],
   "source": [
    "weekly = fremont_bridge_data.resample('W').sum()\n",
    "weekly.plot(style=['-',':','--'])\n",
    "plt.ylabel('Weekly bicycle count'); "
   ]
  },
  {
   "cell_type": "code",
   "execution_count": null,
   "id": "57686786-e740-4be0-91cb-c0d64a477f90",
   "metadata": {},
   "outputs": [],
   "source": [
    "import matplotlib.pyplot as plt\n",
    "\n",
    "# Resample the data by day and sum the values\n",
    "daily = fremont_bridge_data.resample('D').sum()\n",
    "\n",
    "# Apply a 30-day centered rolling sum\n",
    "rolling_daily = daily.rolling(window=30, center=True).sum()\n",
    "\n",
    "# Plot the 30-day centered rolling sum for each section of the bridge\n",
    "rolling_daily.plot(style=['-', ':', '--'])\n",
    "\n",
    "# Add a label to the y-axis\n",
    "plt.ylabel('30-day Rolling Bicycle Count')\n",
    "\n",
    "# Show the plot\n",
    "plt.show()"
   ]
  },
  {
   "cell_type": "code",
   "execution_count": null,
   "id": "cb8d5a94-ae25-432b-817f-9db3525174ec",
   "metadata": {},
   "outputs": [],
   "source": [
    "daily.rolling(50,center=True, \n",
    "             win_type='gaussian').sum(std=10).plot(style=['-',':','--']);"
   ]
  },
  {
   "cell_type": "code",
   "execution_count": null,
   "id": "d9fbf9b4-594c-4ac4-8147-2223e3c9be24",
   "metadata": {},
   "outputs": [],
   "source": [
    "by_time = data.groupby(data.index.time).mean()\n",
    "hourly_ticks = 4 * 60 * 60 * np.arange(6)\n",
    "by_time.plot(xticks=hourly_ticks, style=['-',':','--'])"
   ]
  },
  {
   "cell_type": "code",
   "execution_count": null,
   "id": "d0ed8375-2c56-4ea5-8caa-9b1a2cf121ef",
   "metadata": {},
   "outputs": [],
   "source": [
    "print(numeric_by_time.head())"
   ]
  },
  {
   "cell_type": "code",
   "execution_count": null,
   "id": "eaa86bad-57f1-478c-8f13-5c5474a519bc",
   "metadata": {},
   "outputs": [],
   "source": [
    "print(data.head())\n",
    "print(by_time.head())"
   ]
  },
  {
   "cell_type": "code",
   "execution_count": null,
   "id": "828ef8f5-6313-4514-a579-c5818b3a2e91",
   "metadata": {},
   "outputs": [],
   "source": [
    "print(numeric_by_time.head())"
   ]
  },
  {
   "cell_type": "code",
   "execution_count": null,
   "id": "8641f739-c394-4196-b53f-1e8f99d47fbb",
   "metadata": {},
   "outputs": [],
   "source": [
    "print(by_time.head())"
   ]
  },
  {
   "cell_type": "code",
   "execution_count": null,
   "id": "2fef684e-cdb8-4851-9764-2775290d3003",
   "metadata": {},
   "outputs": [],
   "source": [
    "print(data.head())\n",
    "print(data.index)"
   ]
  },
  {
   "cell_type": "code",
   "execution_count": null,
   "id": "34e321e1-a936-4b22-a3d3-668a6a21e107",
   "metadata": {},
   "outputs": [],
   "source": [
    "by_time = data.groupby(pd.Grouper(freq='h')).mean()"
   ]
  },
  {
   "cell_type": "code",
   "execution_count": 137,
   "id": "33d92330-5c89-41cf-bd15-37da0f181730",
   "metadata": {},
   "outputs": [
    {
     "name": "stdout",
     "output_type": "stream",
     "text": [
      "Empty DataFrame\n",
      "Columns: []\n",
      "Index: [1970-01-01 00:00:00.000000005, 1970-01-01 00:00:00.000000007, 1970-01-01 00:00:00.000000001, 1970-01-01 00:00:00, 1970-01-01 00:00:00.000000001]\n",
      "DatetimeIndex(['1970-01-01 00:00:00.000000005',\n",
      "               '1970-01-01 00:00:00.000000007',\n",
      "               '1970-01-01 00:00:00.000000001',\n",
      "                         '1970-01-01 00:00:00',\n",
      "               '1970-01-01 00:00:00.000000001',\n",
      "               '1970-01-01 00:00:00.000000011',\n",
      "               '1970-01-01 00:00:00.000000054',\n",
      "               '1970-01-01 00:00:00.000000179',\n",
      "               '1970-01-01 00:00:00.000000322',\n",
      "               '1970-01-01 00:00:00.000000202',\n",
      "               ...\n",
      "               '1970-01-01 00:00:00.000000001',\n",
      "               '1970-01-01 00:00:00.000000006',\n",
      "               '1970-01-01 00:00:00.000000003',\n",
      "               '1970-01-01 00:00:00.000000003',\n",
      "               '1970-01-01 00:00:00.000000002',\n",
      "                         '1970-01-01 00:00:00',\n",
      "                         '1970-01-01 00:00:00',\n",
      "                         '1970-01-01 00:00:00',\n",
      "                         '1970-01-01 00:00:00',\n",
      "                         '1970-01-01 00:00:00'],\n",
      "              dtype='datetime64[ns]', name='Date', length=147278, freq=None)\n"
     ]
    }
   ],
   "source": [
    "print(data.head())\n",
    "print(data.index)"
   ]
  },
  {
   "cell_type": "code",
   "execution_count": 138,
   "id": "ae147a27-98e9-40cd-9391-3d9b36cdb4dd",
   "metadata": {},
   "outputs": [],
   "source": [
    "data.index = pd.to_datetime(data.index)"
   ]
  },
  {
   "cell_type": "code",
   "execution_count": 139,
   "id": "3716b18a-8778-421e-8ec3-3679ea569b84",
   "metadata": {},
   "outputs": [
    {
     "name": "stdout",
     "output_type": "stream",
     "text": [
      "Empty DataFrame\n",
      "Columns: []\n",
      "Index: [1970-01-01 00:00:00]\n"
     ]
    }
   ],
   "source": [
    "by_time = data.groupby(pd.Grouper(freq='h')).mean()\n",
    "print(by_time.head())"
   ]
  },
  {
   "cell_type": "code",
   "execution_count": 140,
   "id": "0801930d-609e-4803-8f53-7a4e023a1a2c",
   "metadata": {},
   "outputs": [
    {
     "name": "stdout",
     "output_type": "stream",
     "text": [
      "                     Date  Fremont Bridge Total  Fremont Bridge East Sidewalk  \\\n",
      "0  11/01/2019 12:00:00 AM                  12.0                           7.0   \n",
      "1  11/01/2019 01:00:00 AM                   7.0                           0.0   \n",
      "2  11/01/2019 02:00:00 AM                   1.0                           0.0   \n",
      "3  11/01/2019 03:00:00 AM                   6.0                           6.0   \n",
      "4  11/01/2019 04:00:00 AM                   6.0                           5.0   \n",
      "\n",
      "   Fremont Bridge West Sidewalk  \n",
      "0                           5.0  \n",
      "1                           7.0  \n",
      "2                           1.0  \n",
      "3                           0.0  \n",
      "4                           1.0  \n"
     ]
    }
   ],
   "source": [
    "import pandas as pd\n",
    "\n",
    "# Load the CSV file\n",
    "data_fremont = pd.read_csv('FremontBridge.csv')\n",
    "\n",
    "# Display the first few rows to ensure it's loaded correctly\n",
    "print(data_fremont.head())"
   ]
  },
  {
   "cell_type": "code",
   "execution_count": 141,
   "id": "1113d396-0e19-4acb-9089-c77987e30dee",
   "metadata": {},
   "outputs": [
    {
     "name": "stderr",
     "output_type": "stream",
     "text": [
      "/var/folders/w_/x158hy914jv595q6kdm333n80000gn/T/ipykernel_78543/3410268743.py:1: UserWarning: Could not infer format, so each element will be parsed individually, falling back to `dateutil`. To ensure parsing is consistent and as-expected, please specify a format.\n",
      "  data_fremont['Date'] = pd.to_datetime(data_fremont['Date'])\n"
     ]
    }
   ],
   "source": [
    "data_fremont['Date'] = pd.to_datetime(data_fremont['Date'])\n",
    "data_fremont.set_index('Date', inplace=True)"
   ]
  },
  {
   "cell_type": "code",
   "execution_count": 142,
   "id": "db0f8ae8-cf06-4ce2-af80-bd05ac6fb868",
   "metadata": {},
   "outputs": [],
   "source": [
    "by_time_fremont = data_fremont.groupby(pd.Grouper(freq='h')).mean()"
   ]
  },
  {
   "cell_type": "code",
   "execution_count": 143,
   "id": "2cb13ec6-8a5d-4e7a-aa9c-b4bf5cf4a60f",
   "metadata": {},
   "outputs": [
    {
     "data": {
      "image/png": "[encoded data removed]",
      "text/plain": [
       "<Figure size 640x480 with 1 Axes>"
      ]
     },
     "metadata": {},
     "output_type": "display_data"
    }
   ],
   "source": [
    "numeric_by_time_fremont = by_time_fremont.select_dtypes(include=[np.number])\n",
    "\n",
    "# Plot the data\n",
    "numeric_by_time_fremont.plot()\n",
    "plt.show()"
   ]
  },
  {
   "cell_type": "code",
   "execution_count": 144,
   "id": "0fd30e2b-7225-4c4e-90be-ac351dc56c62",
   "metadata": {},
   "outputs": [
    {
     "name": "stderr",
     "output_type": "stream",
     "text": [
      "/opt/homebrew/Cellar/jupyterlab/4.0.11/libexec/lib/python3.12/site-packages/pandas/plotting/_matplotlib/core.py:1561: UserWarning: Attempting to set identical low and high xlims makes transformation singular; automatically expanding.\n",
      "  ax.set_xlim(left, right)\n"
     ]
    },
    {
     "data": {
      "image/png": "[encoded data removed]",
      "text/plain": [
       "<Figure size 640x480 with 1 Axes>"
      ]
     },
     "metadata": {},
     "output_type": "display_data"
    }
   ],
   "source": [
    "# Since the 'Date' column is likely already set as the index, let's skip the re-setting step\n",
    "\n",
    "# Group by hour\n",
    "by_time_fremont = data_fremont.groupby(pd.Grouper(freq='h')).mean()\n",
    "\n",
    "# Select numeric columns\n",
    "numeric_by_time_fremont = by_time_fremont.select_dtypes(include=[np.number])\n",
    "\n",
    "# Plot the data for the user's specific selection (iloc 10:11 and 2:3)\n",
    "numeric_by_time_fremont.iloc[10:11, 2:3].plot()\n",
    "plt.show()"
   ]
  },
  {
   "cell_type": "code",
   "execution_count": 145,
   "id": "b53c6da9-07da-4ac1-8415-86752585e682",
   "metadata": {},
   "outputs": [
    {
     "name": "stdout",
     "output_type": "stream",
     "text": [
      "Empty DataFrame\n",
      "Columns: []\n",
      "Index: [Mon, Tue, Wed, Thurs, Fri]\n"
     ]
    }
   ],
   "source": [
    "print(by_weekday.head())"
   ]
  },
  {
   "cell_type": "code",
   "execution_count": 146,
   "id": "a0457bdf-dfa6-441b-a7cd-3651885d84c5",
   "metadata": {},
   "outputs": [],
   "source": [
    "numeric_by_weekday = by_weekday.select_dtypes(include=[np.number])"
   ]
  },
  {
   "cell_type": "code",
   "execution_count": 157,
   "id": "2d14a877-0924-42c5-a6bb-0d48635b3ca2",
   "metadata": {},
   "outputs": [
    {
     "ename": "TypeError",
     "evalue": "no numeric data to plot",
     "output_type": "error",
     "traceback": [
      "\u001b[0;31m---------------------------------------------------------------------------\u001b[0m",
      "\u001b[0;31mTypeError\u001b[0m                                 Traceback (most recent call last)",
      "Cell \u001b[0;32mIn[157], line 1\u001b[0m\n\u001b[0;32m----> 1\u001b[0m \u001b[43mnumeric_by_weekday\u001b[49m\u001b[38;5;241;43m.\u001b[39;49m\u001b[43mplot\u001b[49m\u001b[43m(\u001b[49m\u001b[43mstyle\u001b[49m\u001b[38;5;241;43m=\u001b[39;49m\u001b[43m[\u001b[49m\u001b[38;5;124;43m'\u001b[39;49m\u001b[38;5;124;43m-\u001b[39;49m\u001b[38;5;124;43m'\u001b[39;49m\u001b[43m,\u001b[49m\u001b[43m \u001b[49m\u001b[38;5;124;43m'\u001b[39;49m\u001b[38;5;124;43m:\u001b[39;49m\u001b[38;5;124;43m'\u001b[39;49m\u001b[43m,\u001b[49m\u001b[43m \u001b[49m\u001b[38;5;124;43m'\u001b[39;49m\u001b[38;5;124;43m--\u001b[39;49m\u001b[38;5;124;43m'\u001b[39;49m\u001b[43m]\u001b[49m\u001b[43m)\u001b[49m\n\u001b[1;32m      2\u001b[0m plt\u001b[38;5;241m.\u001b[39mxticks(ticks\u001b[38;5;241m=\u001b[39m\u001b[38;5;28mrange\u001b[39m(\u001b[38;5;241m7\u001b[39m), labels\u001b[38;5;241m=\u001b[39m[\u001b[38;5;124m'\u001b[39m\u001b[38;5;124mMon\u001b[39m\u001b[38;5;124m'\u001b[39m, \u001b[38;5;124m'\u001b[39m\u001b[38;5;124mTue\u001b[39m\u001b[38;5;124m'\u001b[39m, \u001b[38;5;124m'\u001b[39m\u001b[38;5;124mWed\u001b[39m\u001b[38;5;124m'\u001b[39m, \u001b[38;5;124m'\u001b[39m\u001b[38;5;124mThurs\u001b[39m\u001b[38;5;124m'\u001b[39m, \u001b[38;5;124m'\u001b[39m\u001b[38;5;124mFri\u001b[39m\u001b[38;5;124m'\u001b[39m, \u001b[38;5;124m'\u001b[39m\u001b[38;5;124mSat\u001b[39m\u001b[38;5;124m'\u001b[39m, \u001b[38;5;124m'\u001b[39m\u001b[38;5;124mSun\u001b[39m\u001b[38;5;124m'\u001b[39m])\n\u001b[1;32m      3\u001b[0m plt\u001b[38;5;241m.\u001b[39mshow()\n",
      "File \u001b[0;32m/opt/homebrew/Cellar/jupyterlab/4.0.11/libexec/lib/python3.12/site-packages/pandas/plotting/_core.py:1030\u001b[0m, in \u001b[0;36mPlotAccessor.__call__\u001b[0;34m(self, *args, **kwargs)\u001b[0m\n\u001b[1;32m   1027\u001b[0m             label_name \u001b[38;5;241m=\u001b[39m label_kw \u001b[38;5;129;01mor\u001b[39;00m data\u001b[38;5;241m.\u001b[39mcolumns\n\u001b[1;32m   1028\u001b[0m             data\u001b[38;5;241m.\u001b[39mcolumns \u001b[38;5;241m=\u001b[39m label_name\n\u001b[0;32m-> 1030\u001b[0m \u001b[38;5;28;01mreturn\u001b[39;00m \u001b[43mplot_backend\u001b[49m\u001b[38;5;241;43m.\u001b[39;49m\u001b[43mplot\u001b[49m\u001b[43m(\u001b[49m\u001b[43mdata\u001b[49m\u001b[43m,\u001b[49m\u001b[43m \u001b[49m\u001b[43mkind\u001b[49m\u001b[38;5;241;43m=\u001b[39;49m\u001b[43mkind\u001b[49m\u001b[43m,\u001b[49m\u001b[43m \u001b[49m\u001b[38;5;241;43m*\u001b[39;49m\u001b[38;5;241;43m*\u001b[39;49m\u001b[43mkwargs\u001b[49m\u001b[43m)\u001b[49m\n",
      "File \u001b[0;32m/opt/homebrew/Cellar/jupyterlab/4.0.11/libexec/lib/python3.12/site-packages/pandas/plotting/_matplotlib/__init__.py:71\u001b[0m, in \u001b[0;36mplot\u001b[0;34m(data, kind, **kwargs)\u001b[0m\n\u001b[1;32m     69\u001b[0m         kwargs[\u001b[38;5;124m\"\u001b[39m\u001b[38;5;124max\u001b[39m\u001b[38;5;124m\"\u001b[39m] \u001b[38;5;241m=\u001b[39m \u001b[38;5;28mgetattr\u001b[39m(ax, \u001b[38;5;124m\"\u001b[39m\u001b[38;5;124mleft_ax\u001b[39m\u001b[38;5;124m\"\u001b[39m, ax)\n\u001b[1;32m     70\u001b[0m plot_obj \u001b[38;5;241m=\u001b[39m PLOT_CLASSES[kind](data, \u001b[38;5;241m*\u001b[39m\u001b[38;5;241m*\u001b[39mkwargs)\n\u001b[0;32m---> 71\u001b[0m \u001b[43mplot_obj\u001b[49m\u001b[38;5;241;43m.\u001b[39;49m\u001b[43mgenerate\u001b[49m\u001b[43m(\u001b[49m\u001b[43m)\u001b[49m\n\u001b[1;32m     72\u001b[0m plot_obj\u001b[38;5;241m.\u001b[39mdraw()\n\u001b[1;32m     73\u001b[0m \u001b[38;5;28;01mreturn\u001b[39;00m plot_obj\u001b[38;5;241m.\u001b[39mresult\n",
      "File \u001b[0;32m/opt/homebrew/Cellar/jupyterlab/4.0.11/libexec/lib/python3.12/site-packages/pandas/plotting/_matplotlib/core.py:499\u001b[0m, in \u001b[0;36mMPLPlot.generate\u001b[0;34m(self)\u001b[0m\n\u001b[1;32m    497\u001b[0m \u001b[38;5;129m@final\u001b[39m\n\u001b[1;32m    498\u001b[0m \u001b[38;5;28;01mdef\u001b[39;00m \u001b[38;5;21mgenerate\u001b[39m(\u001b[38;5;28mself\u001b[39m) \u001b[38;5;241m-\u001b[39m\u001b[38;5;241m>\u001b[39m \u001b[38;5;28;01mNone\u001b[39;00m:\n\u001b[0;32m--> 499\u001b[0m     \u001b[38;5;28;43mself\u001b[39;49m\u001b[38;5;241;43m.\u001b[39;49m\u001b[43m_compute_plot_data\u001b[49m\u001b[43m(\u001b[49m\u001b[43m)\u001b[49m\n\u001b[1;32m    500\u001b[0m     fig \u001b[38;5;241m=\u001b[39m \u001b[38;5;28mself\u001b[39m\u001b[38;5;241m.\u001b[39mfig\n\u001b[1;32m    501\u001b[0m     \u001b[38;5;28mself\u001b[39m\u001b[38;5;241m.\u001b[39m_make_plot(fig)\n",
      "File \u001b[0;32m/opt/homebrew/Cellar/jupyterlab/4.0.11/libexec/lib/python3.12/site-packages/pandas/plotting/_matplotlib/core.py:698\u001b[0m, in \u001b[0;36mMPLPlot._compute_plot_data\u001b[0;34m(self)\u001b[0m\n\u001b[1;32m    696\u001b[0m \u001b[38;5;66;03m# no non-numeric frames or series allowed\u001b[39;00m\n\u001b[1;32m    697\u001b[0m \u001b[38;5;28;01mif\u001b[39;00m is_empty:\n\u001b[0;32m--> 698\u001b[0m     \u001b[38;5;28;01mraise\u001b[39;00m \u001b[38;5;167;01mTypeError\u001b[39;00m(\u001b[38;5;124m\"\u001b[39m\u001b[38;5;124mno numeric data to plot\u001b[39m\u001b[38;5;124m\"\u001b[39m)\n\u001b[1;32m    700\u001b[0m \u001b[38;5;28mself\u001b[39m\u001b[38;5;241m.\u001b[39mdata \u001b[38;5;241m=\u001b[39m numeric_data\u001b[38;5;241m.\u001b[39mapply(\u001b[38;5;28mtype\u001b[39m(\u001b[38;5;28mself\u001b[39m)\u001b[38;5;241m.\u001b[39m_convert_to_ndarray)\n",
      "\u001b[0;31mTypeError\u001b[0m: no numeric data to plot"
     ]
    }
   ],
   "source": [
    "numeric_by_weekday.plot(style=['-', ':', '--'])\n",
    "plt.xticks(ticks=range(7), labels=['Mon', 'Tue', 'Wed', 'Thurs', 'Fri', 'Sat', 'Sun'])\n",
    "plt.show()"
   ]
  },
  {
   "cell_type": "code",
   "execution_count": null,
   "id": "28f9e7e5-c27d-42ff-9743-4f977b831010",
   "metadata": {},
   "outputs": [],
   "source": [
    "# Group by day of the week (0=Monday, 6=Sunday)\n",
    "by_weekday = data.groupby(data.index.dayofweek).mean()\n",
    "\n",
    "# Rename the index to show weekday names\n",
    "by_weekday.index = ['Mon', 'Tue', 'Wed', 'Thurs', 'Fri', 'Sat', 'Sun']\n",
    "\n",
    "# Plot the data\n",
    "by_weekday.plot(style=['-', ':', '--'])\n",
    "\n",
    "# Show the plot\n",
    "plt.show()"
   ]
  },
  {
   "cell_type": "code",
   "execution_count": 148,
   "id": "7e9f7d17-1008-4bdb-8211-9892556faa8e",
   "metadata": {},
   "outputs": [
    {
     "name": "stdout",
     "output_type": "stream",
     "text": [
      "Empty DataFrame\n",
      "Columns: []\n",
      "Index: [Mon, Tue, Wed, Thurs, Fri]\n"
     ]
    }
   ],
   "source": [
    "print(by_weekday.head())"
   ]
  },
  {
   "cell_type": "code",
   "execution_count": 156,
   "id": "f018d303-71e7-4247-8300-87f3b1b625bd",
   "metadata": {},
   "outputs": [],
   "source": [
    "numeric_by_weekday = by_weekday.select_dtypes(include=[np.number])"
   ]
  },
  {
   "cell_type": "code",
   "execution_count": 158,
   "id": "d91b44b7-7aa8-45f6-8464-3ec8815fc7b6",
   "metadata": {},
   "outputs": [
    {
     "ename": "TypeError",
     "evalue": "no numeric data to plot",
     "output_type": "error",
     "traceback": [
      "\u001b[0;31m---------------------------------------------------------------------------\u001b[0m",
      "\u001b[0;31mTypeError\u001b[0m                                 Traceback (most recent call last)",
      "Cell \u001b[0;32mIn[158], line 1\u001b[0m\n\u001b[0;32m----> 1\u001b[0m \u001b[43mnumeric_by_weekday\u001b[49m\u001b[38;5;241;43m.\u001b[39;49m\u001b[43mplot\u001b[49m\u001b[43m(\u001b[49m\u001b[43mstyle\u001b[49m\u001b[38;5;241;43m=\u001b[39;49m\u001b[43m[\u001b[49m\u001b[38;5;124;43m'\u001b[39;49m\u001b[38;5;124;43m-\u001b[39;49m\u001b[38;5;124;43m'\u001b[39;49m\u001b[43m,\u001b[49m\u001b[43m \u001b[49m\u001b[38;5;124;43m'\u001b[39;49m\u001b[38;5;124;43m:\u001b[39;49m\u001b[38;5;124;43m'\u001b[39;49m\u001b[43m,\u001b[49m\u001b[43m \u001b[49m\u001b[38;5;124;43m'\u001b[39;49m\u001b[38;5;124;43m--\u001b[39;49m\u001b[38;5;124;43m'\u001b[39;49m\u001b[43m]\u001b[49m\u001b[43m)\u001b[49m\n\u001b[1;32m      2\u001b[0m plt\u001b[38;5;241m.\u001b[39mxticks(ticks\u001b[38;5;241m=\u001b[39m\u001b[38;5;28mrange\u001b[39m(\u001b[38;5;241m7\u001b[39m), labels\u001b[38;5;241m=\u001b[39m[\u001b[38;5;124m'\u001b[39m\u001b[38;5;124mMon\u001b[39m\u001b[38;5;124m'\u001b[39m, \u001b[38;5;124m'\u001b[39m\u001b[38;5;124mTue\u001b[39m\u001b[38;5;124m'\u001b[39m, \u001b[38;5;124m'\u001b[39m\u001b[38;5;124mWed\u001b[39m\u001b[38;5;124m'\u001b[39m, \u001b[38;5;124m'\u001b[39m\u001b[38;5;124mThurs\u001b[39m\u001b[38;5;124m'\u001b[39m, \u001b[38;5;124m'\u001b[39m\u001b[38;5;124mFri\u001b[39m\u001b[38;5;124m'\u001b[39m, \u001b[38;5;124m'\u001b[39m\u001b[38;5;124mSat\u001b[39m\u001b[38;5;124m'\u001b[39m, \u001b[38;5;124m'\u001b[39m\u001b[38;5;124mSun\u001b[39m\u001b[38;5;124m'\u001b[39m])\n\u001b[1;32m      3\u001b[0m plt\u001b[38;5;241m.\u001b[39mshow()\n",
      "File \u001b[0;32m/opt/homebrew/Cellar/jupyterlab/4.0.11/libexec/lib/python3.12/site-packages/pandas/plotting/_core.py:1030\u001b[0m, in \u001b[0;36mPlotAccessor.__call__\u001b[0;34m(self, *args, **kwargs)\u001b[0m\n\u001b[1;32m   1027\u001b[0m             label_name \u001b[38;5;241m=\u001b[39m label_kw \u001b[38;5;129;01mor\u001b[39;00m data\u001b[38;5;241m.\u001b[39mcolumns\n\u001b[1;32m   1028\u001b[0m             data\u001b[38;5;241m.\u001b[39mcolumns \u001b[38;5;241m=\u001b[39m label_name\n\u001b[0;32m-> 1030\u001b[0m \u001b[38;5;28;01mreturn\u001b[39;00m \u001b[43mplot_backend\u001b[49m\u001b[38;5;241;43m.\u001b[39;49m\u001b[43mplot\u001b[49m\u001b[43m(\u001b[49m\u001b[43mdata\u001b[49m\u001b[43m,\u001b[49m\u001b[43m \u001b[49m\u001b[43mkind\u001b[49m\u001b[38;5;241;43m=\u001b[39;49m\u001b[43mkind\u001b[49m\u001b[43m,\u001b[49m\u001b[43m \u001b[49m\u001b[38;5;241;43m*\u001b[39;49m\u001b[38;5;241;43m*\u001b[39;49m\u001b[43mkwargs\u001b[49m\u001b[43m)\u001b[49m\n",
      "File \u001b[0;32m/opt/homebrew/Cellar/jupyterlab/4.0.11/libexec/lib/python3.12/site-packages/pandas/plotting/_matplotlib/__init__.py:71\u001b[0m, in \u001b[0;36mplot\u001b[0;34m(data, kind, **kwargs)\u001b[0m\n\u001b[1;32m     69\u001b[0m         kwargs[\u001b[38;5;124m\"\u001b[39m\u001b[38;5;124max\u001b[39m\u001b[38;5;124m\"\u001b[39m] \u001b[38;5;241m=\u001b[39m \u001b[38;5;28mgetattr\u001b[39m(ax, \u001b[38;5;124m\"\u001b[39m\u001b[38;5;124mleft_ax\u001b[39m\u001b[38;5;124m\"\u001b[39m, ax)\n\u001b[1;32m     70\u001b[0m plot_obj \u001b[38;5;241m=\u001b[39m PLOT_CLASSES[kind](data, \u001b[38;5;241m*\u001b[39m\u001b[38;5;241m*\u001b[39mkwargs)\n\u001b[0;32m---> 71\u001b[0m \u001b[43mplot_obj\u001b[49m\u001b[38;5;241;43m.\u001b[39;49m\u001b[43mgenerate\u001b[49m\u001b[43m(\u001b[49m\u001b[43m)\u001b[49m\n\u001b[1;32m     72\u001b[0m plot_obj\u001b[38;5;241m.\u001b[39mdraw()\n\u001b[1;32m     73\u001b[0m \u001b[38;5;28;01mreturn\u001b[39;00m plot_obj\u001b[38;5;241m.\u001b[39mresult\n",
      "File \u001b[0;32m/opt/homebrew/Cellar/jupyterlab/4.0.11/libexec/lib/python3.12/site-packages/pandas/plotting/_matplotlib/core.py:499\u001b[0m, in \u001b[0;36mMPLPlot.generate\u001b[0;34m(self)\u001b[0m\n\u001b[1;32m    497\u001b[0m \u001b[38;5;129m@final\u001b[39m\n\u001b[1;32m    498\u001b[0m \u001b[38;5;28;01mdef\u001b[39;00m \u001b[38;5;21mgenerate\u001b[39m(\u001b[38;5;28mself\u001b[39m) \u001b[38;5;241m-\u001b[39m\u001b[38;5;241m>\u001b[39m \u001b[38;5;28;01mNone\u001b[39;00m:\n\u001b[0;32m--> 499\u001b[0m     \u001b[38;5;28;43mself\u001b[39;49m\u001b[38;5;241;43m.\u001b[39;49m\u001b[43m_compute_plot_data\u001b[49m\u001b[43m(\u001b[49m\u001b[43m)\u001b[49m\n\u001b[1;32m    500\u001b[0m     fig \u001b[38;5;241m=\u001b[39m \u001b[38;5;28mself\u001b[39m\u001b[38;5;241m.\u001b[39mfig\n\u001b[1;32m    501\u001b[0m     \u001b[38;5;28mself\u001b[39m\u001b[38;5;241m.\u001b[39m_make_plot(fig)\n",
      "File \u001b[0;32m/opt/homebrew/Cellar/jupyterlab/4.0.11/libexec/lib/python3.12/site-packages/pandas/plotting/_matplotlib/core.py:698\u001b[0m, in \u001b[0;36mMPLPlot._compute_plot_data\u001b[0;34m(self)\u001b[0m\n\u001b[1;32m    696\u001b[0m \u001b[38;5;66;03m# no non-numeric frames or series allowed\u001b[39;00m\n\u001b[1;32m    697\u001b[0m \u001b[38;5;28;01mif\u001b[39;00m is_empty:\n\u001b[0;32m--> 698\u001b[0m     \u001b[38;5;28;01mraise\u001b[39;00m \u001b[38;5;167;01mTypeError\u001b[39;00m(\u001b[38;5;124m\"\u001b[39m\u001b[38;5;124mno numeric data to plot\u001b[39m\u001b[38;5;124m\"\u001b[39m)\n\u001b[1;32m    700\u001b[0m \u001b[38;5;28mself\u001b[39m\u001b[38;5;241m.\u001b[39mdata \u001b[38;5;241m=\u001b[39m numeric_data\u001b[38;5;241m.\u001b[39mapply(\u001b[38;5;28mtype\u001b[39m(\u001b[38;5;28mself\u001b[39m)\u001b[38;5;241m.\u001b[39m_convert_to_ndarray)\n",
      "\u001b[0;31mTypeError\u001b[0m: no numeric data to plot"
     ]
    }
   ],
   "source": [
    "numeric_by_weekday.plot(style=['-', ':', '--'])\n",
    "plt.xticks(ticks=range(7), labels=['Mon', 'Tue', 'Wed', 'Thurs', 'Fri', 'Sat', 'Sun'])\n",
    "plt.show()"
   ]
  },
  {
   "cell_type": "code",
   "execution_count": 151,
   "id": "7d4a0351-f8ed-46d1-9d1e-0391ca8f9a04",
   "metadata": {},
   "outputs": [
    {
     "name": "stdout",
     "output_type": "stream",
     "text": [
      "Empty DataFrame\n",
      "Columns: []\n",
      "Index: [Mon, Tue, Wed, Thurs, Fri]\n"
     ]
    }
   ],
   "source": [
    "print(numeric_by_weekday.head())"
   ]
  },
  {
   "cell_type": "code",
   "execution_count": 152,
   "id": "1fb0416f-30a6-472c-bfcd-3bd57f7f3437",
   "metadata": {},
   "outputs": [
    {
     "name": "stdout",
     "output_type": "stream",
     "text": [
      "Empty DataFrame\n",
      "Columns: []\n",
      "Index: [Mon, Tue, Wed, Thurs, Fri]\n"
     ]
    }
   ],
   "source": [
    "print(by_weekday.head())\n"
   ]
  },
  {
   "cell_type": "code",
   "execution_count": 153,
   "id": "4bb873fb-fb76-4361-9890-28031e8974e5",
   "metadata": {},
   "outputs": [
    {
     "name": "stdout",
     "output_type": "stream",
     "text": [
      "Empty DataFrame\n",
      "Columns: []\n",
      "Index: [1970-01-01 00:00:00.000000005, 1970-01-01 00:00:00.000000007, 1970-01-01 00:00:00.000000001, 1970-01-01 00:00:00, 1970-01-01 00:00:00.000000001]\n",
      "DatetimeIndex(['1970-01-01 00:00:00.000000005',\n",
      "               '1970-01-01 00:00:00.000000007',\n",
      "               '1970-01-01 00:00:00.000000001',\n",
      "                         '1970-01-01 00:00:00',\n",
      "               '1970-01-01 00:00:00.000000001',\n",
      "               '1970-01-01 00:00:00.000000011',\n",
      "               '1970-01-01 00:00:00.000000054',\n",
      "               '1970-01-01 00:00:00.000000179',\n",
      "               '1970-01-01 00:00:00.000000322',\n",
      "               '1970-01-01 00:00:00.000000202',\n",
      "               ...\n",
      "               '1970-01-01 00:00:00.000000001',\n",
      "               '1970-01-01 00:00:00.000000006',\n",
      "               '1970-01-01 00:00:00.000000003',\n",
      "               '1970-01-01 00:00:00.000000003',\n",
      "               '1970-01-01 00:00:00.000000002',\n",
      "                         '1970-01-01 00:00:00',\n",
      "                         '1970-01-01 00:00:00',\n",
      "                         '1970-01-01 00:00:00',\n",
      "                         '1970-01-01 00:00:00',\n",
      "                         '1970-01-01 00:00:00'],\n",
      "              dtype='datetime64[ns]', name='Date', length=147278, freq=None)\n"
     ]
    }
   ],
   "source": [
    "print(data.head())\n",
    "print(data.index)"
   ]
  },
  {
   "cell_type": "code",
   "execution_count": 154,
   "id": "f399a8f7-f0b8-4116-b6cb-7c0db6d8ae17",
   "metadata": {},
   "outputs": [
    {
     "name": "stdout",
     "output_type": "stream",
     "text": [
      "Empty DataFrame\n",
      "Columns: []\n",
      "Index: [3.0]\n"
     ]
    }
   ],
   "source": [
    "by_weekday = data.groupby(data.index.dayofweek).mean()\n",
    "print(by_weekday.head())"
   ]
  },
  {
   "cell_type": "code",
   "execution_count": 155,
   "id": "f71e9ca0-1935-4886-a9dc-b6d64a38d697",
   "metadata": {},
   "outputs": [
    {
     "name": "stdout",
     "output_type": "stream",
     "text": [
      "Empty DataFrame\n",
      "Columns: []\n",
      "Index: [3.0]\n"
     ]
    }
   ],
   "source": [
    "numeric_by_weekday = by_weekday.select_dtypes(include=[np.number])\n",
    "print(numeric_by_weekday.head())"
   ]
  },
  {
   "cell_type": "code",
   "execution_count": null,
   "id": "bf8a7a66-0849-4510-9cda-0141f30211be",
   "metadata": {},
   "outputs": [],
   "source": []
  },
  {
   "cell_type": "code",
   "execution_count": null,
   "id": "382678e1-e99d-4259-b7c3-be33a1e3ad49",
   "metadata": {},
   "outputs": [],
   "source": []
  },
  {
   "cell_type": "code",
   "execution_count": null,
   "id": "7ee8dae5-4e4c-46d0-9cad-b37156cc329b",
   "metadata": {},
   "outputs": [],
   "source": []
  },
  {
   "cell_type": "code",
   "execution_count": null,
   "id": "d0587dad-8924-4385-af95-951eb1dd32ca",
   "metadata": {},
   "outputs": [],
   "source": []
  },
  {
   "cell_type": "code",
   "execution_count": null,
   "id": "56e9017c-8dea-483a-9246-9391a7eaf4f7",
   "metadata": {},
   "outputs": [],
   "source": []
  }
 ],
 "metadata": {
  "kernelspec": {
   "display_name": "Python 3 (ipykernel)",
   "language": "python",
   "name": "python3"
  },
  "language_info": {
   "codemirror_mode": {
    "name": "ipython",
    "version": 3
   },
   "file_extension": ".py",
   "mimetype": "text/x-python",
   "name": "python",
   "nbconvert_exporter": "python",
   "pygments_lexer": "ipython3",
   "version": "3.12.3"
  }
 },
 "nbformat": 4,
 "nbformat_minor": 5
}
