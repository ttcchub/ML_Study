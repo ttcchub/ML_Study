{
 "cells": [
  {
   "cell_type": "code",
   "execution_count": 11,
   "id": "4c3b4b10-16b6-4b7f-a997-7af5a85bfba6",
   "metadata": {},
   "outputs": [],
   "source": [
    "import pandas as pd\n",
    "import numpy as np"
   ]
  },
  {
   "cell_type": "code",
   "execution_count": 13,
   "id": "34bb7402-c88c-4ffa-a2c2-092243b90b94",
   "metadata": {},
   "outputs": [
    {
     "data": {
      "text/plain": [
       "a    0.25\n",
       "b    0.50\n",
       "c    0.75\n",
       "d    1.00\n",
       "dtype: float64"
      ]
     },
     "execution_count": 13,
     "metadata": {},
     "output_type": "execute_result"
    }
   ],
   "source": [
    "data = pd.Series([0.25, 0.5, 0.75, 1.0,],\n",
    "                index=['a', 'b', 'c', 'd'])\n",
    "data"
   ]
  },
  {
   "cell_type": "code",
   "execution_count": 14,
   "id": "a20425e9-1503-41ff-80af-420156aea509",
   "metadata": {},
   "outputs": [
    {
     "data": {
      "text/plain": [
       "0.5"
      ]
     },
     "execution_count": 14,
     "metadata": {},
     "output_type": "execute_result"
    }
   ],
   "source": [
    "data['b']"
   ]
  },
  {
   "cell_type": "code",
   "execution_count": 15,
   "id": "6796486a-924f-47a3-854c-6ded80c19848",
   "metadata": {},
   "outputs": [
    {
     "data": {
      "text/plain": [
       "True"
      ]
     },
     "execution_count": 15,
     "metadata": {},
     "output_type": "execute_result"
    }
   ],
   "source": [
    "'a' in data"
   ]
  },
  {
   "cell_type": "code",
   "execution_count": 16,
   "id": "82a0941e-4e24-4233-bf9c-0af9b2e1e1d0",
   "metadata": {},
   "outputs": [
    {
     "data": {
      "text/plain": [
       "Index(['a', 'b', 'c', 'd'], dtype='object')"
      ]
     },
     "execution_count": 16,
     "metadata": {},
     "output_type": "execute_result"
    }
   ],
   "source": [
    "data.keys()"
   ]
  },
  {
   "cell_type": "code",
   "execution_count": 17,
   "id": "0e3bf12c-deea-48f7-9331-6fa24ce8f83c",
   "metadata": {},
   "outputs": [
    {
     "data": {
      "text/plain": [
       "[('a', 0.25), ('b', 0.5), ('c', 0.75), ('d', 1.0)]"
      ]
     },
     "execution_count": 17,
     "metadata": {},
     "output_type": "execute_result"
    }
   ],
   "source": [
    "list(data.items())"
   ]
  },
  {
   "cell_type": "code",
   "execution_count": 18,
   "id": "8b5f3093-1911-4ae8-a135-e1b825561387",
   "metadata": {},
   "outputs": [
    {
     "data": {
      "text/plain": [
       "a    0.25\n",
       "b    0.50\n",
       "c    0.75\n",
       "d    1.00\n",
       "e    1.25\n",
       "dtype: float64"
      ]
     },
     "execution_count": 18,
     "metadata": {},
     "output_type": "execute_result"
    }
   ],
   "source": [
    "data['e'] = 1.25\n",
    "data"
   ]
  },
  {
   "cell_type": "code",
   "execution_count": 20,
   "id": "78397102-06c7-420d-864f-9ca6873eeb95",
   "metadata": {},
   "outputs": [
    {
     "data": {
      "text/plain": [
       "a    0.25\n",
       "b    0.50\n",
       "dtype: float64"
      ]
     },
     "execution_count": 20,
     "metadata": {},
     "output_type": "execute_result"
    }
   ],
   "source": [
    "data ['a' : 'b' ] "
   ]
  },
  {
   "cell_type": "code",
   "execution_count": 22,
   "id": "51ba7b47-74b1-45b8-81d6-de620426edb7",
   "metadata": {},
   "outputs": [
    {
     "data": {
      "text/plain": [
       "a    0.25\n",
       "b    0.50\n",
       "dtype: float64"
      ]
     },
     "execution_count": 22,
     "metadata": {},
     "output_type": "execute_result"
    }
   ],
   "source": [
    "data [0 : 2 ] "
   ]
  },
  {
   "cell_type": "code",
   "execution_count": null,
   "id": "35829e0a-847a-4ddb-b7af-e7df19f584ac",
   "metadata": {},
   "outputs": [],
   "source": [
    "#MASKING"
   ]
  },
  {
   "cell_type": "code",
   "execution_count": 23,
   "id": "ddf49342-190d-4806-92c0-044d230e6641",
   "metadata": {},
   "outputs": [
    {
     "data": {
      "text/plain": [
       "a    0.25\n",
       "b    0.50\n",
       "c    0.75\n",
       "d    1.00\n",
       "e    1.25\n",
       "dtype: float64"
      ]
     },
     "execution_count": 23,
     "metadata": {},
     "output_type": "execute_result"
    }
   ],
   "source": [
    "data[(data>0.3)&(data<0.8)]\n",
    "data"
   ]
  },
  {
   "cell_type": "code",
   "execution_count": null,
   "id": "403a6915-911c-438a-b68e-e33053023a72",
   "metadata": {},
   "outputs": [],
   "source": [
    "#VECTORISED"
   ]
  },
  {
   "cell_type": "code",
   "execution_count": 25,
   "id": "357990f1-fe50-41b6-b715-0b95f5a1ea4b",
   "metadata": {},
   "outputs": [
    {
     "data": {
      "text/plain": [
       "a    0.25\n",
       "e    1.25\n",
       "dtype: float64"
      ]
     },
     "execution_count": 25,
     "metadata": {},
     "output_type": "execute_result"
    }
   ],
   "source": [
    "data[['a','e']]"
   ]
  },
  {
   "cell_type": "code",
   "execution_count": 27,
   "id": "23dfe49d-055b-42f7-b1c3-553f87bef080",
   "metadata": {},
   "outputs": [
    {
     "data": {
      "text/plain": [
       "1    a\n",
       "3    b\n",
       "5    c\n",
       "dtype: object"
      ]
     },
     "execution_count": 27,
     "metadata": {},
     "output_type": "execute_result"
    }
   ],
   "source": [
    "data = pd.Series(['a','b','c'], index=[1,3,5])\n",
    "data"
   ]
  },
  {
   "cell_type": "code",
   "execution_count": 28,
   "id": "25bbf939-fffc-4cbe-a5a6-7be3dbb1d566",
   "metadata": {},
   "outputs": [
    {
     "data": {
      "text/plain": [
       "'a'"
      ]
     },
     "execution_count": 28,
     "metadata": {},
     "output_type": "execute_result"
    }
   ],
   "source": [
    "data[1]"
   ]
  },
  {
   "cell_type": "code",
   "execution_count": 29,
   "id": "0b0d88aa-838e-4b68-90f5-271890edf7e1",
   "metadata": {},
   "outputs": [
    {
     "data": {
      "text/plain": [
       "3    b\n",
       "5    c\n",
       "dtype: object"
      ]
     },
     "execution_count": 29,
     "metadata": {},
     "output_type": "execute_result"
    }
   ],
   "source": [
    "data[1:3]"
   ]
  },
  {
   "cell_type": "code",
   "execution_count": 31,
   "id": "bc7a6cd1-c550-4ae2-97bb-580f82c3d3f4",
   "metadata": {},
   "outputs": [
    {
     "data": {
      "text/plain": [
       "'a'"
      ]
     },
     "execution_count": 31,
     "metadata": {},
     "output_type": "execute_result"
    }
   ],
   "source": [
    "data.loc[1]"
   ]
  },
  {
   "cell_type": "code",
   "execution_count": 32,
   "id": "24adc66d-55ec-40a4-b0e8-f405f18e43fc",
   "metadata": {},
   "outputs": [
    {
     "data": {
      "text/plain": [
       "1    a\n",
       "3    b\n",
       "dtype: object"
      ]
     },
     "execution_count": 32,
     "metadata": {},
     "output_type": "execute_result"
    }
   ],
   "source": [
    "data.loc[1:3]"
   ]
  },
  {
   "cell_type": "code",
   "execution_count": 33,
   "id": "d9805965-3c28-4377-befe-399be97b862b",
   "metadata": {},
   "outputs": [
    {
     "data": {
      "text/plain": [
       "'b'"
      ]
     },
     "execution_count": 33,
     "metadata": {},
     "output_type": "execute_result"
    }
   ],
   "source": [
    "data.iloc[1]"
   ]
  },
  {
   "cell_type": "code",
   "execution_count": 35,
   "id": "62495d5f-d655-4fc8-9b88-f1400eb73e2d",
   "metadata": {},
   "outputs": [
    {
     "data": {
      "text/plain": [
       "3    b\n",
       "5    c\n",
       "dtype: object"
      ]
     },
     "execution_count": 35,
     "metadata": {},
     "output_type": "execute_result"
    }
   ],
   "source": [
    "data.iloc[1:3]"
   ]
  },
  {
   "cell_type": "code",
   "execution_count": null,
   "id": "32fb360a-a43d-43f9-9859-cd1ca1a929ae",
   "metadata": {},
   "outputs": [],
   "source": []
  },
  {
   "cell_type": "code",
   "execution_count": 47,
   "id": "892fec2f-ccb9-4a92-a576-d9a8edb9a216",
   "metadata": {},
   "outputs": [
    {
     "data": {
      "text/html": [
       "<div>\n",
       "<style scoped>\n",
       "    .dataframe tbody tr th:only-of-type {\n",
       "        vertical-align: middle;\n",
       "    }\n",
       "\n",
       "    .dataframe tbody tr th {\n",
       "        vertical-align: top;\n",
       "    }\n",
       "\n",
       "    .dataframe thead th {\n",
       "        text-align: right;\n",
       "    }\n",
       "</style>\n",
       "<table border=\"1\" class=\"dataframe\">\n",
       "  <thead>\n",
       "    <tr style=\"text-align: right;\">\n",
       "      <th></th>\n",
       "      <th>area</th>\n",
       "      <th>pop</th>\n",
       "    </tr>\n",
       "  </thead>\n",
       "  <tbody>\n",
       "    <tr>\n",
       "      <th>Los</th>\n",
       "      <td>12412412421</td>\n",
       "      <td>78519278571</td>\n",
       "    </tr>\n",
       "    <tr>\n",
       "      <th>Miam</th>\n",
       "      <td>908894923842</td>\n",
       "      <td>82912985</td>\n",
       "    </tr>\n",
       "    <tr>\n",
       "      <th>Mos</th>\n",
       "      <td>9192838213</td>\n",
       "      <td>2192929</td>\n",
       "    </tr>\n",
       "    <tr>\n",
       "      <th>NewY</th>\n",
       "      <td>4516512</td>\n",
       "      <td>2201911</td>\n",
       "    </tr>\n",
       "    <tr>\n",
       "      <th>Calif</th>\n",
       "      <td>67761277261</td>\n",
       "      <td>333912213</td>\n",
       "    </tr>\n",
       "  </tbody>\n",
       "</table>\n",
       "</div>"
      ],
      "text/plain": [
       "               area          pop\n",
       "Los     12412412421  78519278571\n",
       "Miam   908894923842     82912985\n",
       "Mos      9192838213      2192929\n",
       "NewY        4516512      2201911\n",
       "Calif   67761277261    333912213"
      ]
     },
     "execution_count": 47,
     "metadata": {},
     "output_type": "execute_result"
    }
   ],
   "source": [
    "area = pd.Series({'Los': 12412412421, 'Miam': 908894923842, 'Mos': 9192838213, 'NewY': 4516512, 'Calif': 67761277261})\n",
    "\n",
    "pop = pd.Series({'Los': 78519278571, 'Miam': 82912985, 'Mos': 2192929, 'NewY': 2201911, 'Calif': 333912213})\n",
    "\n",
    "data = pd.DataFrame({'area':area , 'pop':pop})\n",
    "data"
   ]
  },
  {
   "cell_type": "code",
   "execution_count": 48,
   "id": "68a5e008-848e-4142-b2e2-e4517e076019",
   "metadata": {},
   "outputs": [
    {
     "data": {
      "text/plain": [
       "Los       12412412421\n",
       "Miam     908894923842\n",
       "Mos        9192838213\n",
       "NewY          4516512\n",
       "Calif     67761277261\n",
       "Name: area, dtype: int64"
      ]
     },
     "execution_count": 48,
     "metadata": {},
     "output_type": "execute_result"
    }
   ],
   "source": [
    "data['area']"
   ]
  },
  {
   "cell_type": "code",
   "execution_count": 49,
   "id": "3a9023a4-2252-45cc-827e-c4ffe4b67e94",
   "metadata": {},
   "outputs": [
    {
     "data": {
      "text/plain": [
       "Los       12412412421\n",
       "Miam     908894923842\n",
       "Mos        9192838213\n",
       "NewY          4516512\n",
       "Calif     67761277261\n",
       "Name: area, dtype: int64"
      ]
     },
     "execution_count": 49,
     "metadata": {},
     "output_type": "execute_result"
    }
   ],
   "source": [
    "data.area"
   ]
  },
  {
   "cell_type": "code",
   "execution_count": 52,
   "id": "394dc5c3-42b2-4f26-9772-924617dc892a",
   "metadata": {},
   "outputs": [
    {
     "data": {
      "text/plain": [
       "False"
      ]
     },
     "execution_count": 52,
     "metadata": {},
     "output_type": "execute_result"
    }
   ],
   "source": [
    "data.pop is data['pop']"
   ]
  },
  {
   "cell_type": "code",
   "execution_count": 54,
   "id": "08dfbf8f-88e1-445a-83a1-7697377dee16",
   "metadata": {},
   "outputs": [
    {
     "data": {
      "text/plain": [
       "Los      78519278571\n",
       "Miam        82912985\n",
       "Mos          2192929\n",
       "NewY         2201911\n",
       "Calif      333912213\n",
       "Name: pop, dtype: int64"
      ]
     },
     "execution_count": 54,
     "metadata": {},
     "output_type": "execute_result"
    }
   ],
   "source": [
    "#BETTER USE LIKE THIS:\n",
    "\n",
    "data['pop']"
   ]
  },
  {
   "cell_type": "code",
   "execution_count": 62,
   "id": "d4307766-9926-4e4e-a84c-71e672346d20",
   "metadata": {},
   "outputs": [
    {
     "data": {
      "text/html": [
       "<div>\n",
       "<style scoped>\n",
       "    .dataframe tbody tr th:only-of-type {\n",
       "        vertical-align: middle;\n",
       "    }\n",
       "\n",
       "    .dataframe tbody tr th {\n",
       "        vertical-align: top;\n",
       "    }\n",
       "\n",
       "    .dataframe thead th {\n",
       "        text-align: right;\n",
       "    }\n",
       "</style>\n",
       "<table border=\"1\" class=\"dataframe\">\n",
       "  <thead>\n",
       "    <tr style=\"text-align: right;\">\n",
       "      <th></th>\n",
       "      <th>area</th>\n",
       "      <th>pop</th>\n",
       "      <th>datasity</th>\n",
       "    </tr>\n",
       "  </thead>\n",
       "  <tbody>\n",
       "    <tr>\n",
       "      <th>Los</th>\n",
       "      <td>12412412421</td>\n",
       "      <td>78519278571</td>\n",
       "      <td>6.325868</td>\n",
       "    </tr>\n",
       "    <tr>\n",
       "      <th>Miam</th>\n",
       "      <td>908894923842</td>\n",
       "      <td>82912985</td>\n",
       "      <td>0.000091</td>\n",
       "    </tr>\n",
       "    <tr>\n",
       "      <th>Mos</th>\n",
       "      <td>9192838213</td>\n",
       "      <td>2192929</td>\n",
       "      <td>0.000239</td>\n",
       "    </tr>\n",
       "    <tr>\n",
       "      <th>NewY</th>\n",
       "      <td>4516512</td>\n",
       "      <td>2201911</td>\n",
       "      <td>0.487525</td>\n",
       "    </tr>\n",
       "    <tr>\n",
       "      <th>Calif</th>\n",
       "      <td>67761277261</td>\n",
       "      <td>333912213</td>\n",
       "      <td>0.004928</td>\n",
       "    </tr>\n",
       "  </tbody>\n",
       "</table>\n",
       "</div>"
      ],
      "text/plain": [
       "               area          pop  datasity\n",
       "Los     12412412421  78519278571  6.325868\n",
       "Miam   908894923842     82912985  0.000091\n",
       "Mos      9192838213      2192929  0.000239\n",
       "NewY        4516512      2201911  0.487525\n",
       "Calif   67761277261    333912213  0.004928"
      ]
     },
     "execution_count": 62,
     "metadata": {},
     "output_type": "execute_result"
    }
   ],
   "source": [
    "data['datasity'] =  data['pop'] / data['area']\n",
    "data"
   ]
  },
  {
   "cell_type": "code",
   "execution_count": 63,
   "id": "9fcf0a74-c6d6-4c51-8f7b-8e9f8b4ef91a",
   "metadata": {},
   "outputs": [
    {
     "data": {
      "text/plain": [
       "array([[1.24124124e+10, 7.85192786e+10, 6.32586768e+00],\n",
       "       [9.08894924e+11, 8.29129850e+07, 9.12239499e-05],\n",
       "       [9.19283821e+09, 2.19292900e+06, 2.38547546e-04],\n",
       "       [4.51651200e+06, 2.20191100e+06, 4.87524665e-01],\n",
       "       [6.77612773e+10, 3.33912213e+08, 4.92777330e-03]])"
      ]
     },
     "execution_count": 63,
     "metadata": {},
     "output_type": "execute_result"
    }
   ],
   "source": [
    "data.values"
   ]
  },
  {
   "cell_type": "code",
   "execution_count": 64,
   "id": "a83da85d-5908-4cc0-bec5-76dabead1ae2",
   "metadata": {},
   "outputs": [
    {
     "data": {
      "text/html": [
       "<div>\n",
       "<style scoped>\n",
       "    .dataframe tbody tr th:only-of-type {\n",
       "        vertical-align: middle;\n",
       "    }\n",
       "\n",
       "    .dataframe tbody tr th {\n",
       "        vertical-align: top;\n",
       "    }\n",
       "\n",
       "    .dataframe thead th {\n",
       "        text-align: right;\n",
       "    }\n",
       "</style>\n",
       "<table border=\"1\" class=\"dataframe\">\n",
       "  <thead>\n",
       "    <tr style=\"text-align: right;\">\n",
       "      <th></th>\n",
       "      <th>Los</th>\n",
       "      <th>Miam</th>\n",
       "      <th>Mos</th>\n",
       "      <th>NewY</th>\n",
       "      <th>Calif</th>\n",
       "    </tr>\n",
       "  </thead>\n",
       "  <tbody>\n",
       "    <tr>\n",
       "      <th>area</th>\n",
       "      <td>1.241241e+10</td>\n",
       "      <td>9.088949e+11</td>\n",
       "      <td>9.192838e+09</td>\n",
       "      <td>4.516512e+06</td>\n",
       "      <td>6.776128e+10</td>\n",
       "    </tr>\n",
       "    <tr>\n",
       "      <th>pop</th>\n",
       "      <td>7.851928e+10</td>\n",
       "      <td>8.291298e+07</td>\n",
       "      <td>2.192929e+06</td>\n",
       "      <td>2.201911e+06</td>\n",
       "      <td>3.339122e+08</td>\n",
       "    </tr>\n",
       "    <tr>\n",
       "      <th>datasity</th>\n",
       "      <td>6.325868e+00</td>\n",
       "      <td>9.122395e-05</td>\n",
       "      <td>2.385475e-04</td>\n",
       "      <td>4.875247e-01</td>\n",
       "      <td>4.927773e-03</td>\n",
       "    </tr>\n",
       "  </tbody>\n",
       "</table>\n",
       "</div>"
      ],
      "text/plain": [
       "                   Los          Miam           Mos          NewY         Calif\n",
       "area      1.241241e+10  9.088949e+11  9.192838e+09  4.516512e+06  6.776128e+10\n",
       "pop       7.851928e+10  8.291298e+07  2.192929e+06  2.201911e+06  3.339122e+08\n",
       "datasity  6.325868e+00  9.122395e-05  2.385475e-04  4.875247e-01  4.927773e-03"
      ]
     },
     "execution_count": 64,
     "metadata": {},
     "output_type": "execute_result"
    }
   ],
   "source": [
    "data.T"
   ]
  },
  {
   "cell_type": "code",
   "execution_count": 65,
   "id": "08a7ddf0-6090-44cf-b36c-5244b2410385",
   "metadata": {},
   "outputs": [
    {
     "data": {
      "text/plain": [
       "array([1.24124124e+10, 7.85192786e+10, 6.32586768e+00])"
      ]
     },
     "execution_count": 65,
     "metadata": {},
     "output_type": "execute_result"
    }
   ],
   "source": [
    "data.values[0]"
   ]
  },
  {
   "cell_type": "code",
   "execution_count": 66,
   "id": "ebd52bf1-0926-4d57-8fe8-043b36ba56f6",
   "metadata": {},
   "outputs": [
    {
     "data": {
      "text/plain": [
       "Los       12412412421\n",
       "Miam     908894923842\n",
       "Mos        9192838213\n",
       "NewY          4516512\n",
       "Calif     67761277261\n",
       "Name: area, dtype: int64"
      ]
     },
     "execution_count": 66,
     "metadata": {},
     "output_type": "execute_result"
    }
   ],
   "source": [
    "data['area']"
   ]
  },
  {
   "cell_type": "code",
   "execution_count": 67,
   "id": "43fbf646-c411-4b2c-aa82-cfb16a9873a0",
   "metadata": {},
   "outputs": [
    {
     "data": {
      "text/html": [
       "<div>\n",
       "<style scoped>\n",
       "    .dataframe tbody tr th:only-of-type {\n",
       "        vertical-align: middle;\n",
       "    }\n",
       "\n",
       "    .dataframe tbody tr th {\n",
       "        vertical-align: top;\n",
       "    }\n",
       "\n",
       "    .dataframe thead th {\n",
       "        text-align: right;\n",
       "    }\n",
       "</style>\n",
       "<table border=\"1\" class=\"dataframe\">\n",
       "  <thead>\n",
       "    <tr style=\"text-align: right;\">\n",
       "      <th></th>\n",
       "      <th>area</th>\n",
       "      <th>pop</th>\n",
       "    </tr>\n",
       "  </thead>\n",
       "  <tbody>\n",
       "    <tr>\n",
       "      <th>Los</th>\n",
       "      <td>12412412421</td>\n",
       "      <td>78519278571</td>\n",
       "    </tr>\n",
       "    <tr>\n",
       "      <th>Miam</th>\n",
       "      <td>908894923842</td>\n",
       "      <td>82912985</td>\n",
       "    </tr>\n",
       "    <tr>\n",
       "      <th>Mos</th>\n",
       "      <td>9192838213</td>\n",
       "      <td>2192929</td>\n",
       "    </tr>\n",
       "  </tbody>\n",
       "</table>\n",
       "</div>"
      ],
      "text/plain": [
       "              area          pop\n",
       "Los    12412412421  78519278571\n",
       "Miam  908894923842     82912985\n",
       "Mos     9192838213      2192929"
      ]
     },
     "execution_count": 67,
     "metadata": {},
     "output_type": "execute_result"
    }
   ],
   "source": [
    "data.iloc[:3, :2]"
   ]
  },
  {
   "cell_type": "code",
   "execution_count": 93,
   "id": "c985a976-eb27-415e-9125-5975fac83a1e",
   "metadata": {},
   "outputs": [
    {
     "data": {
      "text/html": [
       "<div>\n",
       "<style scoped>\n",
       "    .dataframe tbody tr th:only-of-type {\n",
       "        vertical-align: middle;\n",
       "    }\n",
       "\n",
       "    .dataframe tbody tr th {\n",
       "        vertical-align: top;\n",
       "    }\n",
       "\n",
       "    .dataframe thead th {\n",
       "        text-align: right;\n",
       "    }\n",
       "</style>\n",
       "<table border=\"1\" class=\"dataframe\">\n",
       "  <thead>\n",
       "    <tr style=\"text-align: right;\">\n",
       "      <th></th>\n",
       "      <th>area</th>\n",
       "      <th>pop</th>\n",
       "    </tr>\n",
       "  </thead>\n",
       "  <tbody>\n",
       "    <tr>\n",
       "      <th>Los</th>\n",
       "      <td>12412412421</td>\n",
       "      <td>78519278571</td>\n",
       "    </tr>\n",
       "    <tr>\n",
       "      <th>Miam</th>\n",
       "      <td>908894923842</td>\n",
       "      <td>82912985</td>\n",
       "    </tr>\n",
       "  </tbody>\n",
       "</table>\n",
       "</div>"
      ],
      "text/plain": [
       "              area          pop\n",
       "Los    12412412421  78519278571\n",
       "Miam  908894923842     82912985"
      ]
     },
     "execution_count": 93,
     "metadata": {},
     "output_type": "execute_result"
    }
   ],
   "source": [
    "data.loc[:'Miam', :\"pop\"]"
   ]
  },
  {
   "cell_type": "code",
   "execution_count": 103,
   "id": "62f5e82e-ce1b-40da-8562-9f7bcd144436",
   "metadata": {},
   "outputs": [
    {
     "data": {
      "text/html": [
       "<div>\n",
       "<style scoped>\n",
       "    .dataframe tbody tr th:only-of-type {\n",
       "        vertical-align: middle;\n",
       "    }\n",
       "\n",
       "    .dataframe tbody tr th {\n",
       "        vertical-align: top;\n",
       "    }\n",
       "\n",
       "    .dataframe thead th {\n",
       "        text-align: right;\n",
       "    }\n",
       "</style>\n",
       "<table border=\"1\" class=\"dataframe\">\n",
       "  <thead>\n",
       "    <tr style=\"text-align: right;\">\n",
       "      <th></th>\n",
       "      <th>pop</th>\n",
       "      <th>datasity</th>\n",
       "    </tr>\n",
       "  </thead>\n",
       "  <tbody>\n",
       "  </tbody>\n",
       "</table>\n",
       "</div>"
      ],
      "text/plain": [
       "Empty DataFrame\n",
       "Columns: [pop, datasity]\n",
       "Index: []"
      ]
     },
     "execution_count": 103,
     "metadata": {},
     "output_type": "execute_result"
    }
   ],
   "source": [
    "filtered_data = data.loc[data['datasity'] > 120, ['pop', 'datasity']]\n",
    "pd.DataFrame(filtered_data)"
   ]
  },
  {
   "cell_type": "code",
   "execution_count": 105,
   "id": "6d648cb0-4c26-4cea-a376-48effd28244b",
   "metadata": {},
   "outputs": [
    {
     "data": {
      "text/html": [
       "<div>\n",
       "<style scoped>\n",
       "    .dataframe tbody tr th:only-of-type {\n",
       "        vertical-align: middle;\n",
       "    }\n",
       "\n",
       "    .dataframe tbody tr th {\n",
       "        vertical-align: top;\n",
       "    }\n",
       "\n",
       "    .dataframe thead th {\n",
       "        text-align: right;\n",
       "    }\n",
       "</style>\n",
       "<table border=\"1\" class=\"dataframe\">\n",
       "  <thead>\n",
       "    <tr style=\"text-align: right;\">\n",
       "      <th></th>\n",
       "      <th>area</th>\n",
       "      <th>pop</th>\n",
       "      <th>datasity</th>\n",
       "    </tr>\n",
       "  </thead>\n",
       "  <tbody>\n",
       "    <tr>\n",
       "      <th>Los</th>\n",
       "      <td>12412412421</td>\n",
       "      <td>78519278571</td>\n",
       "      <td>90.000000</td>\n",
       "    </tr>\n",
       "    <tr>\n",
       "      <th>Miam</th>\n",
       "      <td>908894923842</td>\n",
       "      <td>82912985</td>\n",
       "      <td>0.000091</td>\n",
       "    </tr>\n",
       "    <tr>\n",
       "      <th>Mos</th>\n",
       "      <td>9192838213</td>\n",
       "      <td>2192929</td>\n",
       "      <td>0.000239</td>\n",
       "    </tr>\n",
       "    <tr>\n",
       "      <th>NewY</th>\n",
       "      <td>4516512</td>\n",
       "      <td>2201911</td>\n",
       "      <td>0.487525</td>\n",
       "    </tr>\n",
       "    <tr>\n",
       "      <th>Calif</th>\n",
       "      <td>67761277261</td>\n",
       "      <td>333912213</td>\n",
       "      <td>0.004928</td>\n",
       "    </tr>\n",
       "  </tbody>\n",
       "</table>\n",
       "</div>"
      ],
      "text/plain": [
       "               area          pop   datasity\n",
       "Los     12412412421  78519278571  90.000000\n",
       "Miam   908894923842     82912985   0.000091\n",
       "Mos      9192838213      2192929   0.000239\n",
       "NewY        4516512      2201911   0.487525\n",
       "Calif   67761277261    333912213   0.004928"
      ]
     },
     "execution_count": 105,
     "metadata": {},
     "output_type": "execute_result"
    }
   ],
   "source": [
    "data.iloc[0,2] = 90\n",
    "data"
   ]
  },
  {
   "cell_type": "code",
   "execution_count": 107,
   "id": "5dfee884-9045-4544-86f7-0f2ba0a021a0",
   "metadata": {},
   "outputs": [
    {
     "data": {
      "text/html": [
       "<div>\n",
       "<style scoped>\n",
       "    .dataframe tbody tr th:only-of-type {\n",
       "        vertical-align: middle;\n",
       "    }\n",
       "\n",
       "    .dataframe tbody tr th {\n",
       "        vertical-align: top;\n",
       "    }\n",
       "\n",
       "    .dataframe thead th {\n",
       "        text-align: right;\n",
       "    }\n",
       "</style>\n",
       "<table border=\"1\" class=\"dataframe\">\n",
       "  <thead>\n",
       "    <tr style=\"text-align: right;\">\n",
       "      <th></th>\n",
       "      <th>area</th>\n",
       "      <th>pop</th>\n",
       "      <th>datasity</th>\n",
       "    </tr>\n",
       "  </thead>\n",
       "  <tbody>\n",
       "    <tr>\n",
       "      <th>Miam</th>\n",
       "      <td>908894923842</td>\n",
       "      <td>82912985</td>\n",
       "      <td>0.000091</td>\n",
       "    </tr>\n",
       "    <tr>\n",
       "      <th>Mos</th>\n",
       "      <td>9192838213</td>\n",
       "      <td>2192929</td>\n",
       "      <td>0.000239</td>\n",
       "    </tr>\n",
       "    <tr>\n",
       "      <th>NewY</th>\n",
       "      <td>4516512</td>\n",
       "      <td>2201911</td>\n",
       "      <td>0.487525</td>\n",
       "    </tr>\n",
       "    <tr>\n",
       "      <th>Calif</th>\n",
       "      <td>67761277261</td>\n",
       "      <td>333912213</td>\n",
       "      <td>0.004928</td>\n",
       "    </tr>\n",
       "  </tbody>\n",
       "</table>\n",
       "</div>"
      ],
      "text/plain": [
       "               area        pop  datasity\n",
       "Miam   908894923842   82912985  0.000091\n",
       "Mos      9192838213    2192929  0.000239\n",
       "NewY        4516512    2201911  0.487525\n",
       "Calif   67761277261  333912213  0.004928"
      ]
     },
     "execution_count": 107,
     "metadata": {},
     "output_type": "execute_result"
    }
   ],
   "source": [
    "data['Miam':'Calif']"
   ]
  },
  {
   "cell_type": "code",
   "execution_count": 110,
   "id": "2f984fd8-c63d-41dc-a13c-b3e6817e319a",
   "metadata": {},
   "outputs": [
    {
     "data": {
      "text/html": [
       "<div>\n",
       "<style scoped>\n",
       "    .dataframe tbody tr th:only-of-type {\n",
       "        vertical-align: middle;\n",
       "    }\n",
       "\n",
       "    .dataframe tbody tr th {\n",
       "        vertical-align: top;\n",
       "    }\n",
       "\n",
       "    .dataframe thead th {\n",
       "        text-align: right;\n",
       "    }\n",
       "</style>\n",
       "<table border=\"1\" class=\"dataframe\">\n",
       "  <thead>\n",
       "    <tr style=\"text-align: right;\">\n",
       "      <th></th>\n",
       "      <th>area</th>\n",
       "      <th>pop</th>\n",
       "      <th>datasity</th>\n",
       "    </tr>\n",
       "  </thead>\n",
       "  <tbody>\n",
       "    <tr>\n",
       "      <th>Miam</th>\n",
       "      <td>908894923842</td>\n",
       "      <td>82912985</td>\n",
       "      <td>0.000091</td>\n",
       "    </tr>\n",
       "    <tr>\n",
       "      <th>Mos</th>\n",
       "      <td>9192838213</td>\n",
       "      <td>2192929</td>\n",
       "      <td>0.000239</td>\n",
       "    </tr>\n",
       "  </tbody>\n",
       "</table>\n",
       "</div>"
      ],
      "text/plain": [
       "              area       pop  datasity\n",
       "Miam  908894923842  82912985  0.000091\n",
       "Mos     9192838213   2192929  0.000239"
      ]
     },
     "execution_count": 110,
     "metadata": {},
     "output_type": "execute_result"
    }
   ],
   "source": [
    "data[1:3]"
   ]
  },
  {
   "cell_type": "code",
   "execution_count": 114,
   "id": "90a7a28e-f080-489d-9daa-d20a89b23e94",
   "metadata": {},
   "outputs": [
    {
     "data": {
      "text/html": [
       "<div>\n",
       "<style scoped>\n",
       "    .dataframe tbody tr th:only-of-type {\n",
       "        vertical-align: middle;\n",
       "    }\n",
       "\n",
       "    .dataframe tbody tr th {\n",
       "        vertical-align: top;\n",
       "    }\n",
       "\n",
       "    .dataframe thead th {\n",
       "        text-align: right;\n",
       "    }\n",
       "</style>\n",
       "<table border=\"1\" class=\"dataframe\">\n",
       "  <thead>\n",
       "    <tr style=\"text-align: right;\">\n",
       "      <th></th>\n",
       "      <th>area</th>\n",
       "      <th>pop</th>\n",
       "      <th>datasity</th>\n",
       "    </tr>\n",
       "  </thead>\n",
       "  <tbody>\n",
       "  </tbody>\n",
       "</table>\n",
       "</div>"
      ],
      "text/plain": [
       "Empty DataFrame\n",
       "Columns: [area, pop, datasity]\n",
       "Index: []"
      ]
     },
     "execution_count": 114,
     "metadata": {},
     "output_type": "execute_result"
    }
   ],
   "source": [
    "data[data.datasity>120]"
   ]
  },
  {
   "cell_type": "code",
   "execution_count": null,
   "id": "f866336e-c7ec-4f65-bccf-adb973d3b1d7",
   "metadata": {},
   "outputs": [],
   "source": []
  },
  {
   "cell_type": "code",
   "execution_count": null,
   "id": "9a76a3d1-96b7-46dd-8ecf-715a3fe935c8",
   "metadata": {},
   "outputs": [],
   "source": []
  },
  {
   "cell_type": "code",
   "execution_count": null,
   "id": "e774ce7c-7196-4c44-9ff0-a899db46654e",
   "metadata": {},
   "outputs": [],
   "source": []
  },
  {
   "cell_type": "code",
   "execution_count": null,
   "id": "978d9cae-fe71-47c5-a124-d1d1bbc1104f",
   "metadata": {},
   "outputs": [],
   "source": []
  }
 ],
 "metadata": {
  "kernelspec": {
   "display_name": "Python 3 (ipykernel)",
   "language": "python",
   "name": "python3"
  },
  "language_info": {
   "codemirror_mode": {
    "name": "ipython",
    "version": 3
   },
   "file_extension": ".py",
   "mimetype": "text/x-python",
   "name": "python",
   "nbconvert_exporter": "python",
   "pygments_lexer": "ipython3",
   "version": "3.12.3"
  }
 },
 "nbformat": 4,
 "nbformat_minor": 5
}
