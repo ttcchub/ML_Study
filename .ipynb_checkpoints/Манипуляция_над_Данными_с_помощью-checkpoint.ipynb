{
 "cells": [
  {
   "cell_type": "code",
   "execution_count": 1,
   "id": "c805ff55-e16d-4b0b-aa7f-1979660d7080",
   "metadata": {},
   "outputs": [],
   "source": [
    "import pandas as pd\n",
    "import numpy as np"
   ]
  },
  {
   "cell_type": "code",
   "execution_count": 4,
   "id": "4d85ead3-ab85-465b-b5dd-a4b05137391e",
   "metadata": {},
   "outputs": [
    {
     "data": {
      "text/html": [
       "<div>\n",
       "<style scoped>\n",
       "    .dataframe tbody tr th:only-of-type {\n",
       "        vertical-align: middle;\n",
       "    }\n",
       "\n",
       "    .dataframe tbody tr th {\n",
       "        vertical-align: top;\n",
       "    }\n",
       "\n",
       "    .dataframe thead th {\n",
       "        text-align: right;\n",
       "    }\n",
       "</style>\n",
       "<table border=\"1\" class=\"dataframe\">\n",
       "  <thead>\n",
       "    <tr style=\"text-align: right;\">\n",
       "      <th></th>\n",
       "      <th>A</th>\n",
       "      <th>B</th>\n",
       "      <th>C</th>\n",
       "    </tr>\n",
       "  </thead>\n",
       "  <tbody>\n",
       "    <tr>\n",
       "      <th>0</th>\n",
       "      <td>A0</td>\n",
       "      <td>B0</td>\n",
       "      <td>C0</td>\n",
       "    </tr>\n",
       "    <tr>\n",
       "      <th>1</th>\n",
       "      <td>A1</td>\n",
       "      <td>B1</td>\n",
       "      <td>C1</td>\n",
       "    </tr>\n",
       "    <tr>\n",
       "      <th>2</th>\n",
       "      <td>A2</td>\n",
       "      <td>B2</td>\n",
       "      <td>C2</td>\n",
       "    </tr>\n",
       "  </tbody>\n",
       "</table>\n",
       "</div>"
      ],
      "text/plain": [
       "    A   B   C\n",
       "0  A0  B0  C0\n",
       "1  A1  B1  C1\n",
       "2  A2  B2  C2"
      ]
     },
     "execution_count": 4,
     "metadata": {},
     "output_type": "execute_result"
    }
   ],
   "source": [
    "def make_df(cols, ind):\n",
    "    data = {c:[str(c)+str(i) for i in ind ]\n",
    "           for c in cols}\n",
    "    return pd.DataFrame(data, ind)\n",
    "\n",
    "make_df('ABC', range(3))"
   ]
  },
  {
   "cell_type": "code",
   "execution_count": 9,
   "id": "7db47938-ae83-4936-a1f5-ff2961d6be07",
   "metadata": {},
   "outputs": [],
   "source": [
    "class display(object):\n",
    "    template = \"\"\"<div style=\"float: left; padding: 10px\";\">\n",
    "    <p style='font-family: \"Courier New\", Courier, monospace'>{0}{1}\"\"\"\n",
    "    def __init__(self, *args):\n",
    "        self.args = args\n",
    "\n",
    "    def _repr_html_(self):\n",
    "        return '\\n'.join(self.tempalte.format(a,eval(a)._repr_html_())\n",
    "                         for a in self.args)\n",
    "\n",
    "    def _repr_(self):\n",
    "        return '\\n\\n'.join(a+'\\n'+repr(eval(a))\n",
    "                           for a in self.args)"
   ]
  },
  {
   "cell_type": "code",
   "execution_count": 11,
   "id": "73b06ec6-71f9-4e83-b615-27ead3ebcbb2",
   "metadata": {},
   "outputs": [
    {
     "data": {
      "text/plain": [
       "array([1, 2, 3, 4, 5, 6, 7, 8, 9])"
      ]
     },
     "execution_count": 11,
     "metadata": {},
     "output_type": "execute_result"
    }
   ],
   "source": [
    "x = [1,2,3]\n",
    "y = [4,5,6]\n",
    "z = [7,8,9]\n",
    "np.concatenate([x,y,z])"
   ]
  },
  {
   "cell_type": "code",
   "execution_count": 14,
   "id": "61a456aa-a978-4763-b2bf-9dfc320f13d0",
   "metadata": {},
   "outputs": [
    {
     "data": {
      "text/plain": [
       "array([[1, 2, 1, 2],\n",
       "       [3, 4, 3, 4]])"
      ]
     },
     "execution_count": 14,
     "metadata": {},
     "output_type": "execute_result"
    }
   ],
   "source": [
    "x = [[1,2],\n",
    "    [3,4]]\n",
    "\n",
    "np.concatenate([x,x], axis = 1)"
   ]
  },
  {
   "cell_type": "code",
   "execution_count": null,
   "id": "1f34972b-13a9-47ba-a2c2-cef76a58139e",
   "metadata": {},
   "outputs": [],
   "source": []
  },
  {
   "cell_type": "code",
   "execution_count": 22,
   "id": "5e887462-6d77-4130-b2ab-47062f03b095",
   "metadata": {},
   "outputs": [],
   "source": [
    "pd.concat(objs, axis = 0, join='outer', ignore_index=False, keys=None,\n",
    "          levels=None, names=None, verify_integrity=False, sort=False, copy=False)\n",
    "\n",
    "import pandas as pd\n"
   ]
  },
  {
   "cell_type": "code",
   "execution_count": null,
   "id": "03367280-2a2e-4e70-928d-187e3008b9aa",
   "metadata": {},
   "outputs": [],
   "source": []
  },
  {
   "cell_type": "code",
   "execution_count": 36,
   "id": "82419418-db03-4518-a043-f2cdf09cbb44",
   "metadata": {},
   "outputs": [
    {
     "data": {
      "text/plain": [
       "1    A\n",
       "2    B\n",
       "3    C\n",
       "4    D\n",
       "5    E\n",
       "6    F\n",
       "dtype: object"
      ]
     },
     "execution_count": 36,
     "metadata": {},
     "output_type": "execute_result"
    }
   ],
   "source": [
    "\n",
    "# Example DataFrames\n",
    "ser1 = pd.Series(['A','B','C'], index = [1,2,3])\n",
    "ser2 = pd.Series(['D','E','F'], index = [4,5,6])\n",
    "\n",
    "pd.concat([ser1, ser2])\n"
   ]
  },
  {
   "cell_type": "code",
   "execution_count": 47,
   "id": "6f0fa30e-8b58-4d04-99ee-919535284dca",
   "metadata": {},
   "outputs": [
    {
     "data": {
      "text/plain": [
       "1    AB\n",
       "dtype: object"
      ]
     },
     "metadata": {},
     "output_type": "display_data"
    },
    {
     "data": {
      "text/plain": [
       "3    AB\n",
       "dtype: object"
      ]
     },
     "metadata": {},
     "output_type": "display_data"
    },
    {
     "data": {
      "text/plain": [
       "1    AB\n",
       "3    AB\n",
       "dtype: object"
      ]
     },
     "metadata": {},
     "output_type": "display_data"
    }
   ],
   "source": [
    "import pandas as pd\n",
    "from IPython.display import display\n",
    "\n",
    "# Create Series objects with a single index\n",
    "df1 = pd.Series(['AB'], index=[1])\n",
    "df2 = pd.Series(['AB'], index=[3])\n",
    "\n",
    "# Display individual Series and concatenated result\n",
    "display(df1, df2, pd.concat([df1, df2]))"
   ]
  },
  {
   "cell_type": "code",
   "execution_count": 52,
   "id": "d6510716-9f22-4ec8-8be3-f8b325b0d37f",
   "metadata": {},
   "outputs": [
    {
     "name": "stdout",
     "output_type": "stream",
     "text": [
      "   A  B\n",
      "0  1  3\n",
      "1  2  4\n",
      "0  5  7\n",
      "1  6  8\n"
     ]
    }
   ],
   "source": [
    "\n",
    "# Example DataFrames\n",
    "df1 = pd.DataFrame({'A': [1, 2], 'B': [3, 4]})\n",
    "df2 = pd.DataFrame({'A': [5, 6], 'B': [7, 8]})\n",
    "\n",
    "# List of DataFrames to concatenate\n",
    "objs = [df1, df2]\n",
    "\n",
    "# Concatenate the DataFrames\n",
    "result = pd.concat(objs, axis=0, join='outer', ignore_index=False)\n",
    "\n",
    "print(result)"
   ]
  },
  {
   "cell_type": "code",
   "execution_count": 53,
   "id": "05a516a3-4797-4622-a845-a0edb0b8a014",
   "metadata": {},
   "outputs": [
    {
     "name": "stdout",
     "output_type": "stream",
     "text": [
      "df3:\n",
      "    A   B\n",
      "0  A0  B0\n",
      "1  A1  B1\n",
      "\n",
      "\n",
      "df4:\n",
      "    C   D\n",
      "0  C0  D0\n",
      "1  C1  D1\n",
      "\n",
      "\n",
      "pd.concat([df3, df4], axis='columns'):\n",
      "    A   B   C   D\n",
      "0  A0  B0  C0  D0\n",
      "1  A1  B1  C1  D1\n"
     ]
    }
   ],
   "source": [
    "df3 = make_df('AB', [0,1])\n",
    "df4 = make_df('CD', [0,1])\n",
    "\n",
    "print('df3:')\n",
    "print(df3)\n",
    "print('\\n')\n",
    "\n",
    "print('df4:')\n",
    "print(df4)\n",
    "print('\\n')\n",
    "\n",
    "print(\"pd.concat([df3, df4], axis='columns'):\")\n",
    "print(pd.concat([df3, df4], axis='columns'))"
   ]
  },
  {
   "cell_type": "code",
   "execution_count": null,
   "id": "30daff1c-e3be-48fb-a70d-1522c64eadef",
   "metadata": {},
   "outputs": [],
   "source": []
  },
  {
   "cell_type": "code",
   "execution_count": 56,
   "id": "bdb6889d-fa09-4877-ad7a-6c25fc712f01",
   "metadata": {},
   "outputs": [
    {
     "name": "stdout",
     "output_type": "stream",
     "text": [
      "x:\n",
      "    A   B\n",
      "0  A0  B0\n",
      "1  A1  B1\n",
      "\n",
      "\n",
      "y:\n",
      "    A   B\n",
      "0  A2  B2\n",
      "1  A3  B3\n",
      "\n",
      "\n",
      "pd.concat([x, y]):\n",
      "    A   B\n",
      "0  A0  B0\n",
      "1  A1  B1\n",
      "0  A2  B2\n",
      "1  A3  B3\n"
     ]
    }
   ],
   "source": [
    "x = make_df('AB',[0,1])\n",
    "y = make_df('AB',[2,3])\n",
    "y.index = x.index\n",
    "\n",
    "print('x:')\n",
    "print(x)\n",
    "print('\\n')\n",
    "\n",
    "print('y:')\n",
    "print(y)\n",
    "print('\\n')\n",
    "\n",
    "print(\"pd.concat([x, y]):\")\n",
    "print(pd.concat([x, y]))"
   ]
  },
  {
   "cell_type": "code",
   "execution_count": 60,
   "id": "cfbe6a96-c7c0-494e-b74e-1a2f7e28cd02",
   "metadata": {},
   "outputs": [
    {
     "name": "stdout",
     "output_type": "stream",
     "text": [
      "'x'\n",
      "    A   B\n",
      "0  A0  B0\n",
      "1  A1  B1\n",
      "\n",
      "\n",
      "'y'\n",
      "    A   B\n",
      "0  A2  B2\n",
      "1  A3  B3\n",
      "\n",
      "\n",
      "\"pd.concat([x, y], keys=['x', 'y'])\"\n",
      "      A   B\n",
      "x 0  A0  B0\n",
      "  1  A1  B1\n",
      "y 0  A2  B2\n",
      "  1  A3  B3\n"
     ]
    }
   ],
   "source": [
    "x = make_df('AB', [0,1])\n",
    "y = make_df('AB', [2,3])\n",
    "y.index = x.index\n",
    "\n",
    "print(\"'x'\")\n",
    "print(x)\n",
    "print('\\n')\n",
    "\n",
    "print(\"'y'\")\n",
    "print(y)\n",
    "print('\\n')\n",
    "\n",
    "print('\"pd.concat([x, y], keys=[\\'x\\', \\'y\\'])\"')\n",
    "print(pd.concat([x, y], keys=['x', 'y']))\n"
   ]
  },
  {
   "cell_type": "code",
   "execution_count": null,
   "id": "233dac4f-df4b-4543-bcc3-5b9fc8d46b77",
   "metadata": {},
   "outputs": [],
   "source": []
  },
  {
   "cell_type": "code",
   "execution_count": 63,
   "id": "8ca9c293-758c-48a1-af47-eea772f42083",
   "metadata": {},
   "outputs": [
    {
     "name": "stdout",
     "output_type": "stream",
     "text": [
      "'df5'\n",
      "    A   B   C\n",
      "1  A1  B1  C1\n",
      "2  A2  B2  C2\n",
      "\n",
      "\n",
      "'df6'\n",
      "    B   C   D\n",
      "3  B3  C3  D3\n",
      "4  B4  C4  D4\n",
      "\n",
      "\n",
      "'pd.concat([df5, df6])'\n",
      "     A   B   C    D\n",
      "1   A1  B1  C1  NaN\n",
      "2   A2  B2  C2  NaN\n",
      "3  NaN  B3  C3   D3\n",
      "4  NaN  B4  C4   D4\n"
     ]
    }
   ],
   "source": [
    "# Create df5 and df6\n",
    "df5 = make_df('ABC', [1, 2])\n",
    "df6 = make_df('BCD', [3, 4])\n",
    "\n",
    "# Display the correct output with labels as requested\n",
    "print(\"'df5'\")\n",
    "print(df5)\n",
    "print('\\n')\n",
    "\n",
    "print(\"'df6'\")\n",
    "print(df6)\n",
    "print('\\n')\n",
    "\n",
    "# Correct the typo in concat (should be pd.concat)\n",
    "print(\"'pd.concat([df5, df6])'\")\n",
    "print(pd.concat([df5, df6]))\n",
    "\n",
    "# tools.display_dataframe_to_user(name=\"Concatenated DataFrame df5 and df6\", dataframe=pd.concat([df5, df6]))"
   ]
  },
  {
   "cell_type": "code",
   "execution_count": 67,
   "id": "213b618e-cb07-43f3-b272-2fc58c3d03b2",
   "metadata": {},
   "outputs": [
    {
     "name": "stdout",
     "output_type": "stream",
     "text": [
      "'df5'\n",
      "    A   B   C\n",
      "1  A1  B1  C1\n",
      "2  A2  B2  C2\n",
      "\n",
      "\n",
      "'df6'\n",
      "    B   C   D\n",
      "3  B3  C3  D3\n",
      "4  B4  C4  D4\n",
      "\n",
      "\n",
      "\"pd.concat([df5, df6], join='inner')\"\n",
      "    B   C\n",
      "1  B1  C1\n",
      "2  B2  C2\n",
      "3  B3  C3\n",
      "4  B4  C4\n"
     ]
    }
   ],
   "source": [
    "# Perform an inner join on df5 and df6 using pd.concat with join='inner'\n",
    "df_concat_inner = pd.concat([df5, df6], join='inner')\n",
    "\n",
    "# Display the DataFrames and concatenated result with the required labels\n",
    "print(\"'df5'\")\n",
    "print(df5)\n",
    "print('\\n')\n",
    "\n",
    "print(\"'df6'\")\n",
    "print(df6)\n",
    "print('\\n')\n",
    "\n",
    "print('\"pd.concat([df5, df6], join=\\'inner\\')\"')\n",
    "print(df_concat_inner)"
   ]
  },
  {
   "cell_type": "code",
   "execution_count": 69,
   "id": "c12e3bd3-7f22-4476-a2ec-58c76f2ac6ea",
   "metadata": {},
   "outputs": [
    {
     "data": {
      "text/html": [
       "<div>\n",
       "<style scoped>\n",
       "    .dataframe tbody tr th:only-of-type {\n",
       "        vertical-align: middle;\n",
       "    }\n",
       "\n",
       "    .dataframe tbody tr th {\n",
       "        vertical-align: top;\n",
       "    }\n",
       "\n",
       "    .dataframe thead th {\n",
       "        text-align: right;\n",
       "    }\n",
       "</style>\n",
       "<table border=\"1\" class=\"dataframe\">\n",
       "  <thead>\n",
       "    <tr style=\"text-align: right;\">\n",
       "      <th></th>\n",
       "      <th>A</th>\n",
       "      <th>B</th>\n",
       "      <th>C</th>\n",
       "    </tr>\n",
       "  </thead>\n",
       "  <tbody>\n",
       "    <tr>\n",
       "      <th>1</th>\n",
       "      <td>A1</td>\n",
       "      <td>B1</td>\n",
       "      <td>C1</td>\n",
       "    </tr>\n",
       "    <tr>\n",
       "      <th>2</th>\n",
       "      <td>A2</td>\n",
       "      <td>B2</td>\n",
       "      <td>C2</td>\n",
       "    </tr>\n",
       "    <tr>\n",
       "      <th>3</th>\n",
       "      <td>NaN</td>\n",
       "      <td>B3</td>\n",
       "      <td>C3</td>\n",
       "    </tr>\n",
       "    <tr>\n",
       "      <th>4</th>\n",
       "      <td>NaN</td>\n",
       "      <td>B4</td>\n",
       "      <td>C4</td>\n",
       "    </tr>\n",
       "  </tbody>\n",
       "</table>\n",
       "</div>"
      ],
      "text/plain": [
       "     A   B   C\n",
       "1   A1  B1  C1\n",
       "2   A2  B2  C2\n",
       "3  NaN  B3  C3\n",
       "4  NaN  B4  C4"
      ]
     },
     "execution_count": 69,
     "metadata": {},
     "output_type": "execute_result"
    }
   ],
   "source": [
    "pd.concat([df5, df6.reindex(df5.columns , axis = 1)])"
   ]
  },
  {
   "cell_type": "code",
   "execution_count": 82,
   "id": "a4112b4b-4eae-4bde-b7ad-3c1bcc6450e3",
   "metadata": {},
   "outputs": [
    {
     "data": {
      "text/plain": [
       "'df1'"
      ]
     },
     "metadata": {},
     "output_type": "display_data"
    },
    {
     "data": {
      "text/plain": [
       "'df2'"
      ]
     },
     "metadata": {},
     "output_type": "display_data"
    }
   ],
   "source": [
    "display('df1', 'df2')"
   ]
  },
  {
   "cell_type": "code",
   "execution_count": 6,
   "id": "fe563104-2d8b-4ec1-9c62-4b5ff35a73d4",
   "metadata": {},
   "outputs": [
    {
     "name": "stdout",
     "output_type": "stream",
     "text": [
      "     value\n",
      "key       \n",
      "A        1\n",
      "B        2\n",
      "C        3\n",
      "A        4\n",
      "B        5\n",
      "C        6\n",
      "           value\n",
      "key             \n",
      "consonant     16\n",
      "vowel          5\n"
     ]
    }
   ],
   "source": [
    "import pandas as pd\n",
    "\n",
    "# Example DataFrame\n",
    "data = {'key': ['A', 'B', 'C', 'A', 'B', 'C'],\n",
    "        'value': [1, 2, 3, 4, 5, 6]}\n",
    "df = pd.DataFrame(data)\n",
    "\n",
    "# Set index\n",
    "df2 = df.set_index('key')\n",
    "\n",
    "# Define mapping\n",
    "mapping = {'A': 'vowel', 'B': 'consonant', 'C': 'consonant'}\n",
    "\n",
    "# Group by mapping and sum\n",
    "grouped_df = df2.groupby(mapping).sum()\n",
    "\n",
    "# Display results (if using Jupyter, display() works, otherwise print())\n",
    "\n",
    "print(df2)\n",
    "\n",
    "print(grouped_df)"
   ]
  },
  {
   "cell_type": "code",
   "execution_count": null,
   "id": "5d78d675-6acf-4b72-8098-47a077611bd3",
   "metadata": {},
   "outputs": [],
   "source": []
  },
  {
   "cell_type": "code",
   "execution_count": 11,
   "id": "59a50b9a-fbbe-4984-a599-02c7a6e30208",
   "metadata": {},
   "outputs": [
    {
     "name": "stdout",
     "output_type": "stream",
     "text": [
      "decade           1990s  2000s  2010s  2020s\n",
      "method                                     \n",
      "Imaging            0.0    0.0    1.0    3.0\n",
      "Radial Velocity    1.0    4.0    0.0    0.0\n",
      "Transit            3.0    2.0    5.0    2.0\n"
     ]
    }
   ],
   "source": [
    "print(grouped)"
   ]
  },
  {
   "cell_type": "code",
   "execution_count": null,
   "id": "ecd09cc5-fd98-48f2-b5ef-7293f475553a",
   "metadata": {},
   "outputs": [],
   "source": []
  },
  {
   "cell_type": "code",
   "execution_count": null,
   "id": "62486359-abab-4093-af49-a6aa0cb48d03",
   "metadata": {},
   "outputs": [],
   "source": []
  },
  {
   "cell_type": "code",
   "execution_count": null,
   "id": "1731eaa8-eea6-4269-aa67-54a0926ac55d",
   "metadata": {},
   "outputs": [],
   "source": []
  },
  {
   "cell_type": "code",
   "execution_count": null,
   "id": "ef73c8a3-e6c5-4f4e-a576-0ae851f75cc2",
   "metadata": {},
   "outputs": [],
   "source": []
  },
  {
   "cell_type": "code",
   "execution_count": null,
   "id": "d4615245-a521-4686-9216-6604df7d5e15",
   "metadata": {},
   "outputs": [],
   "source": []
  },
  {
   "cell_type": "code",
   "execution_count": null,
   "id": "1e51d8c7-0353-4e36-80a1-f43841d161cb",
   "metadata": {},
   "outputs": [],
   "source": []
  },
  {
   "cell_type": "code",
   "execution_count": null,
   "id": "b2e24ebb-8256-4c0b-b622-ee376aa6645c",
   "metadata": {},
   "outputs": [],
   "source": []
  },
  {
   "cell_type": "code",
   "execution_count": null,
   "id": "d35bf7c8-c3d8-49be-ace6-d6f87a6f3723",
   "metadata": {},
   "outputs": [],
   "source": []
  }
 ],
 "metadata": {
  "kernelspec": {
   "display_name": "Python 3 (ipykernel)",
   "language": "python",
   "name": "python3"
  },
  "language_info": {
   "codemirror_mode": {
    "name": "ipython",
    "version": 3
   },
   "file_extension": ".py",
   "mimetype": "text/x-python",
   "name": "python",
   "nbconvert_exporter": "python",
   "pygments_lexer": "ipython3",
   "version": "3.12.3"
  }
 },
 "nbformat": 4,
 "nbformat_minor": 5
}
