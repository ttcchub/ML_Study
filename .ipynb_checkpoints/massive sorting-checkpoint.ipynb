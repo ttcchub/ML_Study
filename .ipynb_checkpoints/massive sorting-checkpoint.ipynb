{
 "cells": [
  {
   "cell_type": "code",
   "execution_count": 1,
   "id": "efbd7773-0e96-41d0-96f5-a719ccdbad51",
   "metadata": {},
   "outputs": [
    {
     "data": {
      "text/plain": [
       "[1, 1, 3, 5, 6, 7, 8]"
      ]
     },
     "execution_count": 1,
     "metadata": {},
     "output_type": "execute_result"
    }
   ],
   "source": [
    "L = [3,1,5,6,7,8,1]\n",
    "sorted(L)"
   ]
  },
  {
   "cell_type": "code",
   "execution_count": 2,
   "id": "ce25b9c4-b030-471c-b854-71deaf5afb7e",
   "metadata": {},
   "outputs": [
    {
     "name": "stdout",
     "output_type": "stream",
     "text": [
      "[1, 1, 3, 5, 6, 7, 8]\n"
     ]
    }
   ],
   "source": [
    "L.sort()\n",
    "print(L)\n"
   ]
  },
  {
   "cell_type": "code",
   "execution_count": 4,
   "id": "ddfa8f13-9ce8-4334-bf53-bc25a97e7ad8",
   "metadata": {},
   "outputs": [
    {
     "data": {
      "text/plain": [
       "['h', 'n', 'o', 'p', 't', 'y']"
      ]
     },
     "execution_count": 4,
     "metadata": {},
     "output_type": "execute_result"
    }
   ],
   "source": [
    "sorted('python')\n"
   ]
  },
  {
   "cell_type": "code",
   "execution_count": 7,
   "id": "ef023b1a-1cb6-4731-9367-20eae735563e",
   "metadata": {},
   "outputs": [],
   "source": [
    "import numpy as np"
   ]
  },
  {
   "cell_type": "code",
   "execution_count": 8,
   "id": "f2740eb4-2c11-47cc-bbed-940fa4ab74c5",
   "metadata": {},
   "outputs": [
    {
     "data": {
      "text/plain": [
       "array([1, 2, 3, 4, 6, 8])"
      ]
     },
     "execution_count": 8,
     "metadata": {},
     "output_type": "execute_result"
    }
   ],
   "source": [
    "x = np.array([1,2,3,4,6,8])\n",
    "np.sort(x)"
   ]
  },
  {
   "cell_type": "code",
   "execution_count": 11,
   "id": "793239d4-31bb-499f-a055-81c8c4b4e4af",
   "metadata": {},
   "outputs": [
    {
     "name": "stdout",
     "output_type": "stream",
     "text": [
      "[1 2 3 4 6 8]\n"
     ]
    }
   ],
   "source": [
    "x.sort()\n",
    "print(x)"
   ]
  },
  {
   "cell_type": "code",
   "execution_count": 13,
   "id": "60f656af-03b9-44fc-81ba-f334c78d5078",
   "metadata": {},
   "outputs": [
    {
     "name": "stdout",
     "output_type": "stream",
     "text": [
      "[1 0 4 2 3 5]\n"
     ]
    }
   ],
   "source": [
    "x = np.array([2,1,4,6,3,7])\n",
    "i = np.argsort(x)\n",
    "print(i)"
   ]
  },
  {
   "cell_type": "code",
   "execution_count": 14,
   "id": "1699faea-48af-4292-adc5-4ea7b0e9a8f5",
   "metadata": {},
   "outputs": [
    {
     "data": {
      "text/plain": [
       "array([1, 2, 3, 4, 6, 7])"
      ]
     },
     "execution_count": 14,
     "metadata": {},
     "output_type": "execute_result"
    }
   ],
   "source": [
    "x[i]"
   ]
  },
  {
   "cell_type": "code",
   "execution_count": 16,
   "id": "a8f930e3-6037-41f2-9188-e6686dd4c34f",
   "metadata": {},
   "outputs": [
    {
     "name": "stdout",
     "output_type": "stream",
     "text": [
      "[[0 7 6 4 4 8]\n",
      " [0 6 2 0 5 9]\n",
      " [7 7 7 7 5 1]\n",
      " [8 4 5 3 1 9]]\n"
     ]
    }
   ],
   "source": [
    "rng = np.random.default_rng(seed = 42)\n",
    "x = rng.integers(0,10,(4,6))\n",
    "print(x)"
   ]
  },
  {
   "cell_type": "code",
   "execution_count": 18,
   "id": "496a1307-634e-4c93-b0a4-c5f1cd9e0970",
   "metadata": {},
   "outputs": [
    {
     "data": {
      "text/plain": [
       "array([[0, 4, 2, 0, 1, 1],\n",
       "       [0, 6, 5, 3, 4, 8],\n",
       "       [7, 7, 6, 4, 5, 9],\n",
       "       [8, 7, 7, 7, 5, 9]])"
      ]
     },
     "execution_count": 18,
     "metadata": {},
     "output_type": "execute_result"
    }
   ],
   "source": [
    "np.sort(x, axis=0)"
   ]
  },
  {
   "cell_type": "code",
   "execution_count": 19,
   "id": "afd7bb56-267c-4a7c-9f3f-5c967aad9575",
   "metadata": {},
   "outputs": [
    {
     "data": {
      "text/plain": [
       "array([[0, 4, 4, 6, 7, 8],\n",
       "       [0, 0, 2, 5, 6, 9],\n",
       "       [1, 5, 7, 7, 7, 7],\n",
       "       [1, 3, 4, 5, 8, 9]])"
      ]
     },
     "execution_count": 19,
     "metadata": {},
     "output_type": "execute_result"
    }
   ],
   "source": [
    "np.sort(x, axis = 1)"
   ]
  },
  {
   "cell_type": "code",
   "execution_count": 21,
   "id": "997939a8-6505-408e-8e3a-d3f8d68ddbd2",
   "metadata": {},
   "outputs": [
    {
     "data": {
      "text/plain": [
       "array([2, 1, 3, 4, 5, 6, 7])"
      ]
     },
     "execution_count": 21,
     "metadata": {},
     "output_type": "execute_result"
    }
   ],
   "source": [
    "x = np.array([4,2,6,1,7,5,3])\n",
    "np.partition(x,3)"
   ]
  },
  {
   "cell_type": "code",
   "execution_count": null,
   "id": "971ee8c6-db57-47d6-b4b6-a02c71bc31af",
   "metadata": {},
   "outputs": [],
   "source": []
  },
  {
   "cell_type": "code",
   "execution_count": 27,
   "id": "d02f07eb-aaa4-46bf-9996-6914cad3f82b",
   "metadata": {},
   "outputs": [],
   "source": [
    "x = rng.random((10,2))"
   ]
  },
  {
   "cell_type": "code",
   "execution_count": 33,
   "id": "8113200d-68f6-45b7-befd-5807c03b9585",
   "metadata": {},
   "outputs": [
    {
     "data": {
      "image/png": "[encoded data removed]",
      "text/plain": [
       "<Figure size 640x480 with 1 Axes>"
      ]
     },
     "metadata": {},
     "output_type": "display_data"
    }
   ],
   "source": [
    "import matplotlib.pyplot as plt\n",
    "\n",
    "# Assuming 'x' is a 2D numpy array with two columns\n",
    "# Example:\n",
    "# import numpy as np\n",
    "# x = np.random.rand(100, 2)\n",
    "\n",
    "plt.scatter(x[:,0], x[:,1], s=100)\n",
    "plt.xlabel('X-axis Label')  # You can adjust the labels accordingly\n",
    "plt.ylabel('Y-axis Label')\n",
    "plt.title('Scatter Plot Example')\n",
    "plt.show()"
   ]
  },
  {
   "cell_type": "code",
   "execution_count": 34,
   "id": "23964210-186f-44a9-9576-023074522c8e",
   "metadata": {},
   "outputs": [
    {
     "name": "stdout",
     "output_type": "stream",
     "text": [
      "['Solarize_Light2', '_classic_test_patch', '_mpl-gallery', '_mpl-gallery-nogrid', 'bmh', 'classic', 'dark_background', 'fast', 'fivethirtyeight', 'ggplot', 'grayscale', 'seaborn-v0_8', 'seaborn-v0_8-bright', 'seaborn-v0_8-colorblind', 'seaborn-v0_8-dark', 'seaborn-v0_8-dark-palette', 'seaborn-v0_8-darkgrid', 'seaborn-v0_8-deep', 'seaborn-v0_8-muted', 'seaborn-v0_8-notebook', 'seaborn-v0_8-paper', 'seaborn-v0_8-pastel', 'seaborn-v0_8-poster', 'seaborn-v0_8-talk', 'seaborn-v0_8-ticks', 'seaborn-v0_8-white', 'seaborn-v0_8-whitegrid', 'tableau-colorblind10']\n"
     ]
    }
   ],
   "source": [
    "import matplotlib.pyplot as plt\n",
    "\n",
    "# List available styles\n",
    "print(plt.style.available)\n",
    "\n",
    "# Use a built-in style, for example:\n",
    "plt.style.use('ggplot')  # or another available style"
   ]
  },
  {
   "cell_type": "code",
   "execution_count": 35,
   "id": "28d4c7b0-7db5-4769-8f2e-b54f9ea8cbd4",
   "metadata": {},
   "outputs": [
    {
     "data": {
      "image/png": "[encoded data removed]",
      "text/plain": [
       "<Figure size 640x480 with 1 Axes>"
      ]
     },
     "metadata": {},
     "output_type": "display_data"
    }
   ],
   "source": [
    "import matplotlib.pyplot as plt\n",
    "\n",
    "# Assuming 'x' is defined as a 2D array\n",
    "plt.scatter(x[:, 0], x[:, 1], s=100)\n",
    "plt.xlabel('X-axis Label')\n",
    "plt.ylabel('Y-axis Label')\n",
    "plt.title('Scatter Plot Example')\n",
    "plt.show()"
   ]
  },
  {
   "cell_type": "code",
   "execution_count": 38,
   "id": "7d4e8a31-bfe1-4377-b3de-a07d7ef1b348",
   "metadata": {},
   "outputs": [],
   "source": [
    "dist_sq = np.sum((x[:,np.newaxis] - x[np.newaxis, :])**2, axis =-1)"
   ]
  },
  {
   "cell_type": "code",
   "execution_count": 40,
   "id": "62e430a9-7f37-4e3c-887d-a0ef946b8b0a",
   "metadata": {},
   "outputs": [
    {
     "data": {
      "text/plain": [
       "(10, 10, 2)"
      ]
     },
     "execution_count": 40,
     "metadata": {},
     "output_type": "execute_result"
    }
   ],
   "source": [
    "differences = x[:, np.newaxis]-x[np.newaxis,:]\n",
    "differences.shape"
   ]
  },
  {
   "cell_type": "code",
   "execution_count": 41,
   "id": "5a0ae1f8-36dd-4aae-a488-6393586d538e",
   "metadata": {},
   "outputs": [
    {
     "data": {
      "text/plain": [
       "(10, 10, 2)"
      ]
     },
     "execution_count": 41,
     "metadata": {},
     "output_type": "execute_result"
    }
   ],
   "source": [
    "sq_differences = differences ** 2\n",
    "sq_differences.shape"
   ]
  },
  {
   "cell_type": "code",
   "execution_count": 42,
   "id": "84fdf3de-9da7-45a5-a539-fbf6ff0fc6d1",
   "metadata": {},
   "outputs": [
    {
     "data": {
      "text/plain": [
       "(10, 10)"
      ]
     },
     "execution_count": 42,
     "metadata": {},
     "output_type": "execute_result"
    }
   ],
   "source": [
    "dist_sq = sq_differences.sum(-1)\n",
    "dist_sq.shape"
   ]
  },
  {
   "cell_type": "code",
   "execution_count": 43,
   "id": "69857744-d5c4-4723-a057-ecd322f6ec86",
   "metadata": {},
   "outputs": [
    {
     "data": {
      "text/plain": [
       "array([0., 0., 0., 0., 0., 0., 0., 0., 0., 0.])"
      ]
     },
     "execution_count": 43,
     "metadata": {},
     "output_type": "execute_result"
    }
   ],
   "source": [
    "dist_sq.diagonal()"
   ]
  },
  {
   "cell_type": "code",
   "execution_count": 44,
   "id": "d12d23bf-3e2a-4dd5-8555-e4cbc974fa82",
   "metadata": {},
   "outputs": [
    {
     "name": "stdout",
     "output_type": "stream",
     "text": [
      "[[0 9 3 5 4 8 1 6 2 7]\n",
      " [1 7 2 6 4 8 3 0 9 5]\n",
      " [2 7 1 6 4 3 8 0 9 5]\n",
      " [3 0 4 5 9 6 1 2 8 7]\n",
      " [4 6 3 1 2 7 0 5 9 8]\n",
      " [5 9 3 0 4 6 8 1 2 7]\n",
      " [6 4 2 1 7 3 0 5 9 8]\n",
      " [7 2 1 6 4 3 8 0 9 5]\n",
      " [8 0 1 9 3 4 7 2 6 5]\n",
      " [9 0 5 3 4 8 6 1 2 7]]\n"
     ]
    }
   ],
   "source": [
    "nearest = np.argsort(dist_sq, axis = 1)\n",
    "print (nearest)"
   ]
  },
  {
   "cell_type": "code",
   "execution_count": 46,
   "id": "1f066846-53ca-41fd-b3cc-4aba0a751454",
   "metadata": {},
   "outputs": [],
   "source": [
    "k=2\n",
    "nearest_partition = np.argpartition(dist_sq, k + 1, axis=1)"
   ]
  },
  {
   "cell_type": "code",
   "execution_count": 49,
   "id": "fe4cfd7e-e2fd-4a57-8c1b-229763d22286",
   "metadata": {},
   "outputs": [
    {
     "data": {
      "image/png": "[encoded data removed]",
      "text/plain": [
       "<Figure size 640x480 with 1 Axes>"
      ]
     },
     "metadata": {},
     "output_type": "display_data"
    }
   ],
   "source": [
    "plt.scatter(x[:,0], x[:,1], s=100)\n",
    "\n",
    "#рисуем линии из каждой точки к ее двум ближайшим соседям\n",
    "k = 2\n",
    "\n",
    "for i in range (x.shape[0]):\n",
    "    # чертим линию от X[i] до X[j]\n",
    "    # используем функцию zip\n",
    "    for j in nearest_partition[i, :k+1]:\n",
    "        plt.plot(*zip(x[j], x[i]), color='black')"
   ]
  },
  {
   "cell_type": "code",
   "execution_count": null,
   "id": "83e3ceff-4e92-4a95-9513-d37ade47a501",
   "metadata": {},
   "outputs": [],
   "source": []
  },
  {
   "cell_type": "code",
   "execution_count": null,
   "id": "dafbd629-b1ad-4a25-9519-49d0190bc6dd",
   "metadata": {},
   "outputs": [],
   "source": []
  },
  {
   "cell_type": "code",
   "execution_count": null,
   "id": "81e70ed3-9831-43b8-b1c6-d86a6e292226",
   "metadata": {},
   "outputs": [],
   "source": []
  },
  {
   "cell_type": "code",
   "execution_count": null,
   "id": "7a344470-8f10-4b46-bcc4-7941f6e25731",
   "metadata": {},
   "outputs": [],
   "source": []
  },
  {
   "cell_type": "code",
   "execution_count": null,
   "id": "4edd1c77-fff0-4acb-a533-ea204a3e5a1a",
   "metadata": {},
   "outputs": [],
   "source": []
  },
  {
   "cell_type": "code",
   "execution_count": null,
   "id": "c2d5102a-8629-4c18-a9b8-3b241d950792",
   "metadata": {},
   "outputs": [],
   "source": []
  },
  {
   "cell_type": "code",
   "execution_count": null,
   "id": "6e104d1f-886d-4487-9fe4-eb1194bbc473",
   "metadata": {},
   "outputs": [],
   "source": []
  }
 ],
 "metadata": {
  "kernelspec": {
   "display_name": "Python 3 (ipykernel)",
   "language": "python",
   "name": "python3"
  },
  "language_info": {
   "codemirror_mode": {
    "name": "ipython",
    "version": 3
   },
   "file_extension": ".py",
   "mimetype": "text/x-python",
   "name": "python",
   "nbconvert_exporter": "python",
   "pygments_lexer": "ipython3",
   "version": "3.12.3"
  }
 },
 "nbformat": 4,
 "nbformat_minor": 5
}
