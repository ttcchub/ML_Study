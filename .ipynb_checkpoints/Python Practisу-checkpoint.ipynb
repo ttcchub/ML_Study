{
 "cells": [
  {
   "cell_type": "code",
   "execution_count": null,
   "id": "c39503bb-e728-4a24-8ccc-a7fcb8b15b6b",
   "metadata": {},
   "outputs": [],
   "source": [
    "def sum_of_lists(N):\n",
    "    total = 0\n",
    "    for i in range(5):\n",
    "        L = [ j^(j>>i) for j in range(N)]\n",
    "        total = sum (L)\n",
    "    return total"
   ]
  },
  {
   "cell_type": "code",
   "execution_count": null,
   "id": "eff63d2c-b521-4c5d-b763-266a53858e6f",
   "metadata": {},
   "outputs": [],
   "source": []
  },
  {
   "cell_type": "code",
   "execution_count": null,
   "id": "3bd187a9-9535-4b39-b60a-13f99887481e",
   "metadata": {},
   "outputs": [],
   "source": []
  },
  {
   "cell_type": "code",
   "execution_count": 28,
   "id": "15b1b53a-6b45-44d6-ae94-9609defffc99",
   "metadata": {},
   "outputs": [
    {
     "name": "stdout",
     "output_type": "stream",
     "text": [
      "Requirement already satisfied: line_profiler in /opt/homebrew/Cellar/jupyterlab/4.0.11/libexec/lib/python3.12/site-packages (4.1.3)\n",
      "Note: you may need to restart the kernel to use updated packages.\n"
     ]
    }
   ],
   "source": [
    "pip install line_profiler"
   ]
  },
  {
   "cell_type": "code",
   "execution_count": 29,
   "id": "304cc76d-4426-409f-9f2a-78b2af4b94b6",
   "metadata": {},
   "outputs": [
    {
     "name": "stdout",
     "output_type": "stream",
     "text": [
      "The line_profiler extension is already loaded. To reload it, use:\n",
      "  %reload_ext line_profiler\n"
     ]
    }
   ],
   "source": [
    "%load_ext line_profiler"
   ]
  },
  {
   "cell_type": "code",
   "execution_count": 30,
   "id": "541cb314-970d-431c-9457-e73c6deea5d2",
   "metadata": {},
   "outputs": [
    {
     "data": {
      "text/plain": [
       "Timer unit: 1e-09 s\n",
       "\n",
       "Total time: 0.105357 s\n",
       "File: /Users/ttcc/Documents/ML_Study/mprun_demo.py\n",
       "Function: sum_of_lists at line 1\n",
       "\n",
       "Line #      Hits         Time  Per Hit   % Time  Line Contents\n",
       "==============================================================\n",
       "     1                                           def sum_of_lists(N):\n",
       "     2         1       1000.0   1000.0      0.0      total = 0\n",
       "     3         6       3000.0    500.0      0.0      for i in range(5):\n",
       "     4    500005  101365000.0    202.7     96.2          L = [ j^(j>>i) for j in range(N)]\n",
       "     5         5    1882000.0 376400.0      1.8          total = sum (L)\n",
       "     6         5    2105000.0 421000.0      2.0          del L #deleate link on L \n",
       "     7         1       1000.0   1000.0      0.0      return total"
      ]
     },
     "metadata": {},
     "output_type": "display_data"
    }
   ],
   "source": [
    "%lprun -f sum_of_lists sum_of_lists(100000)  "
   ]
  },
  {
   "cell_type": "code",
   "execution_count": 31,
   "id": "b301701a-82a6-480a-95c1-6c9632f57bab",
   "metadata": {},
   "outputs": [
    {
     "name": "stdout",
     "output_type": "stream",
     "text": [
      "Requirement already satisfied: memory_profiler in /opt/homebrew/Cellar/jupyterlab/4.0.11/libexec/lib/python3.12/site-packages (0.61.0)\n",
      "Requirement already satisfied: psutil in /opt/homebrew/opt/python-psutil/lib/python3.12/site-packages (from memory_profiler) (5.9.8)\n",
      "Note: you may need to restart the kernel to use updated packages.\n"
     ]
    }
   ],
   "source": [
    "pip install memory_profiler"
   ]
  },
  {
   "cell_type": "code",
   "execution_count": 32,
   "id": "a7aa6983-ed6d-4abd-9503-0f7864951b53",
   "metadata": {},
   "outputs": [
    {
     "name": "stdout",
     "output_type": "stream",
     "text": [
      "The memory_profiler extension is already loaded. To reload it, use:\n",
      "  %reload_ext memory_profiler\n"
     ]
    }
   ],
   "source": [
    "%load_ext memory_profiler"
   ]
  },
  {
   "cell_type": "code",
   "execution_count": 33,
   "id": "28988b97-d2e5-4d1f-86cf-af62b66b7000",
   "metadata": {},
   "outputs": [
    {
     "name": "stdout",
     "output_type": "stream",
     "text": [
      "peak memory: 73.00 MiB, increment: 0.00 MiB\n"
     ]
    }
   ],
   "source": [
    "%memit sum_of_lists (10000)"
   ]
  },
  {
   "cell_type": "code",
   "execution_count": null,
   "id": "e4b8c9ee-1496-4015-a7c9-93ca46e97953",
   "metadata": {},
   "outputs": [],
   "source": []
  },
  {
   "cell_type": "code",
   "execution_count": 42,
   "id": "603fb369-a14d-4377-b26e-efde2ab9d8b1",
   "metadata": {},
   "outputs": [
    {
     "name": "stdout",
     "output_type": "stream",
     "text": [
      "Overwriting mprun_demo.py\n"
     ]
    }
   ],
   "source": [
    "%%file mprun_demo.py\n",
    "def sum_of_lists(N):\n",
    "    total = 0\n",
    "    for i in range(5):\n",
    "        L = [ j^(j>>i) for j in range(N)]\n",
    "        total = sum (L)\n",
    "        del L #deleate link on L \n",
    "    return total"
   ]
  },
  {
   "cell_type": "code",
   "execution_count": 51,
   "id": "c2a5f6c6-e704-48bf-a3cc-878fdde0684d",
   "metadata": {},
   "outputs": [],
   "source": []
  },
  {
   "cell_type": "code",
   "execution_count": 55,
   "id": "ccd52d70-368e-4b24-927e-fcd322ab56a7",
   "metadata": {},
   "outputs": [
    {
     "name": "stdout",
     "output_type": "stream",
     "text": [
      "Requirement already satisfied: memory-profiler in /opt/homebrew/Cellar/jupyterlab/4.0.11/libexec/lib/python3.12/site-packages (0.61.0)\n",
      "Requirement already satisfied: psutil in /opt/homebrew/opt/python-psutil/lib/python3.12/site-packages (from memory-profiler) (5.9.8)\n",
      "Note: you may need to restart the kernel to use updated packages.\n"
     ]
    }
   ],
   "source": [
    "pip install memory-profiler\n"
   ]
  },
  {
   "cell_type": "code",
   "execution_count": 56,
   "id": "a856b4e2-32f2-408b-b3a3-e0ccbc278533",
   "metadata": {},
   "outputs": [
    {
     "name": "stdout",
     "output_type": "stream",
     "text": [
      "Requirement already satisfied: psutil in /opt/homebrew/opt/python-psutil/lib/python3.12/site-packages (5.9.8)\n",
      "Note: you may need to restart the kernel to use updated packages.\n"
     ]
    }
   ],
   "source": [
    "pip install psutil"
   ]
  },
  {
   "cell_type": "code",
   "execution_count": 57,
   "id": "4aeb7fae-7cbb-4592-8d7f-f4d03f30a4f9",
   "metadata": {},
   "outputs": [
    {
     "name": "stdout",
     "output_type": "stream",
     "text": [
      "The memory_profiler extension is already loaded. To reload it, use:\n",
      "  %reload_ext memory_profiler\n"
     ]
    }
   ],
   "source": [
    "%load_ext memory_profiler"
   ]
  },
  {
   "cell_type": "code",
   "execution_count": 59,
   "id": "e1962c89-e130-4db3-846a-39a062956b52",
   "metadata": {},
   "outputs": [
    {
     "name": "stdout",
     "output_type": "stream",
     "text": [
      "The memory_profiler extension is already loaded. To reload it, use:\n",
      "  %reload_ext memory_profiler\n",
      "\n"
     ]
    },
    {
     "data": {
      "text/plain": [
       "Filename: /Users/ttcc/Documents/ML_Study/mprun_demo.py\n",
       "\n",
       "Line #    Mem usage    Increment  Occurrences   Line Contents\n",
       "=============================================================\n",
       "     1     40.9 MiB     40.9 MiB           1   def sum_of_lists(N):\n",
       "     2     40.9 MiB      0.0 MiB           1       total = 0\n",
       "     3     43.1 MiB    -73.0 MiB           6       for i in range(5):\n",
       "     4     51.6 MiB -89417442.0 MiB     5000005           L = [ j^(j>>i) for j in range(N)]\n",
       "     5     54.9 MiB     10.5 MiB           5           total = sum (L)\n",
       "     6     43.1 MiB   -116.7 MiB           5           del L #deleate link on L \n",
       "     7     25.3 MiB    -17.8 MiB           1       return total"
      ]
     },
     "metadata": {},
     "output_type": "display_data"
    }
   ],
   "source": [
    "from mprun_demo import sum_of_lists\n",
    "%load_ext memory_profiler\n",
    "%mprun -f sum_of_lists sum_of_lists(1000000)"
   ]
  },
  {
   "cell_type": "code",
   "execution_count": 60,
   "id": "e5fc7d13-7b3b-4bfc-96e1-87452dc67fe5",
   "metadata": {},
   "outputs": [
    {
     "name": "stdout",
     "output_type": "stream",
     "text": [
      "\n"
     ]
    },
    {
     "data": {
      "text/plain": [
       "Filename: /Users/ttcc/Documents/ML_Study/mprun_demo.py\n",
       "\n",
       "Line #    Mem usage    Increment  Occurrences   Line Contents\n",
       "=============================================================\n",
       "     1     43.5 MiB     43.5 MiB           1   def sum_of_lists(N):\n",
       "     2     43.5 MiB      0.0 MiB           1       total = 0\n",
       "     3     43.7 MiB    -69.0 MiB           6       for i in range(5):\n",
       "     4     56.9 MiB -79572338.4 MiB     5000005           L = [ j^(j>>i) for j in range(N)]\n",
       "     5     56.0 MiB     -5.6 MiB           5           total = sum (L)\n",
       "     6     43.7 MiB   -116.4 MiB           5           del L #deleate link on L \n",
       "     7     26.7 MiB    -17.0 MiB           1       return total"
      ]
     },
     "metadata": {},
     "output_type": "display_data"
    }
   ],
   "source": [
    "from mprun_demo import sum_of_lists\n",
    "%mprun -f sum_of_lists sum_of_lists(1000000) "
   ]
  },
  {
   "cell_type": "code",
   "execution_count": 62,
   "id": "2598ade4-86d6-43b7-82aa-74f497590d3b",
   "metadata": {},
   "outputs": [],
   "source": [
    "  %reload_ext memory_profiler\n"
   ]
  },
  {
   "cell_type": "code",
   "execution_count": null,
   "id": "74788354-1bcc-4531-a484-03bbe54b51b0",
   "metadata": {},
   "outputs": [],
   "source": []
  }
 ],
 "metadata": {
  "kernelspec": {
   "display_name": "Python 3 (ipykernel)",
   "language": "python",
   "name": "python3"
  },
  "language_info": {
   "codemirror_mode": {
    "name": "ipython",
    "version": 3
   },
   "file_extension": ".py",
   "mimetype": "text/x-python",
   "name": "python",
   "nbconvert_exporter": "python",
   "pygments_lexer": "ipython3",
   "version": "3.12.3"
  }
 },
 "nbformat": 4,
 "nbformat_minor": 5
}
