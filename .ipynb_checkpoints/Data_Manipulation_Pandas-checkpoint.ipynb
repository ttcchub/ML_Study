{
 "cells": [
  {
   "cell_type": "code",
   "execution_count": 2,
   "id": "54faca6d-3af0-4073-ad40-fb643e66b57b",
   "metadata": {},
   "outputs": [],
   "source": [
    "import pandas as pd\n",
    "import numpy as np"
   ]
  },
  {
   "cell_type": "code",
   "execution_count": 4,
   "id": "50eeeff0-7d8c-46e4-8f4c-7dbbee530a8f",
   "metadata": {},
   "outputs": [
    {
     "data": {
      "text/plain": [
       "0     0.25\n",
       "1     0.50\n",
       "2     1.56\n",
       "3     1.00\n",
       "4    24.50\n",
       "dtype: float64"
      ]
     },
     "execution_count": 4,
     "metadata": {},
     "output_type": "execute_result"
    }
   ],
   "source": [
    "data = pd.Series([0.25, 0.5, 1.56, 1.0, 24.5])\n",
    "data"
   ]
  },
  {
   "cell_type": "code",
   "execution_count": 5,
   "id": "aa3459d9-9b0a-4efe-99d2-c33682aeed82",
   "metadata": {},
   "outputs": [
    {
     "data": {
      "text/plain": [
       "array([ 0.25,  0.5 ,  1.56,  1.  , 24.5 ])"
      ]
     },
     "execution_count": 5,
     "metadata": {},
     "output_type": "execute_result"
    }
   ],
   "source": [
    "data.values"
   ]
  },
  {
   "cell_type": "code",
   "execution_count": 6,
   "id": "f80fff73-be31-4a56-8bc5-e17df2627096",
   "metadata": {},
   "outputs": [
    {
     "data": {
      "text/plain": [
       "RangeIndex(start=0, stop=5, step=1)"
      ]
     },
     "execution_count": 6,
     "metadata": {},
     "output_type": "execute_result"
    }
   ],
   "source": [
    "data.index"
   ]
  },
  {
   "cell_type": "code",
   "execution_count": 7,
   "id": "f09d95fb-e736-4905-9fb1-fa3d84f9a221",
   "metadata": {},
   "outputs": [
    {
     "data": {
      "text/plain": [
       "0.5"
      ]
     },
     "execution_count": 7,
     "metadata": {},
     "output_type": "execute_result"
    }
   ],
   "source": [
    "data[1]"
   ]
  },
  {
   "cell_type": "code",
   "execution_count": 8,
   "id": "6426788f-7c83-4f07-b177-a1bc65ec0e1d",
   "metadata": {},
   "outputs": [
    {
     "data": {
      "text/plain": [
       "1    0.50\n",
       "2    1.56\n",
       "3    1.00\n",
       "dtype: float64"
      ]
     },
     "execution_count": 8,
     "metadata": {},
     "output_type": "execute_result"
    }
   ],
   "source": [
    "data[1:4]"
   ]
  },
  {
   "cell_type": "code",
   "execution_count": 10,
   "id": "51c2b8d1-fab5-44b3-a15d-479086b8da0c",
   "metadata": {},
   "outputs": [
    {
     "data": {
      "text/plain": [
       "a    0.25\n",
       "b    0.50\n",
       "c    1.20\n",
       "d    1.00\n",
       "dtype: float64"
      ]
     },
     "execution_count": 10,
     "metadata": {},
     "output_type": "execute_result"
    }
   ],
   "source": [
    "data =  pd.Series([0.25, 0.5, 1.2, 1.0],\n",
    "                 index=['a','b','c','d'])\n",
    "data"
   ]
  },
  {
   "cell_type": "code",
   "execution_count": 12,
   "id": "57097276-de05-441f-8c7d-dd55de09b19d",
   "metadata": {},
   "outputs": [
    {
     "data": {
      "text/plain": [
       "0.5"
      ]
     },
     "execution_count": 12,
     "metadata": {},
     "output_type": "execute_result"
    }
   ],
   "source": [
    "data['b']"
   ]
  },
  {
   "cell_type": "code",
   "execution_count": 13,
   "id": "4a590d7e-41c6-42b9-b3d2-601b10e39c0c",
   "metadata": {},
   "outputs": [
    {
     "data": {
      "text/plain": [
       "2     0.25\n",
       "5     0.45\n",
       "3     1.00\n",
       "7    23.56\n",
       "dtype: float64"
      ]
     },
     "execution_count": 13,
     "metadata": {},
     "output_type": "execute_result"
    }
   ],
   "source": [
    "data = pd.Series([0.25, 0.45, 1.0, 23.56],\n",
    "                 [2,5,3,7])\n",
    "data"
   ]
  },
  {
   "cell_type": "code",
   "execution_count": 14,
   "id": "3008eeab-1900-4f02-8754-51edc57497dc",
   "metadata": {},
   "outputs": [
    {
     "data": {
      "text/plain": [
       "0.45"
      ]
     },
     "execution_count": 14,
     "metadata": {},
     "output_type": "execute_result"
    }
   ],
   "source": [
    "data[5]"
   ]
  },
  {
   "cell_type": "code",
   "execution_count": 15,
   "id": "a48037ef-17a0-4688-9838-3ac7cfbc72ac",
   "metadata": {},
   "outputs": [
    {
     "data": {
      "text/plain": [
       "23.56"
      ]
     },
     "execution_count": 15,
     "metadata": {},
     "output_type": "execute_result"
    }
   ],
   "source": [
    "data[7]"
   ]
  },
  {
   "cell_type": "code",
   "execution_count": null,
   "id": "d2ac76df-089d-4aec-b517-de7b49d56653",
   "metadata": {},
   "outputs": [],
   "source": []
  },
  {
   "cell_type": "code",
   "execution_count": 19,
   "id": "cd7a1b7a-234f-4fc9-9fc6-597902555914",
   "metadata": {},
   "outputs": [
    {
     "data": {
      "text/plain": [
       "State01     12412412421\n",
       "State02    908894923842\n",
       "State03      9192838213\n",
       "State04         4516512\n",
       "State05     67761277261\n",
       "dtype: int64"
      ]
     },
     "execution_count": 19,
     "metadata": {},
     "output_type": "execute_result"
    }
   ],
   "source": [
    "population_dict = {'State01': 12412412421, 'State02': 908894923842, 'State03': 9192838213, 'State04': 4516512, 'State05': 67761277261}\n",
    "\n",
    "population = pd.Series(population_dict)\n",
    "population"
   ]
  },
  {
   "cell_type": "code",
   "execution_count": 23,
   "id": "eb308b8e-6c9a-424b-b4b1-9c027c1479b4",
   "metadata": {},
   "outputs": [
    {
     "data": {
      "text/plain": [
       "12412412421"
      ]
     },
     "execution_count": 23,
     "metadata": {},
     "output_type": "execute_result"
    }
   ],
   "source": [
    "population['State01']"
   ]
  },
  {
   "cell_type": "code",
   "execution_count": 25,
   "id": "77066a9d-7fa6-466d-8da5-7bdeaf896167",
   "metadata": {},
   "outputs": [
    {
     "data": {
      "text/plain": [
       "State02    908894923842\n",
       "State03      9192838213\n",
       "State04         4516512\n",
       "dtype: int64"
      ]
     },
     "execution_count": 25,
     "metadata": {},
     "output_type": "execute_result"
    }
   ],
   "source": [
    "population['State02':'State04']"
   ]
  },
  {
   "cell_type": "code",
   "execution_count": 27,
   "id": "e813b164-7239-48b2-9bd7-3ba41ff66e7c",
   "metadata": {},
   "outputs": [
    {
     "data": {
      "text/plain": [
       "0    2\n",
       "1    4\n",
       "2    6\n",
       "dtype: int64"
      ]
     },
     "execution_count": 27,
     "metadata": {},
     "output_type": "execute_result"
    }
   ],
   "source": [
    "pd.Series([2,4,6])"
   ]
  },
  {
   "cell_type": "code",
   "execution_count": 29,
   "id": "d2592460-6340-45dc-a4ee-ba18f7f7fafa",
   "metadata": {},
   "outputs": [
    {
     "data": {
      "text/plain": [
       "100    5\n",
       "200    5\n",
       "300    5\n",
       "dtype: int64"
      ]
     },
     "execution_count": 29,
     "metadata": {},
     "output_type": "execute_result"
    }
   ],
   "source": [
    "pd.Series(5, index=[100,200,300])"
   ]
  },
  {
   "cell_type": "code",
   "execution_count": 30,
   "id": "b48eda2e-dadd-4af1-9e49-e54d06002581",
   "metadata": {},
   "outputs": [
    {
     "data": {
      "text/plain": [
       "2    a\n",
       "1    b\n",
       "3    c\n",
       "dtype: object"
      ]
     },
     "execution_count": 30,
     "metadata": {},
     "output_type": "execute_result"
    }
   ],
   "source": [
    "pd.Series({2:'a', 1:'b', 3:'c'})"
   ]
  },
  {
   "cell_type": "code",
   "execution_count": 32,
   "id": "d6606a11-bc77-4957-88e0-54dc56cd0a80",
   "metadata": {},
   "outputs": [
    {
     "data": {
      "text/plain": [
       "1    b\n",
       "2    a\n",
       "dtype: object"
      ]
     },
     "execution_count": 32,
     "metadata": {},
     "output_type": "execute_result"
    }
   ],
   "source": [
    "pd.Series({2:'a', 1:'b', 3:'c'}, index = [1,2])"
   ]
  },
  {
   "cell_type": "code",
   "execution_count": 44,
   "id": "0b22fb3c-c9d4-41dd-bc66-c25725b42cb9",
   "metadata": {},
   "outputs": [
    {
     "data": {
      "text/plain": [
       "{'State-01': 12412412421,\n",
       " 'State-02': 908894923842,\n",
       " 'State-03': 9192838213,\n",
       " 'State-04': 4516512,\n",
       " 'State-05': 67761277261}"
      ]
     },
     "execution_count": 44,
     "metadata": {},
     "output_type": "execute_result"
    }
   ],
   "source": [
    "area_dict = {'State-01': 12412412421, 'State-02': 908894923842, 'State-03': 9192838213, 'State-04': 4516512, 'State-05': 67761277261}\n",
    "area_dict"
   ]
  },
  {
   "cell_type": "code",
   "execution_count": 43,
   "id": "269b7dbb-e7e1-4e8b-adc1-5e29d606252f",
   "metadata": {},
   "outputs": [
    {
     "data": {
      "text/plain": [
       "State-01     12412412421\n",
       "State-02    908894923842\n",
       "State-03      9192838213\n",
       "State-04         4516512\n",
       "State-05     67761277261\n",
       "dtype: int64"
      ]
     },
     "execution_count": 43,
     "metadata": {},
     "output_type": "execute_result"
    }
   ],
   "source": [
    "area = pd.Series(area_dict)\n",
    "area"
   ]
  },
  {
   "cell_type": "code",
   "execution_count": 61,
   "id": "c12d9227-9fd0-4687-b8f0-2502d9f06334",
   "metadata": {},
   "outputs": [
    {
     "name": "stdout",
     "output_type": "stream",
     "text": [
      "            population       area\n",
      "State-01   12412412421  192951925\n",
      "State-02  908894923842    2154512\n",
      "State-03    9192838213    3323919\n",
      "State-04       4516512   99019292\n",
      "State-05   67761277261    4585812\n"
     ]
    }
   ],
   "source": [
    "import pandas as pd\n",
    "\n",
    "# Population and area data\n",
    "population_dict = {\n",
    "    'State-01': 12412412421,\n",
    "    'State-02': 908894923842,\n",
    "    'State-03': 9192838213,\n",
    "    'State-04': 4516512,\n",
    "    'State-05': 67761277261\n",
    "}\n",
    "\n",
    "area_dict = {\n",
    "    'State-01': 192951925, \n",
    "    'State-02': 2154512, \n",
    "    'State-03': 3323919, \n",
    "    'State-04': 99019292, \n",
    "    'State-05': 4585812\n",
    "}\n",
    "\n",
    "# Creating pandas Series for population and area\n",
    "population_series = pd.Series(population_dict)\n",
    "area_series = pd.Series(area_dict)\n",
    "\n",
    "# Creating a DataFrame\n",
    "states_df = pd.DataFrame({\n",
    "    'population': population_series,\n",
    "    'area': area_series\n",
    "})\n",
    "\n",
    "# Display the DataFrame\n",
    "print(states_df)"
   ]
  },
  {
   "cell_type": "code",
   "execution_count": 62,
   "id": "b0ac42a1-6a1f-49f1-95b6-b8f60d929d45",
   "metadata": {},
   "outputs": [
    {
     "data": {
      "text/plain": [
       "Index(['State-01', 'State-02', 'State-03', 'State-04', 'State-05', 'State01',\n",
       "       'State02', 'State03', 'State04', 'State05'],\n",
       "      dtype='object')"
      ]
     },
     "execution_count": 62,
     "metadata": {},
     "output_type": "execute_result"
    }
   ],
   "source": [
    "states.index"
   ]
  },
  {
   "cell_type": "code",
   "execution_count": 64,
   "id": "7b81d5e4-3d08-4a77-aa3e-b7eba468c490",
   "metadata": {},
   "outputs": [
    {
     "data": {
      "text/plain": [
       "Index(['population', 'area'], dtype='object')"
      ]
     },
     "execution_count": 64,
     "metadata": {},
     "output_type": "execute_result"
    }
   ],
   "source": [
    "states.columns"
   ]
  },
  {
   "cell_type": "code",
   "execution_count": 65,
   "id": "ee165660-d41e-41ce-b3d0-410cde48cad5",
   "metadata": {},
   "outputs": [
    {
     "data": {
      "text/plain": [
       "State-01    1.241241e+10\n",
       "State-02    9.088949e+11\n",
       "State-03    9.192838e+09\n",
       "State-04    4.516512e+06\n",
       "State-05    6.776128e+10\n",
       "State01              NaN\n",
       "State02              NaN\n",
       "State03              NaN\n",
       "State04              NaN\n",
       "State05              NaN\n",
       "Name: area, dtype: float64"
      ]
     },
     "execution_count": 65,
     "metadata": {},
     "output_type": "execute_result"
    }
   ],
   "source": [
    "states['area']"
   ]
  },
  {
   "cell_type": "code",
   "execution_count": null,
   "id": "1c11c542-c0f5-4857-b189-5469c9d51842",
   "metadata": {},
   "outputs": [],
   "source": []
  },
  {
   "cell_type": "code",
   "execution_count": 67,
   "id": "50545047-dc8a-4f33-935e-362473378170",
   "metadata": {},
   "outputs": [
    {
     "data": {
      "text/html": [
       "<div>\n",
       "<style scoped>\n",
       "    .dataframe tbody tr th:only-of-type {\n",
       "        vertical-align: middle;\n",
       "    }\n",
       "\n",
       "    .dataframe tbody tr th {\n",
       "        vertical-align: top;\n",
       "    }\n",
       "\n",
       "    .dataframe thead th {\n",
       "        text-align: right;\n",
       "    }\n",
       "</style>\n",
       "<table border=\"1\" class=\"dataframe\">\n",
       "  <thead>\n",
       "    <tr style=\"text-align: right;\">\n",
       "      <th></th>\n",
       "      <th>population</th>\n",
       "    </tr>\n",
       "  </thead>\n",
       "  <tbody>\n",
       "    <tr>\n",
       "      <th>State01</th>\n",
       "      <td>12412412421</td>\n",
       "    </tr>\n",
       "    <tr>\n",
       "      <th>State02</th>\n",
       "      <td>908894923842</td>\n",
       "    </tr>\n",
       "    <tr>\n",
       "      <th>State03</th>\n",
       "      <td>9192838213</td>\n",
       "    </tr>\n",
       "    <tr>\n",
       "      <th>State04</th>\n",
       "      <td>4516512</td>\n",
       "    </tr>\n",
       "    <tr>\n",
       "      <th>State05</th>\n",
       "      <td>67761277261</td>\n",
       "    </tr>\n",
       "  </tbody>\n",
       "</table>\n",
       "</div>"
      ],
      "text/plain": [
       "           population\n",
       "State01   12412412421\n",
       "State02  908894923842\n",
       "State03    9192838213\n",
       "State04       4516512\n",
       "State05   67761277261"
      ]
     },
     "execution_count": 67,
     "metadata": {},
     "output_type": "execute_result"
    }
   ],
   "source": [
    "pd.DataFrame(population, columns=['population'])"
   ]
  },
  {
   "cell_type": "code",
   "execution_count": 70,
   "id": "fd8d2853-3585-4e79-aa3f-62d16a4c13e0",
   "metadata": {},
   "outputs": [
    {
     "data": {
      "text/html": [
       "<div>\n",
       "<style scoped>\n",
       "    .dataframe tbody tr th:only-of-type {\n",
       "        vertical-align: middle;\n",
       "    }\n",
       "\n",
       "    .dataframe tbody tr th {\n",
       "        vertical-align: top;\n",
       "    }\n",
       "\n",
       "    .dataframe thead th {\n",
       "        text-align: right;\n",
       "    }\n",
       "</style>\n",
       "<table border=\"1\" class=\"dataframe\">\n",
       "  <thead>\n",
       "    <tr style=\"text-align: right;\">\n",
       "      <th></th>\n",
       "      <th>a</th>\n",
       "      <th>b</th>\n",
       "    </tr>\n",
       "  </thead>\n",
       "  <tbody>\n",
       "    <tr>\n",
       "      <th>0</th>\n",
       "      <td>1</td>\n",
       "      <td>6</td>\n",
       "    </tr>\n",
       "    <tr>\n",
       "      <th>1</th>\n",
       "      <td>1</td>\n",
       "      <td>6</td>\n",
       "    </tr>\n",
       "    <tr>\n",
       "      <th>2</th>\n",
       "      <td>1</td>\n",
       "      <td>6</td>\n",
       "    </tr>\n",
       "  </tbody>\n",
       "</table>\n",
       "</div>"
      ],
      "text/plain": [
       "   a  b\n",
       "0  1  6\n",
       "1  1  6\n",
       "2  1  6"
      ]
     },
     "execution_count": 70,
     "metadata": {},
     "output_type": "execute_result"
    }
   ],
   "source": [
    "data = [{'a': 1, 'b':2 *3 }\n",
    "       for i in range(3)]\n",
    "pd.DataFrame(data)"
   ]
  },
  {
   "cell_type": "code",
   "execution_count": 72,
   "id": "ecba3ec0-f55a-4e23-b663-cfa24bdabf6e",
   "metadata": {},
   "outputs": [
    {
     "data": {
      "text/html": [
       "<div>\n",
       "<style scoped>\n",
       "    .dataframe tbody tr th:only-of-type {\n",
       "        vertical-align: middle;\n",
       "    }\n",
       "\n",
       "    .dataframe tbody tr th {\n",
       "        vertical-align: top;\n",
       "    }\n",
       "\n",
       "    .dataframe thead th {\n",
       "        text-align: right;\n",
       "    }\n",
       "</style>\n",
       "<table border=\"1\" class=\"dataframe\">\n",
       "  <thead>\n",
       "    <tr style=\"text-align: right;\">\n",
       "      <th></th>\n",
       "      <th>a</th>\n",
       "      <th>b</th>\n",
       "      <th>c</th>\n",
       "    </tr>\n",
       "  </thead>\n",
       "  <tbody>\n",
       "    <tr>\n",
       "      <th>0</th>\n",
       "      <td>1.0</td>\n",
       "      <td>2</td>\n",
       "      <td>NaN</td>\n",
       "    </tr>\n",
       "    <tr>\n",
       "      <th>1</th>\n",
       "      <td>NaN</td>\n",
       "      <td>3</td>\n",
       "      <td>4</td>\n",
       "    </tr>\n",
       "  </tbody>\n",
       "</table>\n",
       "</div>"
      ],
      "text/plain": [
       "     a  b    c\n",
       "0  1.0  2  NaN\n",
       "1  NaN  3    4"
      ]
     },
     "execution_count": 72,
     "metadata": {},
     "output_type": "execute_result"
    }
   ],
   "source": [
    "pd.DataFrame([{'a':1 , 'b': 2} , {'b': 3, 'c': '4'} ])"
   ]
  },
  {
   "cell_type": "code",
   "execution_count": 76,
   "id": "fb542706-b087-4eba-8cfe-efec1c4df6d4",
   "metadata": {},
   "outputs": [
    {
     "data": {
      "text/html": [
       "<div>\n",
       "<style scoped>\n",
       "    .dataframe tbody tr th:only-of-type {\n",
       "        vertical-align: middle;\n",
       "    }\n",
       "\n",
       "    .dataframe tbody tr th {\n",
       "        vertical-align: top;\n",
       "    }\n",
       "\n",
       "    .dataframe thead th {\n",
       "        text-align: right;\n",
       "    }\n",
       "</style>\n",
       "<table border=\"1\" class=\"dataframe\">\n",
       "  <thead>\n",
       "    <tr style=\"text-align: right;\">\n",
       "      <th></th>\n",
       "      <th>population</th>\n",
       "      <th>area</th>\n",
       "    </tr>\n",
       "  </thead>\n",
       "  <tbody>\n",
       "    <tr>\n",
       "      <th>State-01</th>\n",
       "      <td>12412412421</td>\n",
       "      <td>192951925</td>\n",
       "    </tr>\n",
       "    <tr>\n",
       "      <th>State-02</th>\n",
       "      <td>908894923842</td>\n",
       "      <td>2154512</td>\n",
       "    </tr>\n",
       "    <tr>\n",
       "      <th>State-03</th>\n",
       "      <td>9192838213</td>\n",
       "      <td>3323919</td>\n",
       "    </tr>\n",
       "    <tr>\n",
       "      <th>State-04</th>\n",
       "      <td>4516512</td>\n",
       "      <td>99019292</td>\n",
       "    </tr>\n",
       "    <tr>\n",
       "      <th>State-05</th>\n",
       "      <td>67761277261</td>\n",
       "      <td>4585812</td>\n",
       "    </tr>\n",
       "  </tbody>\n",
       "</table>\n",
       "</div>"
      ],
      "text/plain": [
       "            population       area\n",
       "State-01   12412412421  192951925\n",
       "State-02  908894923842    2154512\n",
       "State-03    9192838213    3323919\n",
       "State-04       4516512   99019292\n",
       "State-05   67761277261    4585812"
      ]
     },
     "execution_count": 76,
     "metadata": {},
     "output_type": "execute_result"
    }
   ],
   "source": [
    "pd.DataFrame({'population':population_dict,\n",
    "             'area':area_dict})"
   ]
  },
  {
   "cell_type": "code",
   "execution_count": 79,
   "id": "cff4497f-05d4-4080-baa7-99700a3f06d3",
   "metadata": {},
   "outputs": [
    {
     "data": {
      "text/html": [
       "<div>\n",
       "<style scoped>\n",
       "    .dataframe tbody tr th:only-of-type {\n",
       "        vertical-align: middle;\n",
       "    }\n",
       "\n",
       "    .dataframe tbody tr th {\n",
       "        vertical-align: top;\n",
       "    }\n",
       "\n",
       "    .dataframe thead th {\n",
       "        text-align: right;\n",
       "    }\n",
       "</style>\n",
       "<table border=\"1\" class=\"dataframe\">\n",
       "  <thead>\n",
       "    <tr style=\"text-align: right;\">\n",
       "      <th></th>\n",
       "      <th>foo</th>\n",
       "      <th>bar</th>\n",
       "    </tr>\n",
       "  </thead>\n",
       "  <tbody>\n",
       "    <tr>\n",
       "      <th>a</th>\n",
       "      <td>0.079123</td>\n",
       "      <td>0.411651</td>\n",
       "    </tr>\n",
       "    <tr>\n",
       "      <th>b</th>\n",
       "      <td>0.011064</td>\n",
       "      <td>0.340847</td>\n",
       "    </tr>\n",
       "    <tr>\n",
       "      <th>c</th>\n",
       "      <td>0.226407</td>\n",
       "      <td>0.163821</td>\n",
       "    </tr>\n",
       "  </tbody>\n",
       "</table>\n",
       "</div>"
      ],
      "text/plain": [
       "        foo       bar\n",
       "a  0.079123  0.411651\n",
       "b  0.011064  0.340847\n",
       "c  0.226407  0.163821"
      ]
     },
     "execution_count": 79,
     "metadata": {},
     "output_type": "execute_result"
    }
   ],
   "source": [
    "pd.DataFrame(np.random.rand(3,2), \n",
    "             columns=['foo','bar'],\n",
    "             index=['a','b','c'])"
   ]
  },
  {
   "cell_type": "code",
   "execution_count": 85,
   "id": "accf3eb3-585e-4efa-9e12-ac0e31ede22c",
   "metadata": {},
   "outputs": [
    {
     "data": {
      "text/plain": [
       "array([(0, 0.), (0, 0.), (0, 0.)], dtype=[('A', '<i8'), ('B', '<f8')])"
      ]
     },
     "execution_count": 85,
     "metadata": {},
     "output_type": "execute_result"
    }
   ],
   "source": [
    "A = np.zeros(3, dtype=[('A', 'i8'), ('B','f8')])\n",
    "A"
   ]
  },
  {
   "cell_type": "code",
   "execution_count": 86,
   "id": "c1258f0c-c635-4321-8a58-63a10f2377e0",
   "metadata": {},
   "outputs": [
    {
     "data": {
      "text/html": [
       "<div>\n",
       "<style scoped>\n",
       "    .dataframe tbody tr th:only-of-type {\n",
       "        vertical-align: middle;\n",
       "    }\n",
       "\n",
       "    .dataframe tbody tr th {\n",
       "        vertical-align: top;\n",
       "    }\n",
       "\n",
       "    .dataframe thead th {\n",
       "        text-align: right;\n",
       "    }\n",
       "</style>\n",
       "<table border=\"1\" class=\"dataframe\">\n",
       "  <thead>\n",
       "    <tr style=\"text-align: right;\">\n",
       "      <th></th>\n",
       "      <th>A</th>\n",
       "      <th>B</th>\n",
       "    </tr>\n",
       "  </thead>\n",
       "  <tbody>\n",
       "    <tr>\n",
       "      <th>0</th>\n",
       "      <td>0</td>\n",
       "      <td>0.0</td>\n",
       "    </tr>\n",
       "    <tr>\n",
       "      <th>1</th>\n",
       "      <td>0</td>\n",
       "      <td>0.0</td>\n",
       "    </tr>\n",
       "    <tr>\n",
       "      <th>2</th>\n",
       "      <td>0</td>\n",
       "      <td>0.0</td>\n",
       "    </tr>\n",
       "  </tbody>\n",
       "</table>\n",
       "</div>"
      ],
      "text/plain": [
       "   A    B\n",
       "0  0  0.0\n",
       "1  0  0.0\n",
       "2  0  0.0"
      ]
     },
     "execution_count": 86,
     "metadata": {},
     "output_type": "execute_result"
    }
   ],
   "source": [
    "pd.DataFrame(A)"
   ]
  },
  {
   "cell_type": "code",
   "execution_count": 94,
   "id": "36c7a9cf-076d-467e-8b58-fc9b90637906",
   "metadata": {},
   "outputs": [
    {
     "data": {
      "text/plain": [
       "Index([2, 3, 4, 5, 6, 7, 8, 9], dtype='int64')"
      ]
     },
     "execution_count": 94,
     "metadata": {},
     "output_type": "execute_result"
    }
   ],
   "source": [
    "ind = pd.Index([2,3,4,5,6,7,8,9])\n",
    "ind"
   ]
  },
  {
   "cell_type": "code",
   "execution_count": 89,
   "id": "b7fcf15b-a0c8-4569-a04e-3b2a858cbea2",
   "metadata": {},
   "outputs": [
    {
     "data": {
      "text/plain": [
       "3"
      ]
     },
     "execution_count": 89,
     "metadata": {},
     "output_type": "execute_result"
    }
   ],
   "source": [
    "ind[1]"
   ]
  },
  {
   "cell_type": "code",
   "execution_count": 95,
   "id": "2131b56d-7b56-4ae1-95b0-5e6b6a07f58a",
   "metadata": {},
   "outputs": [
    {
     "data": {
      "text/plain": [
       "Index([2, 4, 6, 8], dtype='int64')"
      ]
     },
     "execution_count": 95,
     "metadata": {},
     "output_type": "execute_result"
    }
   ],
   "source": [
    "ind[::2]"
   ]
  },
  {
   "cell_type": "code",
   "execution_count": 97,
   "id": "11c5f6f6-298e-44a3-9f83-37752062dfd6",
   "metadata": {},
   "outputs": [
    {
     "data": {
      "text/plain": [
       "Index([2, 3, 4], dtype='int64')"
      ]
     },
     "execution_count": 97,
     "metadata": {},
     "output_type": "execute_result"
    }
   ],
   "source": [
    "ind[:3]"
   ]
  },
  {
   "cell_type": "code",
   "execution_count": 103,
   "id": "d19e2f87-b7ad-4051-a59a-d076bf01fd71",
   "metadata": {},
   "outputs": [
    {
     "name": "stdout",
     "output_type": "stream",
     "text": [
      "8 (8,) 1 int64\n"
     ]
    }
   ],
   "source": [
    "print(ind.size, ind.shape , ind.ndim , ind.dtype)"
   ]
  },
  {
   "cell_type": "code",
   "execution_count": null,
   "id": "90bf4bbb-a061-491a-9fca-8c3d30816afb",
   "metadata": {},
   "outputs": [],
   "source": []
  },
  {
   "cell_type": "code",
   "execution_count": null,
   "id": "cb90f1a0-d6af-463a-92e8-7510afcee8eb",
   "metadata": {},
   "outputs": [],
   "source": []
  },
  {
   "cell_type": "code",
   "execution_count": null,
   "id": "949788c4-a171-4106-997d-c217da496207",
   "metadata": {},
   "outputs": [],
   "source": []
  }
 ],
 "metadata": {
  "kernelspec": {
   "display_name": "Python 3 (ipykernel)",
   "language": "python",
   "name": "python3"
  },
  "language_info": {
   "codemirror_mode": {
    "name": "ipython",
    "version": 3
   },
   "file_extension": ".py",
   "mimetype": "text/x-python",
   "name": "python",
   "nbconvert_exporter": "python",
   "pygments_lexer": "ipython3",
   "version": "3.12.3"
  }
 },
 "nbformat": 4,
 "nbformat_minor": 5
}
