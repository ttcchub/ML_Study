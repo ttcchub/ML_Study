{
 "cells": [
  {
   "cell_type": "code",
   "execution_count": 2,
   "id": "91b8bcef-3567-4f85-89d6-a0ba779aefed",
   "metadata": {},
   "outputs": [],
   "source": [
    "## Chapter ## 9"
   ]
  },
  {
   "cell_type": "code",
   "execution_count": 5,
   "id": "b922020a-444d-4bdd-a01b-cb3d01834fd7",
   "metadata": {},
   "outputs": [],
   "source": [
    "import numpy as np\n"
   ]
  },
  {
   "cell_type": "code",
   "execution_count": 6,
   "id": "c3b4143a-8a78-437c-95ad-8a5e0687583e",
   "metadata": {},
   "outputs": [
    {
     "data": {
      "text/plain": [
       "array([[9, 4, 0, 3],\n",
       "       [8, 6, 3, 1],\n",
       "       [3, 7, 4, 0]])"
      ]
     },
     "execution_count": 6,
     "metadata": {},
     "output_type": "execute_result"
    }
   ],
   "source": [
    "rng = np.random.default_rng(seed=1701)\n",
    "x = rng.integers(10, size=(3,4))\n",
    "x"
   ]
  },
  {
   "cell_type": "code",
   "execution_count": 7,
   "id": "7a548197-b7a6-4649-9007-3de91ed82f9c",
   "metadata": {},
   "outputs": [
    {
     "data": {
      "text/plain": [
       "array([[False,  True,  True,  True],\n",
       "       [False, False,  True,  True],\n",
       "       [ True, False,  True,  True]])"
      ]
     },
     "execution_count": 7,
     "metadata": {},
     "output_type": "execute_result"
    }
   ],
   "source": [
    "x < 6"
   ]
  },
  {
   "cell_type": "code",
   "execution_count": 8,
   "id": "6515001a-1284-4ba5-a4d7-ee444534b480",
   "metadata": {},
   "outputs": [
    {
     "data": {
      "text/plain": [
       "8"
      ]
     },
     "execution_count": 8,
     "metadata": {},
     "output_type": "execute_result"
    }
   ],
   "source": [
    "np.count_nonzero(x<6)"
   ]
  },
  {
   "cell_type": "code",
   "execution_count": 10,
   "id": "3a55559f-d774-4ad6-8bf0-b379b90c13ea",
   "metadata": {},
   "outputs": [
    {
     "data": {
      "text/plain": [
       "8"
      ]
     },
     "execution_count": 10,
     "metadata": {},
     "output_type": "execute_result"
    }
   ],
   "source": [
    "np.sum(x<6)"
   ]
  },
  {
   "cell_type": "code",
   "execution_count": 11,
   "id": "b2f061d4-64ed-419a-9cee-990ce1a03fe1",
   "metadata": {},
   "outputs": [
    {
     "data": {
      "text/plain": [
       "array([3, 2, 3])"
      ]
     },
     "execution_count": 11,
     "metadata": {},
     "output_type": "execute_result"
    }
   ],
   "source": [
    "np.sum(x<6,axis=1)"
   ]
  },
  {
   "cell_type": "code",
   "execution_count": 12,
   "id": "76af71ee-821e-477f-bb31-0947a689d96b",
   "metadata": {},
   "outputs": [
    {
     "data": {
      "text/plain": [
       "True"
      ]
     },
     "execution_count": 12,
     "metadata": {},
     "output_type": "execute_result"
    }
   ],
   "source": [
    "np.any(x<8)"
   ]
  },
  {
   "cell_type": "code",
   "execution_count": 13,
   "id": "b343f451-822e-4015-924f-970995c0b84a",
   "metadata": {},
   "outputs": [
    {
     "data": {
      "text/plain": [
       "False"
      ]
     },
     "execution_count": 13,
     "metadata": {},
     "output_type": "execute_result"
    }
   ],
   "source": [
    "np.any(x<0)"
   ]
  },
  {
   "cell_type": "code",
   "execution_count": 19,
   "id": "c21add87-e0fc-4c3a-b994-749ccbcfeaa7",
   "metadata": {},
   "outputs": [
    {
     "data": {
      "text/plain": [
       "True"
      ]
     },
     "execution_count": 19,
     "metadata": {},
     "output_type": "execute_result"
    }
   ],
   "source": [
    "np.all(x<10)"
   ]
  },
  {
   "cell_type": "code",
   "execution_count": 20,
   "id": "aba109ba-d08e-4c37-8a31-03b0a0451906",
   "metadata": {},
   "outputs": [
    {
     "data": {
      "text/plain": [
       "False"
      ]
     },
     "execution_count": 20,
     "metadata": {},
     "output_type": "execute_result"
    }
   ],
   "source": [
    "np.all(x==6)"
   ]
  },
  {
   "cell_type": "code",
   "execution_count": 21,
   "id": "9f7ff11a-986d-4db4-b599-c7e4d0aaf425",
   "metadata": {},
   "outputs": [
    {
     "data": {
      "text/plain": [
       "array([False, False,  True])"
      ]
     },
     "execution_count": 21,
     "metadata": {},
     "output_type": "execute_result"
    }
   ],
   "source": [
    "np.all(x<8, axis =1 )"
   ]
  },
  {
   "cell_type": "code",
   "execution_count": null,
   "id": "5d7ab2bc-0a3b-4817-a5c4-4a2bb25f6c6b",
   "metadata": {},
   "outputs": [],
   "source": []
  },
  {
   "cell_type": "code",
   "execution_count": 49,
   "id": "b28080b5-caf7-4923-b68c-f60a0e55e94a",
   "metadata": {},
   "outputs": [
    {
     "data": {
      "text/plain": [
       "0"
      ]
     },
     "execution_count": 49,
     "metadata": {},
     "output_type": "execute_result"
    }
   ],
   "source": [
    "rainfall_mm = 1\n",
    "\n",
    "np.sum((rainfall_mm>10)&(rainfall_mm<20))"
   ]
  },
  {
   "cell_type": "code",
   "execution_count": 50,
   "id": "1adf0dc6-6f59-4a0d-bba9-c876a72d0003",
   "metadata": {},
   "outputs": [
    {
     "data": {
      "text/plain": [
       "True"
      ]
     },
     "execution_count": 50,
     "metadata": {},
     "output_type": "execute_result"
    }
   ],
   "source": [
    "rainfall_mm > (10&rainfall_mm) < 20"
   ]
  },
  {
   "cell_type": "code",
   "execution_count": 51,
   "id": "bcbf49e6-a42e-43d6-984c-28616c7cada2",
   "metadata": {},
   "outputs": [
    {
     "name": "stderr",
     "output_type": "stream",
     "text": [
      "/var/folders/w_/x158hy914jv595q6kdm333n80000gn/T/ipykernel_66260/3764210150.py:1: DeprecationWarning: Bitwise inversion '~' on bool is deprecated. This returns the bitwise inversion of the underlying int object and is usually not what you expect from negating a bool. Use the 'not' operator for boolean negation or ~int(x) if you really want the bitwise inversion of the underlying int.\n",
      "  np.sum(~( (rainfall_mm<=10)|(rainfall_mm>=20) ))\n"
     ]
    },
    {
     "data": {
      "text/plain": [
       "-2"
      ]
     },
     "execution_count": 51,
     "metadata": {},
     "output_type": "execute_result"
    }
   ],
   "source": [
    "np.sum(~( (rainfall_mm<=10)|(rainfall_mm>=20) ))"
   ]
  },
  {
   "cell_type": "code",
   "execution_count": 52,
   "id": "0853eab8-14a8-4acb-a359-68107cd1d063",
   "metadata": {},
   "outputs": [
    {
     "data": {
      "text/plain": [
       "0"
      ]
     },
     "execution_count": 52,
     "metadata": {},
     "output_type": "execute_result"
    }
   ],
   "source": [
    "np.sum(np.logical_not((rainfall_mm <= 10) | (rainfall_mm >= 20)))"
   ]
  },
  {
   "cell_type": "code",
   "execution_count": 53,
   "id": "7b35ee38-9593-45bb-addc-5247467b2492",
   "metadata": {},
   "outputs": [
    {
     "data": {
      "text/plain": [
       "array([[9, 4, 0, 3],\n",
       "       [8, 6, 3, 1],\n",
       "       [3, 7, 4, 0]])"
      ]
     },
     "execution_count": 53,
     "metadata": {},
     "output_type": "execute_result"
    }
   ],
   "source": [
    "x"
   ]
  },
  {
   "cell_type": "code",
   "execution_count": 54,
   "id": "9cf67cc8-f229-4580-8f24-2417fe4f4f25",
   "metadata": {},
   "outputs": [
    {
     "data": {
      "text/plain": [
       "array([[False,  True,  True,  True],\n",
       "       [False, False,  True,  True],\n",
       "       [ True, False,  True,  True]])"
      ]
     },
     "execution_count": 54,
     "metadata": {},
     "output_type": "execute_result"
    }
   ],
   "source": [
    "x<5"
   ]
  },
  {
   "cell_type": "code",
   "execution_count": 55,
   "id": "45a3df6e-a3a6-492e-bd51-2ac5b72732fd",
   "metadata": {},
   "outputs": [
    {
     "data": {
      "text/plain": [
       "array([4, 0, 3, 3, 1, 3, 4, 0])"
      ]
     },
     "execution_count": 55,
     "metadata": {},
     "output_type": "execute_result"
    }
   ],
   "source": [
    "x[x<5]"
   ]
  },
  {
   "cell_type": "code",
   "execution_count": 83,
   "id": "a1c08e6f-308d-49f8-a4b1-bb72fc6d0710",
   "metadata": {},
   "outputs": [],
   "source": [
    "rainy = (rainfall_mm >0 )\n",
    "days=np.arange(365)\n",
    "summer=(days>172)&(days<262)"
   ]
  },
  {
   "cell_type": "code",
   "execution_count": 88,
   "id": "9c4be6e4-fda2-48bb-a5a9-a585961454d4",
   "metadata": {},
   "outputs": [
    {
     "name": "stdout",
     "output_type": "stream",
     "text": [
      "Median on rainy for 2015 (mm):  24.689460814358625\n",
      "Median on summer for 2015 (mm):  26.17779929720008\n",
      "Maximum on summer for 2015 (mm):  49.87423936707667\n",
      "Median rainfall for 2015 (mm):  24.27143383281885\n"
     ]
    }
   ],
   "source": [
    "\n",
    "print(\"Median on rainy for 2015 (mm): \", np.median(rainfall_mm[rainy]))\n",
    "\n",
    "print(\"Median on summer for 2015 (mm): \", np.median(rainfall_mm[summer]))\n",
    "\n",
    "print(\"Maximum on summer for 2015 (mm): \", np.max(rainfall_mm[summer]))\n",
    "\n",
    "print(\"Median rainfall for 2015 (mm): \", np.median(rainfall_mm[rainy & ~summer]))"
   ]
  },
  {
   "cell_type": "code",
   "execution_count": 90,
   "id": "d1c604b1-b36f-4a34-9892-e4963f235940",
   "metadata": {},
   "outputs": [
    {
     "data": {
      "text/plain": [
       "(True, False)"
      ]
     },
     "execution_count": 90,
     "metadata": {},
     "output_type": "execute_result"
    }
   ],
   "source": [
    "bool(42), bool(0)"
   ]
  },
  {
   "cell_type": "code",
   "execution_count": 91,
   "id": "4eecd247-bbe4-4bdd-abd9-8abdbf650b1c",
   "metadata": {},
   "outputs": [
    {
     "data": {
      "text/plain": [
       "False"
      ]
     },
     "execution_count": 91,
     "metadata": {},
     "output_type": "execute_result"
    }
   ],
   "source": [
    "bool(42 and 0)"
   ]
  },
  {
   "cell_type": "code",
   "execution_count": 92,
   "id": "10cf0a99-c6ff-4099-b7dd-902432d1bba9",
   "metadata": {},
   "outputs": [
    {
     "data": {
      "text/plain": [
       "True"
      ]
     },
     "execution_count": 92,
     "metadata": {},
     "output_type": "execute_result"
    }
   ],
   "source": [
    "bool(42 or 0)"
   ]
  },
  {
   "cell_type": "code",
   "execution_count": 93,
   "id": "b86b36d7-f283-4e10-9683-b6a572f81719",
   "metadata": {},
   "outputs": [
    {
     "data": {
      "text/plain": [
       "'0b101010'"
      ]
     },
     "execution_count": 93,
     "metadata": {},
     "output_type": "execute_result"
    }
   ],
   "source": [
    "bin(42)"
   ]
  },
  {
   "cell_type": "code",
   "execution_count": 94,
   "id": "3c1b5ab3-7987-4c3f-8f53-a1c2fe61e527",
   "metadata": {},
   "outputs": [
    {
     "data": {
      "text/plain": [
       "'0b111011'"
      ]
     },
     "execution_count": 94,
     "metadata": {},
     "output_type": "execute_result"
    }
   ],
   "source": [
    "bin(59)"
   ]
  },
  {
   "cell_type": "code",
   "execution_count": 95,
   "id": "158fb950-42e2-4921-a319-dba2d4045920",
   "metadata": {},
   "outputs": [
    {
     "data": {
      "text/plain": [
       "'0b101010'"
      ]
     },
     "execution_count": 95,
     "metadata": {},
     "output_type": "execute_result"
    }
   ],
   "source": [
    "bin(42&59)"
   ]
  },
  {
   "cell_type": "code",
   "execution_count": 96,
   "id": "36e0de4f-4530-4714-8f26-ac95f208362f",
   "metadata": {},
   "outputs": [
    {
     "data": {
      "text/plain": [
       "'0b111011'"
      ]
     },
     "execution_count": 96,
     "metadata": {},
     "output_type": "execute_result"
    }
   ],
   "source": [
    "bin(42|59)"
   ]
  },
  {
   "cell_type": "code",
   "execution_count": 102,
   "id": "b567fa7e-2343-4093-99ca-fd975597509c",
   "metadata": {},
   "outputs": [
    {
     "data": {
      "text/plain": [
       "array([ True,  True,  True,  True, False])"
      ]
     },
     "execution_count": 102,
     "metadata": {},
     "output_type": "execute_result"
    }
   ],
   "source": [
    "A = np.array([1,0,1,1,0], dtype=bool)\n",
    "B = np.array([1,1,1,1,0], dtype=bool)\n",
    "\n",
    "A|B"
   ]
  },
  {
   "cell_type": "code",
   "execution_count": 109,
   "id": "fb82e372-3cd7-42c6-adde-17e2b1e0d00c",
   "metadata": {},
   "outputs": [
    {
     "data": {
      "text/plain": [
       "array([False, False, False, False, False,  True,  True,  True, False,\n",
       "       False, False, False, False, False, False, False, False, False])"
      ]
     },
     "execution_count": 109,
     "metadata": {},
     "output_type": "execute_result"
    }
   ],
   "source": [
    "x = np.arange(18)\n",
    "(x>4)&(x<8)"
   ]
  },
  {
   "cell_type": "code",
   "execution_count": 112,
   "id": "11f7e734-bfac-49f6-a9b1-5432a2b9a4a2",
   "metadata": {},
   "outputs": [],
   "source": [
    "In[40]: (x>4)&(x<8)"
   ]
  },
  {
   "cell_type": "code",
   "execution_count": null,
   "id": "2d1975d7-27bd-4ea5-8f7e-d628e3a92c9c",
   "metadata": {},
   "outputs": [],
   "source": []
  },
  {
   "cell_type": "code",
   "execution_count": null,
   "id": "6df00b2b-8e08-410f-b36a-4bf42a8cccd2",
   "metadata": {},
   "outputs": [],
   "source": []
  },
  {
   "cell_type": "code",
   "execution_count": null,
   "id": "dab9838b-c070-4021-8a25-54fccef5ea48",
   "metadata": {},
   "outputs": [],
   "source": []
  },
  {
   "cell_type": "code",
   "execution_count": null,
   "id": "5d4e4472-bbd0-4980-bb3c-5f7879f492cc",
   "metadata": {},
   "outputs": [],
   "source": []
  },
  {
   "cell_type": "code",
   "execution_count": null,
   "id": "43625fe2-ed0e-42fc-a145-6ef48bf886da",
   "metadata": {},
   "outputs": [],
   "source": []
  },
  {
   "cell_type": "code",
   "execution_count": null,
   "id": "393c9684-97b3-4257-bd2c-bdda614ef07c",
   "metadata": {},
   "outputs": [],
   "source": []
  },
  {
   "cell_type": "code",
   "execution_count": null,
   "id": "e4e71d38-4bbf-41fa-ad18-0cbfc5a1ebfc",
   "metadata": {},
   "outputs": [],
   "source": []
  },
  {
   "cell_type": "code",
   "execution_count": null,
   "id": "66c1e122-84e7-4b0d-b014-9d4d2abfd57b",
   "metadata": {},
   "outputs": [],
   "source": []
  }
 ],
 "metadata": {
  "kernelspec": {
   "display_name": "Python 3 (ipykernel)",
   "language": "python",
   "name": "python3"
  },
  "language_info": {
   "codemirror_mode": {
    "name": "ipython",
    "version": 3
   },
   "file_extension": ".py",
   "mimetype": "text/x-python",
   "name": "python",
   "nbconvert_exporter": "python",
   "pygments_lexer": "ipython3",
   "version": "3.12.3"
  }
 },
 "nbformat": 4,
 "nbformat_minor": 5
}
